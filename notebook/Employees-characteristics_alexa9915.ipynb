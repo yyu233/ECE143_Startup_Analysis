{
 "cells": [
  {
   "cell_type": "code",
   "execution_count": 1,
   "id": "d88b8cf7",
   "metadata": {},
   "outputs": [],
   "source": [
    "import pandas as pd\n",
    "import numpy as np\n",
    "import matplotlib.pyplot as plt\n",
    "import seaborn as sns\n",
    "import warnings\n",
    "warnings.filterwarnings('ignore')"
   ]
  },
  {
   "cell_type": "code",
   "execution_count": 3,
   "id": "9fcd3d2d",
   "metadata": {},
   "outputs": [],
   "source": [
    "data = pd.read_csv(\"CAX_Startup_Data.csv\")"
   ]
  },
  {
   "cell_type": "code",
   "execution_count": 4,
   "id": "2a9f4409",
   "metadata": {
    "scrolled": false
   },
   "outputs": [
    {
     "data": {
      "text/plain": [
       "<bound method DataFrame.info of     Company_Name Dependent-Company Status year of founding  \\\n",
       "0       Company1                  Success          No Info   \n",
       "1       Company2                  Success             2011   \n",
       "2       Company3                  Success             2011   \n",
       "3       Company4                  Success             2009   \n",
       "4       Company5                  Success             2010   \n",
       "..           ...                      ...              ...   \n",
       "467   Company468                   Failed             2011   \n",
       "468   Company469                   Failed          No Info   \n",
       "469   Company470                   Failed             2010   \n",
       "470   Company471                   Failed             2009   \n",
       "471   Company472                   Failed             2013   \n",
       "\n",
       "    Age of company in years  Internet Activity Score  \\\n",
       "0                   No Info                     -1.0   \n",
       "1                         3                    125.0   \n",
       "2                         3                    455.0   \n",
       "3                         5                    -99.0   \n",
       "4                         4                    496.0   \n",
       "..                      ...                      ...   \n",
       "467                       3                     -5.0   \n",
       "468                     NaN                      NaN   \n",
       "469                       4                      0.0   \n",
       "470                       5                      0.0   \n",
       "471                       1                     11.0   \n",
       "\n",
       "        Short Description of company profile  \\\n",
       "0                         Video distribution   \n",
       "1                                        NaN   \n",
       "2                   Event Data Analytics API   \n",
       "3     The most advanced analytics for mobile   \n",
       "4      The Location-Based Marketing Platform   \n",
       "..                                       ...   \n",
       "467                           BtoB deal site   \n",
       "468                                      NaN   \n",
       "469         Real Time Social Media Analytics   \n",
       "470    Social Media Publishing and Analytics   \n",
       "471  Customized community health forecasting   \n",
       "\n",
       "                                Industry of company  \\\n",
       "0                                               NaN   \n",
       "1            Market Research|Marketing|Crowdfunding   \n",
       "2    Analytics|Cloud Computing|Software Development   \n",
       "3                                  Mobile|Analytics   \n",
       "4           Analytics|Marketing|Enterprise Software   \n",
       "..                                              ...   \n",
       "467                                      E-Commerce   \n",
       "468                                             NaN   \n",
       "469                            Analytics|E-Commerce   \n",
       "470                             Analytics|Marketing   \n",
       "471                            Analytics|Healthcare   \n",
       "\n",
       "    Focus functions of company  \\\n",
       "0                    operation   \n",
       "1             Marketing, sales   \n",
       "2                   operations   \n",
       "3            Marketing & Sales   \n",
       "4            Marketing & Sales   \n",
       "..                         ...   \n",
       "467                        NaN   \n",
       "468               consumer web   \n",
       "469        CAMPAIGN MANAGEMENT   \n",
       "470       SOCIALMEDIA CAMPAIGN   \n",
       "471         DATA VISUALIZATION   \n",
       "\n",
       "                                             Investors  Employee Count  ...  \\\n",
       "0    KPCB Holdings|Draper Fisher Jurvetson (DFJ)|Kl...             3.0  ...   \n",
       "1                                                  NaN             NaN  ...   \n",
       "2    TechStars|Streamlined Ventures|Amplify Partner...            14.0  ...   \n",
       "3    Michael Birch|Max Levchin|Sequoia Capital|Keit...            45.0  ...   \n",
       "4    DFJ Frontier|Draper Nexus Ventures|Gil Elbaz|A...            39.0  ...   \n",
       "..                                                 ...             ...  ...   \n",
       "467                                                NaN             NaN  ...   \n",
       "468                                                NaN             NaN  ...   \n",
       "469                                                NaN             0.0  ...   \n",
       "470                                                NaN             NaN  ...   \n",
       "471                       David Schafer|Bert Navarrete             NaN  ...   \n",
       "\n",
       "     Percent_skill_Data Science Percent_skill_Business Strategy  \\\n",
       "0                             0                               0   \n",
       "1                   8.823529412                     21.76470588   \n",
       "2                   3.846153846                     17.09401709   \n",
       "3                             0                               0   \n",
       "4                             0                               0   \n",
       "..                          ...                             ...   \n",
       "467                     No Info                         No Info   \n",
       "468                           0                               0   \n",
       "469                     No Info                         No Info   \n",
       "470                     No Info                         No Info   \n",
       "471                     No Info                         No Info   \n",
       "\n",
       "    Percent_skill_Product Management Percent_skill_Sales  \\\n",
       "0                                  0                   0   \n",
       "1                        10.88235294         2.941176471   \n",
       "2                        9.401709402                   0   \n",
       "3                                  0                   0   \n",
       "4                                  0                   0   \n",
       "..                               ...                 ...   \n",
       "467                          No Info             No Info   \n",
       "468                                0                   0   \n",
       "469                          No Info             No Info   \n",
       "470                          No Info             No Info   \n",
       "471                          No Info             No Info   \n",
       "\n",
       "     Percent_skill_Domain Percent_skill_Law Percent_skill_Consulting  \\\n",
       "0                       0                 0                        0   \n",
       "1                       0                 0                        0   \n",
       "2             2.777777778                 0                        0   \n",
       "3                       0                 0                        0   \n",
       "4                       0                 0                        0   \n",
       "..                    ...               ...                      ...   \n",
       "467               No Info           No Info                  No Info   \n",
       "468                     0                 0                        0   \n",
       "469               No Info           No Info                  No Info   \n",
       "470               No Info           No Info                  No Info   \n",
       "471               No Info           No Info                  No Info   \n",
       "\n",
       "    Percent_skill_Finance Percent_skill_Investment  Renown score  \n",
       "0                       0                        0             0  \n",
       "1                       0                        0             8  \n",
       "2                       0                        0             9  \n",
       "3                       0                        0             5  \n",
       "4                       0                        0             6  \n",
       "..                    ...                      ...           ...  \n",
       "467               No Info                  No Info       No Info  \n",
       "468                     0                        0             0  \n",
       "469               No Info                  No Info       No Info  \n",
       "470               No Info                  No Info       No Info  \n",
       "471               No Info                  No Info       No Info  \n",
       "\n",
       "[472 rows x 116 columns]>"
      ]
     },
     "execution_count": 4,
     "metadata": {},
     "output_type": "execute_result"
    }
   ],
   "source": [
    "data.info"
   ]
  },
  {
   "cell_type": "code",
   "execution_count": 5,
   "id": "9f7cc143",
   "metadata": {},
   "outputs": [
    {
     "data": {
      "text/plain": [
       "0        450000.0\n",
       "1             NaN\n",
       "2       2350000.0\n",
       "3      10250000.0\n",
       "4       5500000.0\n",
       "          ...    \n",
       "467           NaN\n",
       "468           NaN\n",
       "469           NaN\n",
       "470      100000.0\n",
       "471      120000.0\n",
       "Name: Last Funding Amount, Length: 472, dtype: float64"
      ]
     },
     "execution_count": 5,
     "metadata": {},
     "output_type": "execute_result"
    }
   ],
   "source": [
    "lastfundingamount = data['Last Funding Amount']\n",
    "lastfundingamount"
   ]
  },
  {
   "cell_type": "code",
   "execution_count": 6,
   "id": "99250474",
   "metadata": {},
   "outputs": [
    {
     "data": {
      "text/plain": [
       "0       3.0\n",
       "1       NaN\n",
       "2      14.0\n",
       "3      45.0\n",
       "4      39.0\n",
       "       ... \n",
       "467     NaN\n",
       "468     NaN\n",
       "469     0.0\n",
       "470     NaN\n",
       "471     NaN\n",
       "Name: Employee Count, Length: 472, dtype: float64"
      ]
     },
     "execution_count": 6,
     "metadata": {},
     "output_type": "execute_result"
    }
   ],
   "source": [
    "employeecount = data['Employee Count']\n",
    "employeecount"
   ]
  },
  {
   "cell_type": "code",
   "execution_count": 11,
   "id": "3877378c",
   "metadata": {},
   "outputs": [
    {
     "data": {
      "text/plain": [
       "0       0.0\n",
       "1       NaN\n",
       "2       0.0\n",
       "3      10.0\n",
       "4       3.0\n",
       "       ... \n",
       "467     NaN\n",
       "468     NaN\n",
       "469     NaN\n",
       "470     NaN\n",
       "471     NaN\n",
       "Name: Employees count MoM change, Length: 472, dtype: float64"
      ]
     },
     "execution_count": 11,
     "metadata": {},
     "output_type": "execute_result"
    }
   ],
   "source": [
    "employeecountMOM = data['Employees count MoM change']\n",
    "employeecountMOM"
   ]
  },
  {
   "cell_type": "code",
   "execution_count": 12,
   "id": "ab97bd2c",
   "metadata": {},
   "outputs": [
    {
     "data": {
      "text/plain": [
       "0      1\n",
       "1      2\n",
       "2      3\n",
       "3      2\n",
       "4      1\n",
       "      ..\n",
       "467    0\n",
       "468    0\n",
       "469    2\n",
       "470    3\n",
       "471    3\n",
       "Name: Number of Co-founders, Length: 472, dtype: int64"
      ]
     },
     "execution_count": 12,
     "metadata": {},
     "output_type": "execute_result"
    }
   ],
   "source": [
    "cofoundersnum = data['Number of Co-founders']\n",
    "cofoundersnum"
   ]
  },
  {
   "cell_type": "code",
   "execution_count": 15,
   "id": "5e42e282",
   "metadata": {},
   "outputs": [
    {
     "data": {
      "text/plain": [
       "0      2\n",
       "1      0\n",
       "2      0\n",
       "3      0\n",
       "4      1\n",
       "      ..\n",
       "467    0\n",
       "468    0\n",
       "469    0\n",
       "470    2\n",
       "471    0\n",
       "Name: Number of of advisors, Length: 472, dtype: int64"
      ]
     },
     "execution_count": 15,
     "metadata": {},
     "output_type": "execute_result"
    }
   ],
   "source": [
    "advisorsnum = data['Number of of advisors']\n",
    "advisorsnum"
   ]
  },
  {
   "cell_type": "code",
   "execution_count": 17,
   "id": "c6129c6a",
   "metadata": {},
   "outputs": [
    {
     "data": {
      "text/plain": [
       "array(['Company1', 'Company2', 'Company3', 'Company4', 'Company5',\n",
       "       'Company6', 'Company7', 'Company8', 'Company9', 'Company10',\n",
       "       'Company11', 'Company12', 'Company13', 'Company14', 'Company15',\n",
       "       'Company16', 'Company17', 'Company18', 'Company19', 'Company20',\n",
       "       'Company21', 'Company22', 'Company23', 'Company24', 'Company25',\n",
       "       'Company26', 'Company27', 'Company28', 'Company29', 'Company30',\n",
       "       'Company31', 'Company32', 'Company33', 'Company34', 'Company35',\n",
       "       'Company36', 'Company37', 'Company38', 'Company39', 'Company40',\n",
       "       'Company41', 'Company42', 'Company43', 'Company44', 'Company45',\n",
       "       'Company46', 'Company47', 'Company48', 'Company49', 'Company50',\n",
       "       'Company51', 'Company52', 'Company53', 'Company54', 'Company55',\n",
       "       'Company56', 'Company57', 'Company58', 'Company59', 'Company60',\n",
       "       'Company61', 'Company62', 'Company63', 'Company64', 'Company65',\n",
       "       'Company66', 'Company67', 'Company68', 'Company69', 'Company70',\n",
       "       'Company71', 'Company72', 'Company73', 'Company74', 'Company75',\n",
       "       'Company76', 'Company77', 'Company78', 'Company79', 'Company80',\n",
       "       'Company81', 'Company82', 'Company83', 'Company84', 'Company85',\n",
       "       'Company86', 'Company87', 'Company88', 'Company89', 'Company90',\n",
       "       'Company91', 'Company92', 'Company93', 'Company94', 'Company95',\n",
       "       'Company96', 'Company97', 'Company98', 'Company99', 'Company100',\n",
       "       'Company101', 'Company102', 'Company103', 'Company104',\n",
       "       'Company105', 'Company106', 'Company107', 'Company108',\n",
       "       'Company109', 'Company110', 'Company111', 'Company112',\n",
       "       'Company113', 'Company114', 'Company115', 'Company116',\n",
       "       'Company117', 'Company118', 'Company119', 'Company120',\n",
       "       'Company121', 'Company122', 'Company123', 'Company124',\n",
       "       'Company125', 'Company126', 'Company127', 'Company128',\n",
       "       'Company129', 'Company130', 'Company131', 'Company132',\n",
       "       'Company133', 'Company134', 'Company135', 'Company136',\n",
       "       'Company137', 'Company138', 'Company139', 'Company140',\n",
       "       'Company141', 'Company142', 'Company143', 'Company144',\n",
       "       'Company145', 'Company146', 'Company147', 'Company148',\n",
       "       'Company149', 'Company150', 'Company151', 'Company152',\n",
       "       'Company153', 'Company154', 'Company155', 'Company156',\n",
       "       'Company157', 'Company158', 'Company159', 'Company160',\n",
       "       'Company161', 'Company162', 'Company163', 'Company164',\n",
       "       'Company165', 'Company166', 'Company167', 'Company168',\n",
       "       'Company169', 'Company170', 'Company171', 'Company172',\n",
       "       'Company173', 'Company174', 'Company175', 'Company176',\n",
       "       'Company177', 'Company178', 'Company179', 'Company180',\n",
       "       'Company181', 'Company182', 'Company183', 'Company184',\n",
       "       'Company185', 'Company186', 'Company187', 'Company188',\n",
       "       'Company189', 'Company190', 'Company191', 'Company192',\n",
       "       'Company193', 'Company194', 'Company195', 'Company196',\n",
       "       'Company197', 'Company198', 'Company199', 'Company200',\n",
       "       'Company201', 'Company202', 'Company203', 'Company204',\n",
       "       'Company205', 'Company206', 'Company207', 'Company208',\n",
       "       'Company209', 'Company210', 'Company211', 'Company212',\n",
       "       'Company213', 'Company214', 'Company215', 'Company216',\n",
       "       'Company217', 'Company218', 'Company219', 'Company220',\n",
       "       'Company221', 'Company222', 'Company223', 'Company224',\n",
       "       'Company225', 'Company226', 'Company227', 'Company228',\n",
       "       'Company229', 'Company230', 'Company231', 'Company232',\n",
       "       'Company233', 'Company234', 'Company235', 'Company236',\n",
       "       'Company237', 'Company238', 'Company239', 'Company240',\n",
       "       'Company241', 'Company242', 'Company243', 'Company244',\n",
       "       'Company245', 'Company246', 'Company247', 'Company248',\n",
       "       'Company249', 'Company250', 'Company251', 'Company252',\n",
       "       'Company253', 'Company254', 'Company255', 'Company256',\n",
       "       'Company257', 'Company258', 'Company259', 'Company260',\n",
       "       'Company261', 'Company262', 'Company263', 'Company264',\n",
       "       'Company265', 'Company266', 'Company267', 'Company268',\n",
       "       'Company269', 'Company270', 'Company271', 'Company272',\n",
       "       'Company273', 'Company274', 'Company275', 'Company276',\n",
       "       'Company277', 'Company278', 'Company279', 'Company280',\n",
       "       'Company281', 'Company282', 'Company283', 'Company284',\n",
       "       'Company285', 'Company286', 'Company287', 'Company288',\n",
       "       'Company289', 'Company290', 'Company291', 'Company292',\n",
       "       'Company293', 'Company294', 'Company295', 'Company296',\n",
       "       'Company297', 'Company298', 'Company299', 'Company300',\n",
       "       'Company301', 'Company302', 'Company303', 'Company304',\n",
       "       'Company305', 'Company306', 'Company307', 'Company308',\n",
       "       'Company309', 'Company310', 'Company311', 'Company312',\n",
       "       'Company313', 'Company314', 'Company315', 'Company316',\n",
       "       'Company317', 'Company318', 'Company319', 'Company320',\n",
       "       'Company321', 'Company322', 'Company323', 'Company324',\n",
       "       'Company325', 'Company326', 'Company327', 'Company328',\n",
       "       'Company329', 'Company330', 'Company331', 'Company332',\n",
       "       'Company333', 'Company334', 'Company335', 'Company336',\n",
       "       'Company337', 'Company338', 'Company339', 'Company340',\n",
       "       'Company341', 'Company342', 'Company343', 'Company344',\n",
       "       'Company345', 'Company346', 'Company347', 'Company348',\n",
       "       'Company349', 'Company350', 'Company351', 'Company352',\n",
       "       'Company353', 'Company354', 'Company355', 'Company356',\n",
       "       'Company357', 'Company358', 'Company359', 'Company360',\n",
       "       'Company361', 'Company362', 'Company363', 'Company364',\n",
       "       'Company365', 'Company366', 'Company367', 'Company368',\n",
       "       'Company369', 'Company370', 'Company371', 'Company372',\n",
       "       'Company373', 'Company374', 'Company375', 'Company376',\n",
       "       'Company377', 'Company378', 'Company379', 'Company380',\n",
       "       'Company381', 'Company382', 'Company383', 'Company384',\n",
       "       'Company385', 'Company386', 'Company387', 'Company388',\n",
       "       'Company389', 'Company390', 'Company391', 'Company392',\n",
       "       'Company393', 'Company394', 'Company395', 'Company396',\n",
       "       'Company397', 'Company398', 'Company399', 'Company400',\n",
       "       'Company401', 'Company402', 'Company403', 'Company404',\n",
       "       'Company405', 'Company406', 'Company407', 'Company408',\n",
       "       'Company409', 'Company410', 'Company411', 'Company412',\n",
       "       'Company413', 'Company414', 'Company415', 'Company416',\n",
       "       'Company417', 'Company418', 'Company419', 'Company420',\n",
       "       'Company421', 'Company422', 'Company423', 'Company424',\n",
       "       'Company425', 'Company426', 'Company427', 'Company428',\n",
       "       'Company429', 'Company430', 'Company431', 'Company432',\n",
       "       'Company433', 'Company434', 'Company435', 'Company436',\n",
       "       'Company437', 'Company438', 'Company439', 'Company440',\n",
       "       'Company441', 'Company442', 'Company443', 'Company444',\n",
       "       'Company445', 'Company446', 'Company447', 'Company448',\n",
       "       'Company449', 'Company450', 'Company451', 'Company452',\n",
       "       'Company453', 'Company454', 'Company455', 'Company456',\n",
       "       'Company457', 'Company458', 'Company459', 'Company460',\n",
       "       'Company461', 'Company462', 'Company463', 'Company464',\n",
       "       'Company465', 'Company466', 'Company467', 'Company468',\n",
       "       'Company469', 'Company470', 'Company471', 'Company472'],\n",
       "      dtype=object)"
      ]
     },
     "execution_count": 17,
     "metadata": {},
     "output_type": "execute_result"
    }
   ],
   "source": [
    "companys = data['Company_Name']\n",
    "companys.unique()"
   ]
  },
  {
   "cell_type": "code",
   "execution_count": 18,
   "id": "95d296d3",
   "metadata": {},
   "outputs": [
    {
     "data": {
      "text/plain": [
       "0      Success\n",
       "1      Success\n",
       "2      Success\n",
       "3      Success\n",
       "4      Success\n",
       "        ...   \n",
       "467     Failed\n",
       "468     Failed\n",
       "469     Failed\n",
       "470     Failed\n",
       "471     Failed\n",
       "Name: Dependent-Company Status, Length: 472, dtype: object"
      ]
     },
     "execution_count": 18,
     "metadata": {},
     "output_type": "execute_result"
    }
   ],
   "source": [
    "companyStatus = data['Dependent-Company Status']\n",
    "companyStatus"
   ]
  },
  {
   "cell_type": "code",
   "execution_count": 19,
   "id": "5183a202",
   "metadata": {},
   "outputs": [
    {
     "data": {
      "text/plain": [
       "array(['Success', 'Failed'], dtype=object)"
      ]
     },
     "execution_count": 19,
     "metadata": {},
     "output_type": "execute_result"
    }
   ],
   "source": [
    "companyStatus.unique()"
   ]
  },
  {
   "cell_type": "code",
   "execution_count": 20,
   "id": "2834c0aa",
   "metadata": {},
   "outputs": [
    {
     "data": {
      "text/plain": [
       "array([4.5000000e+05,           nan, 2.3500000e+06, 1.0250000e+07,\n",
       "       5.5000000e+06, 1.0000000e+06, 2.0000000e+06, 6.7000000e+06,\n",
       "       1.1000000e+07, 3.0000000e+06, 1.6000000e+07, 6.3000000e+06,\n",
       "       1.1500000e+07, 6.5000000e+06, 2.8000000e+06, 4.1000000e+07,\n",
       "       3.4999990e+06, 1.0000000e+07, 7.5000000e+05, 7.4999900e+05,\n",
       "       5.0000000e+06, 1.5000000e+06, 1.5000000e+07, 1.7000000e+06,\n",
       "       2.5000000e+05, 1.4000000e+06, 1.1000000e+06, 2.0000000e+05,\n",
       "       6.0000000e+05, 2.0000000e+07, 2.8708900e+06, 5.2000000e+06,\n",
       "       7.0000000e+04, 6.0000000e+04, 2.5174240e+06, 1.7500000e+06,\n",
       "       3.0000000e+07, 2.5000000e+07, 4.0000000e+06, 1.3000000e+07,\n",
       "       1.0709010e+06, 3.9000000e+06, 4.1000000e+06, 6.2000000e+04,\n",
       "       1.0000000e+04, 4.2500000e+05, 1.2500000e+05, 3.0000000e+04,\n",
       "       2.5000000e+04, 1.3500000e+05, 1.1000000e+05, 1.3000000e+06,\n",
       "       1.9000000e+06, 8.0000000e+05, 1.8000000e+06, 5.0000000e+04,\n",
       "       7.5000000e+06, 5.0000000e+05, 1.0000000e+05, 1.7500000e+05,\n",
       "       6.5000000e+05, 1.7000000e+07, 3.5000000e+06, 7.0000000e+06,\n",
       "       3.5000000e+07, 9.4000000e+06, 6.1000000e+06, 6.2500000e+07,\n",
       "       2.3000000e+06, 8.0000000e+06, 4.3000000e+07, 4.3000000e+06,\n",
       "       3.7000000e+06, 7.8000000e+06, 6.0000000e+06, 1.8000000e+07,\n",
       "       4.4999990e+06, 2.0000000e+04, 4.2500000e+06, 3.0600000e+07,\n",
       "       2.4000000e+07, 1.0170260e+06, 4.0000000e+05, 5.3500000e+05,\n",
       "       4.5000000e+06, 2.1000000e+07, 4.2000000e+06, 3.1500000e+06,\n",
       "       1.9000000e+07, 4.5000000e+07, 2.5500000e+06, 8.7000000e+06,\n",
       "       5.0896560e+06, 8.5000000e+06, 1.2750000e+07, 6.0000010e+06,\n",
       "       7.9500000e+05, 1.1778004e+07, 1.8000000e+04, 1.5000000e+05,\n",
       "       3.2000000e+06, 1.5500000e+07, 1.2000000e+06, 4.5500000e+05,\n",
       "       8.1000000e+06, 7.1420500e+05, 2.8000000e+04, 3.6000000e+06,\n",
       "       2.1000000e+06, 1.5000000e+04, 4.2000000e+07, 2.7500000e+07,\n",
       "       1.3200000e+07, 9.0000000e+05, 6.2000000e+05, 5.8498800e+05,\n",
       "       1.1800000e+05, 1.3203840e+06, 1.5300000e+06, 2.6692090e+06,\n",
       "       5.9500000e+05, 7.4000000e+06, 1.7300000e+07, 5.6000100e+05,\n",
       "       2.5000000e+06, 2.2000000e+06, 3.7500000e+06, 1.4026520e+06,\n",
       "       1.0250000e+06, 2.7000000e+06, 1.4000000e+07, 2.2500000e+06,\n",
       "       7.7000000e+07, 5.5000000e+07, 6.6000000e+06, 4.7000000e+06,\n",
       "       1.5120660e+06, 2.2000000e+07, 3.3143000e+06, 1.2000000e+04,\n",
       "       1.0660000e+07, 4.4000000e+05, 1.2000000e+05])"
      ]
     },
     "execution_count": 20,
     "metadata": {},
     "output_type": "execute_result"
    }
   ],
   "source": [
    "lastfundingamount.unique()"
   ]
  },
  {
   "cell_type": "code",
   "execution_count": 21,
   "id": "525316ba",
   "metadata": {},
   "outputs": [
    {
     "data": {
      "text/plain": [
       "array([  3.,  nan,  14.,  45.,  39.,   7.,  29.,  16.,  34.,  31.,  47.,\n",
       "        22.,  13., 129.,  23.,  52.,  46.,   5.,  27.,  32., 115.,   9.,\n",
       "        26.,   6.,  57.,  12.,  25.,  35., 267., 594.,  50.,  38.,  24.,\n",
       "        17.,  43.,   2.,  11.,  41.,  18.,  20.,  10.,  28.,   8.,   4.,\n",
       "        21.,  37., 138., 178.,  73., 118.,  79.,   1.,   0.,  19.,  48.,\n",
       "        55., 103.,  36.,  15.,  65.,  30.,  89., 209.,  44.,  83.,  53.,\n",
       "        58., 172., 410., 448.,  95., 297., 104., 244., 197., 168.,  67.,\n",
       "        33.,  71.,  88., 139.,  63.,  92., 128., 170.])"
      ]
     },
     "execution_count": 21,
     "metadata": {},
     "output_type": "execute_result"
    }
   ],
   "source": [
    "employeecount.unique()"
   ]
  },
  {
   "cell_type": "code",
   "execution_count": 22,
   "id": "9417d1e9",
   "metadata": {},
   "outputs": [
    {
     "data": {
      "text/plain": [
       "array([   0.,   nan,   10.,    3.,    8.,  -12.,   45.,    7.,   -4.,\n",
       "          2.,   -7.,    6.,   13.,   20.,   -3.,   23.,   17.,   29.,\n",
       "        -13.,    5.,   11.,    4.,    9.,   -1.,   22.,   -6.,   -2.,\n",
       "       -100.,   -5.,   15.,   12.,   33.,    1.,  -17.,   24.,   14.,\n",
       "         19.,   40.,   25.,  -14.,   50.,  -11.])"
      ]
     },
     "execution_count": 22,
     "metadata": {},
     "output_type": "execute_result"
    }
   ],
   "source": [
    "employeecountMOM.unique()"
   ]
  },
  {
   "cell_type": "code",
   "execution_count": 23,
   "id": "4470f082",
   "metadata": {},
   "outputs": [
    {
     "data": {
      "text/plain": [
       "array([1, 2, 3, 4, 0, 5, 7, 6])"
      ]
     },
     "execution_count": 23,
     "metadata": {},
     "output_type": "execute_result"
    }
   ],
   "source": [
    "cofoundersnum.unique()"
   ]
  },
  {
   "cell_type": "code",
   "execution_count": 24,
   "id": "e99a4658",
   "metadata": {},
   "outputs": [
    {
     "data": {
      "text/plain": [
       "array([ 2,  0,  1,  9,  4,  8,  6,  3, 10, 13,  5,  7, 11])"
      ]
     },
     "execution_count": 24,
     "metadata": {},
     "output_type": "execute_result"
    }
   ],
   "source": [
    "advisorsnum.unique()"
   ]
  },
  {
   "cell_type": "code",
   "execution_count": 25,
   "id": "a4a4e9a2",
   "metadata": {},
   "outputs": [],
   "source": [
    "# now we need to clean the data "
   ]
  },
  {
   "cell_type": "code",
   "execution_count": 26,
   "id": "710e13b3",
   "metadata": {},
   "outputs": [
    {
     "data": {
      "text/plain": [
       "array(['Success', 'Failed'], dtype=object)"
      ]
     },
     "execution_count": 26,
     "metadata": {},
     "output_type": "execute_result"
    }
   ],
   "source": [
    "companyStatus.replace({\"No Info\": np.nan}, inplace=True)\n",
    "companyStatus.unique()"
   ]
  },
  {
   "cell_type": "code",
   "execution_count": 32,
   "id": "f74c9710",
   "metadata": {},
   "outputs": [
    {
     "data": {
      "text/plain": [
       "array([4.5000000e+05,           nan, 2.3500000e+06, 1.0250000e+07,\n",
       "       5.5000000e+06, 1.0000000e+06, 2.0000000e+06, 6.7000000e+06,\n",
       "       1.1000000e+07, 3.0000000e+06, 1.6000000e+07, 6.3000000e+06,\n",
       "       1.1500000e+07, 6.5000000e+06, 2.8000000e+06, 4.1000000e+07,\n",
       "       3.4999990e+06, 1.0000000e+07, 7.5000000e+05, 7.4999900e+05,\n",
       "       5.0000000e+06, 1.5000000e+06, 1.5000000e+07, 1.7000000e+06,\n",
       "       2.5000000e+05, 1.4000000e+06, 1.1000000e+06, 2.0000000e+05,\n",
       "       6.0000000e+05, 2.0000000e+07, 2.8708900e+06, 5.2000000e+06,\n",
       "       7.0000000e+04, 6.0000000e+04, 2.5174240e+06, 1.7500000e+06,\n",
       "       3.0000000e+07, 2.5000000e+07, 4.0000000e+06, 1.3000000e+07,\n",
       "       1.0709010e+06, 3.9000000e+06, 4.1000000e+06, 6.2000000e+04,\n",
       "       1.0000000e+04, 4.2500000e+05, 1.2500000e+05, 3.0000000e+04,\n",
       "       2.5000000e+04, 1.3500000e+05, 1.1000000e+05, 1.3000000e+06,\n",
       "       1.9000000e+06, 8.0000000e+05, 1.8000000e+06, 5.0000000e+04,\n",
       "       7.5000000e+06, 5.0000000e+05, 1.0000000e+05, 1.7500000e+05,\n",
       "       6.5000000e+05, 1.7000000e+07, 3.5000000e+06, 7.0000000e+06,\n",
       "       3.5000000e+07, 9.4000000e+06, 6.1000000e+06, 6.2500000e+07,\n",
       "       2.3000000e+06, 8.0000000e+06, 4.3000000e+07, 4.3000000e+06,\n",
       "       3.7000000e+06, 7.8000000e+06, 6.0000000e+06, 1.8000000e+07,\n",
       "       4.4999990e+06, 2.0000000e+04, 4.2500000e+06, 3.0600000e+07,\n",
       "       2.4000000e+07, 1.0170260e+06, 4.0000000e+05, 5.3500000e+05,\n",
       "       4.5000000e+06, 2.1000000e+07, 4.2000000e+06, 3.1500000e+06,\n",
       "       1.9000000e+07, 4.5000000e+07, 2.5500000e+06, 8.7000000e+06,\n",
       "       5.0896560e+06, 8.5000000e+06, 1.2750000e+07, 6.0000010e+06,\n",
       "       7.9500000e+05, 1.1778004e+07, 1.8000000e+04, 1.5000000e+05,\n",
       "       3.2000000e+06, 1.5500000e+07, 1.2000000e+06, 4.5500000e+05,\n",
       "       8.1000000e+06, 7.1420500e+05, 2.8000000e+04, 3.6000000e+06,\n",
       "       2.1000000e+06, 1.5000000e+04, 4.2000000e+07, 2.7500000e+07,\n",
       "       1.3200000e+07, 9.0000000e+05, 6.2000000e+05, 5.8498800e+05,\n",
       "       1.1800000e+05, 1.3203840e+06, 1.5300000e+06, 2.6692090e+06,\n",
       "       5.9500000e+05, 7.4000000e+06, 1.7300000e+07, 5.6000100e+05,\n",
       "       2.5000000e+06, 2.2000000e+06, 3.7500000e+06, 1.4026520e+06,\n",
       "       1.0250000e+06, 2.7000000e+06, 1.4000000e+07, 2.2500000e+06,\n",
       "       7.7000000e+07, 5.5000000e+07, 6.6000000e+06, 4.7000000e+06,\n",
       "       1.5120660e+06, 2.2000000e+07, 3.3143000e+06, 1.2000000e+04,\n",
       "       1.0660000e+07, 4.4000000e+05, 1.2000000e+05])"
      ]
     },
     "execution_count": 32,
     "metadata": {},
     "output_type": "execute_result"
    }
   ],
   "source": [
    "lastfundingamount.replace({\"No Info\": np.nan}, inplace=True)\n",
    "lastfundingamount =lastfundingamount.astype(float)\n",
    "lastfundingamount.unique()"
   ]
  },
  {
   "cell_type": "code",
   "execution_count": 33,
   "id": "b164ba17",
   "metadata": {},
   "outputs": [
    {
     "data": {
      "text/plain": [
       "array([  3.,  nan,  14.,  45.,  39.,   7.,  29.,  16.,  34.,  31.,  47.,\n",
       "        22.,  13., 129.,  23.,  52.,  46.,   5.,  27.,  32., 115.,   9.,\n",
       "        26.,   6.,  57.,  12.,  25.,  35., 267., 594.,  50.,  38.,  24.,\n",
       "        17.,  43.,   2.,  11.,  41.,  18.,  20.,  10.,  28.,   8.,   4.,\n",
       "        21.,  37., 138., 178.,  73., 118.,  79.,   1.,   0.,  19.,  48.,\n",
       "        55., 103.,  36.,  15.,  65.,  30.,  89., 209.,  44.,  83.,  53.,\n",
       "        58., 172., 410., 448.,  95., 297., 104., 244., 197., 168.,  67.,\n",
       "        33.,  71.,  88., 139.,  63.,  92., 128., 170.])"
      ]
     },
     "execution_count": 33,
     "metadata": {},
     "output_type": "execute_result"
    }
   ],
   "source": [
    "employeecount.replace({\"No Info\": np.nan}, inplace=True)\n",
    "employeecount =employeecount.astype(float)\n",
    "employeecount.unique()"
   ]
  },
  {
   "cell_type": "code",
   "execution_count": 34,
   "id": "a6357011",
   "metadata": {},
   "outputs": [
    {
     "data": {
      "text/plain": [
       "array([   0.,   nan,   10.,    3.,    8.,  -12.,   45.,    7.,   -4.,\n",
       "          2.,   -7.,    6.,   13.,   20.,   -3.,   23.,   17.,   29.,\n",
       "        -13.,    5.,   11.,    4.,    9.,   -1.,   22.,   -6.,   -2.,\n",
       "       -100.,   -5.,   15.,   12.,   33.,    1.,  -17.,   24.,   14.,\n",
       "         19.,   40.,   25.,  -14.,   50.,  -11.])"
      ]
     },
     "execution_count": 34,
     "metadata": {},
     "output_type": "execute_result"
    }
   ],
   "source": [
    "employeecountMOM.replace({\"No Info\": np.nan}, inplace=True)\n",
    "employeecountMOM =employeecountMOM.astype(float)\n",
    "employeecountMOM.unique()"
   ]
  },
  {
   "cell_type": "code",
   "execution_count": 35,
   "id": "27bf35d4",
   "metadata": {},
   "outputs": [
    {
     "data": {
      "text/plain": [
       "array([1., 2., 3., 4., 0., 5., 7., 6.])"
      ]
     },
     "execution_count": 35,
     "metadata": {},
     "output_type": "execute_result"
    }
   ],
   "source": [
    "cofoundersnum.replace({\"No Info\": np.nan}, inplace=True)\n",
    "cofoundersnum = cofoundersnum.astype(float)\n",
    "cofoundersnum.unique()"
   ]
  },
  {
   "cell_type": "code",
   "execution_count": 36,
   "id": "8cf99df3",
   "metadata": {},
   "outputs": [
    {
     "data": {
      "text/plain": [
       "array([ 2.,  0.,  1.,  9.,  4.,  8.,  6.,  3., 10., 13.,  5.,  7., 11.])"
      ]
     },
     "execution_count": 36,
     "metadata": {},
     "output_type": "execute_result"
    }
   ],
   "source": [
    "advisorsnum.replace({\"No Info\": np.nan}, inplace=True)\n",
    "advisorsnum = advisorsnum.astype(float)\n",
    "advisorsnum.unique()"
   ]
  },
  {
   "cell_type": "code",
   "execution_count": 38,
   "id": "9f1cbe38",
   "metadata": {},
   "outputs": [
    {
     "data": {
      "text/plain": [
       "2"
      ]
     },
     "execution_count": 38,
     "metadata": {},
     "output_type": "execute_result"
    }
   ],
   "source": [
    "nonnumericalcolumns = [companys, companyStatus]\n",
    "len(nonnumericalcolumns)"
   ]
  },
  {
   "cell_type": "code",
   "execution_count": 39,
   "id": "53700dbf",
   "metadata": {},
   "outputs": [
    {
     "data": {
      "text/plain": [
       "5"
      ]
     },
     "execution_count": 39,
     "metadata": {},
     "output_type": "execute_result"
    }
   ],
   "source": [
    "numericalcolumns = [lastfundingamount, employeecount, employeecountMOM, cofoundersnum, advisorsnum]\n",
    "len(numericalcolumns)"
   ]
  },
  {
   "cell_type": "code",
   "execution_count": 40,
   "id": "f1076d5e",
   "metadata": {},
   "outputs": [
    {
     "data": {
      "text/html": [
       "<div>\n",
       "<style scoped>\n",
       "    .dataframe tbody tr th:only-of-type {\n",
       "        vertical-align: middle;\n",
       "    }\n",
       "\n",
       "    .dataframe tbody tr th {\n",
       "        vertical-align: top;\n",
       "    }\n",
       "\n",
       "    .dataframe thead th {\n",
       "        text-align: right;\n",
       "    }\n",
       "</style>\n",
       "<table border=\"1\" class=\"dataframe\">\n",
       "  <thead>\n",
       "    <tr style=\"text-align: right;\">\n",
       "      <th></th>\n",
       "      <th>Company_Name</th>\n",
       "      <th>Dependent-Company Status</th>\n",
       "    </tr>\n",
       "  </thead>\n",
       "  <tbody>\n",
       "    <tr>\n",
       "      <th>0</th>\n",
       "      <td>Company1</td>\n",
       "      <td>Success</td>\n",
       "    </tr>\n",
       "    <tr>\n",
       "      <th>1</th>\n",
       "      <td>Company2</td>\n",
       "      <td>Success</td>\n",
       "    </tr>\n",
       "    <tr>\n",
       "      <th>2</th>\n",
       "      <td>Company3</td>\n",
       "      <td>Success</td>\n",
       "    </tr>\n",
       "    <tr>\n",
       "      <th>3</th>\n",
       "      <td>Company4</td>\n",
       "      <td>Success</td>\n",
       "    </tr>\n",
       "    <tr>\n",
       "      <th>4</th>\n",
       "      <td>Company5</td>\n",
       "      <td>Success</td>\n",
       "    </tr>\n",
       "    <tr>\n",
       "      <th>...</th>\n",
       "      <td>...</td>\n",
       "      <td>...</td>\n",
       "    </tr>\n",
       "    <tr>\n",
       "      <th>467</th>\n",
       "      <td>Company468</td>\n",
       "      <td>Failed</td>\n",
       "    </tr>\n",
       "    <tr>\n",
       "      <th>468</th>\n",
       "      <td>Company469</td>\n",
       "      <td>Failed</td>\n",
       "    </tr>\n",
       "    <tr>\n",
       "      <th>469</th>\n",
       "      <td>Company470</td>\n",
       "      <td>Failed</td>\n",
       "    </tr>\n",
       "    <tr>\n",
       "      <th>470</th>\n",
       "      <td>Company471</td>\n",
       "      <td>Failed</td>\n",
       "    </tr>\n",
       "    <tr>\n",
       "      <th>471</th>\n",
       "      <td>Company472</td>\n",
       "      <td>Failed</td>\n",
       "    </tr>\n",
       "  </tbody>\n",
       "</table>\n",
       "<p>472 rows × 2 columns</p>\n",
       "</div>"
      ],
      "text/plain": [
       "    Company_Name Dependent-Company Status\n",
       "0       Company1                  Success\n",
       "1       Company2                  Success\n",
       "2       Company3                  Success\n",
       "3       Company4                  Success\n",
       "4       Company5                  Success\n",
       "..           ...                      ...\n",
       "467   Company468                   Failed\n",
       "468   Company469                   Failed\n",
       "469   Company470                   Failed\n",
       "470   Company471                   Failed\n",
       "471   Company472                   Failed\n",
       "\n",
       "[472 rows x 2 columns]"
      ]
     },
     "execution_count": 40,
     "metadata": {},
     "output_type": "execute_result"
    }
   ],
   "source": [
    "nonnumericalcolumnsplot = pd.concat(nonnumericalcolumns, axis=1)\n",
    "nonnumericalcolumnsplot"
   ]
  },
  {
   "cell_type": "code",
   "execution_count": 45,
   "id": "dc72d9ef",
   "metadata": {},
   "outputs": [
    {
     "data": {
      "text/html": [
       "<style type=\"text/css\">\n",
       "#T_c2808_row0_col0, #T_c2808_row0_col1, #T_c2808_row1_col0, #T_c2808_row1_col1 {\n",
       "  background-color: #440154;\n",
       "  color: #f1f1f1;\n",
       "}\n",
       "</style>\n",
       "<table id=\"T_c2808\">\n",
       "  <thead>\n",
       "    <tr>\n",
       "      <th class=\"blank level0\" >&nbsp;</th>\n",
       "      <th id=\"T_c2808_level0_col0\" class=\"col_heading level0 col0\" >NaN Values</th>\n",
       "      <th id=\"T_c2808_level0_col1\" class=\"col_heading level0 col1\" >Missing Values (in%)</th>\n",
       "    </tr>\n",
       "  </thead>\n",
       "  <tbody>\n",
       "    <tr>\n",
       "      <th id=\"T_c2808_level0_row0\" class=\"row_heading level0 row0\" >Company_Name</th>\n",
       "      <td id=\"T_c2808_row0_col0\" class=\"data row0 col0\" >0</td>\n",
       "      <td id=\"T_c2808_row0_col1\" class=\"data row0 col1\" >0.000000</td>\n",
       "    </tr>\n",
       "    <tr>\n",
       "      <th id=\"T_c2808_level0_row1\" class=\"row_heading level0 row1\" >Dependent-Company Status</th>\n",
       "      <td id=\"T_c2808_row1_col0\" class=\"data row1 col0\" >0</td>\n",
       "      <td id=\"T_c2808_row1_col1\" class=\"data row1 col1\" >0.000000</td>\n",
       "    </tr>\n",
       "  </tbody>\n",
       "</table>\n"
      ],
      "text/plain": [
       "<pandas.io.formats.style.Styler at 0x7fe2993fafa0>"
      ]
     },
     "execution_count": 45,
     "metadata": {},
     "output_type": "execute_result"
    }
   ],
   "source": [
    "nonnumericalcolumnsNull=pd.DataFrame(nonnumericalcolumnsplot.isnull().sum(),columns=[\"NaN Values\"])\n",
    "nonnumericalcolumnsNull[\"Missing Values (in%)\"]=(nonnumericalcolumnsplot.isna().sum()/len(nonnumericalcolumnsplot)*100)\n",
    "nonnumericalcolumnsNull.style.background_gradient(cmap='viridis',low =0.2,high=0.1)"
   ]
  },
  {
   "cell_type": "code",
   "execution_count": 42,
   "id": "09ad9aa8",
   "metadata": {},
   "outputs": [
    {
     "data": {
      "text/html": [
       "<div>\n",
       "<style scoped>\n",
       "    .dataframe tbody tr th:only-of-type {\n",
       "        vertical-align: middle;\n",
       "    }\n",
       "\n",
       "    .dataframe tbody tr th {\n",
       "        vertical-align: top;\n",
       "    }\n",
       "\n",
       "    .dataframe thead th {\n",
       "        text-align: right;\n",
       "    }\n",
       "</style>\n",
       "<table border=\"1\" class=\"dataframe\">\n",
       "  <thead>\n",
       "    <tr style=\"text-align: right;\">\n",
       "      <th></th>\n",
       "      <th>Last Funding Amount</th>\n",
       "      <th>Employee Count</th>\n",
       "      <th>Employees count MoM change</th>\n",
       "      <th>Number of Co-founders</th>\n",
       "      <th>Number of of advisors</th>\n",
       "    </tr>\n",
       "  </thead>\n",
       "  <tbody>\n",
       "    <tr>\n",
       "      <th>0</th>\n",
       "      <td>450000.0</td>\n",
       "      <td>3.0</td>\n",
       "      <td>0.0</td>\n",
       "      <td>1.0</td>\n",
       "      <td>2.0</td>\n",
       "    </tr>\n",
       "    <tr>\n",
       "      <th>1</th>\n",
       "      <td>NaN</td>\n",
       "      <td>NaN</td>\n",
       "      <td>NaN</td>\n",
       "      <td>2.0</td>\n",
       "      <td>0.0</td>\n",
       "    </tr>\n",
       "    <tr>\n",
       "      <th>2</th>\n",
       "      <td>2350000.0</td>\n",
       "      <td>14.0</td>\n",
       "      <td>0.0</td>\n",
       "      <td>3.0</td>\n",
       "      <td>0.0</td>\n",
       "    </tr>\n",
       "    <tr>\n",
       "      <th>3</th>\n",
       "      <td>10250000.0</td>\n",
       "      <td>45.0</td>\n",
       "      <td>10.0</td>\n",
       "      <td>2.0</td>\n",
       "      <td>0.0</td>\n",
       "    </tr>\n",
       "    <tr>\n",
       "      <th>4</th>\n",
       "      <td>5500000.0</td>\n",
       "      <td>39.0</td>\n",
       "      <td>3.0</td>\n",
       "      <td>1.0</td>\n",
       "      <td>1.0</td>\n",
       "    </tr>\n",
       "    <tr>\n",
       "      <th>...</th>\n",
       "      <td>...</td>\n",
       "      <td>...</td>\n",
       "      <td>...</td>\n",
       "      <td>...</td>\n",
       "      <td>...</td>\n",
       "    </tr>\n",
       "    <tr>\n",
       "      <th>467</th>\n",
       "      <td>NaN</td>\n",
       "      <td>NaN</td>\n",
       "      <td>NaN</td>\n",
       "      <td>0.0</td>\n",
       "      <td>0.0</td>\n",
       "    </tr>\n",
       "    <tr>\n",
       "      <th>468</th>\n",
       "      <td>NaN</td>\n",
       "      <td>NaN</td>\n",
       "      <td>NaN</td>\n",
       "      <td>0.0</td>\n",
       "      <td>0.0</td>\n",
       "    </tr>\n",
       "    <tr>\n",
       "      <th>469</th>\n",
       "      <td>NaN</td>\n",
       "      <td>0.0</td>\n",
       "      <td>NaN</td>\n",
       "      <td>2.0</td>\n",
       "      <td>0.0</td>\n",
       "    </tr>\n",
       "    <tr>\n",
       "      <th>470</th>\n",
       "      <td>100000.0</td>\n",
       "      <td>NaN</td>\n",
       "      <td>NaN</td>\n",
       "      <td>3.0</td>\n",
       "      <td>2.0</td>\n",
       "    </tr>\n",
       "    <tr>\n",
       "      <th>471</th>\n",
       "      <td>120000.0</td>\n",
       "      <td>NaN</td>\n",
       "      <td>NaN</td>\n",
       "      <td>3.0</td>\n",
       "      <td>0.0</td>\n",
       "    </tr>\n",
       "  </tbody>\n",
       "</table>\n",
       "<p>472 rows × 5 columns</p>\n",
       "</div>"
      ],
      "text/plain": [
       "     Last Funding Amount  Employee Count  Employees count MoM change  \\\n",
       "0               450000.0             3.0                         0.0   \n",
       "1                    NaN             NaN                         NaN   \n",
       "2              2350000.0            14.0                         0.0   \n",
       "3             10250000.0            45.0                        10.0   \n",
       "4              5500000.0            39.0                         3.0   \n",
       "..                   ...             ...                         ...   \n",
       "467                  NaN             NaN                         NaN   \n",
       "468                  NaN             NaN                         NaN   \n",
       "469                  NaN             0.0                         NaN   \n",
       "470             100000.0             NaN                         NaN   \n",
       "471             120000.0             NaN                         NaN   \n",
       "\n",
       "     Number of Co-founders  Number of of advisors  \n",
       "0                      1.0                    2.0  \n",
       "1                      2.0                    0.0  \n",
       "2                      3.0                    0.0  \n",
       "3                      2.0                    0.0  \n",
       "4                      1.0                    1.0  \n",
       "..                     ...                    ...  \n",
       "467                    0.0                    0.0  \n",
       "468                    0.0                    0.0  \n",
       "469                    2.0                    0.0  \n",
       "470                    3.0                    2.0  \n",
       "471                    3.0                    0.0  \n",
       "\n",
       "[472 rows x 5 columns]"
      ]
     },
     "execution_count": 42,
     "metadata": {},
     "output_type": "execute_result"
    }
   ],
   "source": [
    "numericalcolumnsplot = pd.concat(numericalcolumns, axis=1)\n",
    "numericalcolumnsplot"
   ]
  },
  {
   "cell_type": "code",
   "execution_count": 44,
   "id": "2331c09a",
   "metadata": {},
   "outputs": [
    {
     "data": {
      "text/html": [
       "<style type=\"text/css\">\n",
       "#T_03b22_row0_col0, #T_03b22_row0_col1 {\n",
       "  background-color: #60ca60;\n",
       "  color: #000000;\n",
       "}\n",
       "#T_03b22_row1_col0, #T_03b22_row1_col1 {\n",
       "  background-color: #6ccd5a;\n",
       "  color: #000000;\n",
       "}\n",
       "#T_03b22_row2_col0, #T_03b22_row2_col1 {\n",
       "  background-color: #cde11d;\n",
       "  color: #000000;\n",
       "}\n",
       "#T_03b22_row3_col0, #T_03b22_row3_col1, #T_03b22_row4_col0, #T_03b22_row4_col1 {\n",
       "  background-color: #453581;\n",
       "  color: #f1f1f1;\n",
       "}\n",
       "</style>\n",
       "<table id=\"T_03b22\">\n",
       "  <thead>\n",
       "    <tr>\n",
       "      <th class=\"blank level0\" >&nbsp;</th>\n",
       "      <th id=\"T_03b22_level0_col0\" class=\"col_heading level0 col0\" >NaN Values</th>\n",
       "      <th id=\"T_03b22_level0_col1\" class=\"col_heading level0 col1\" >Missing Values (in%)</th>\n",
       "    </tr>\n",
       "  </thead>\n",
       "  <tbody>\n",
       "    <tr>\n",
       "      <th id=\"T_03b22_level0_row0\" class=\"row_heading level0 row0\" >Last Funding Amount</th>\n",
       "      <td id=\"T_03b22_row0_col0\" class=\"data row0 col0\" >160</td>\n",
       "      <td id=\"T_03b22_row0_col1\" class=\"data row0 col1\" >33.898305</td>\n",
       "    </tr>\n",
       "    <tr>\n",
       "      <th id=\"T_03b22_level0_row1\" class=\"row_heading level0 row1\" >Employee Count</th>\n",
       "      <td id=\"T_03b22_row1_col0\" class=\"data row1 col0\" >166</td>\n",
       "      <td id=\"T_03b22_row1_col1\" class=\"data row1 col1\" >35.169492</td>\n",
       "    </tr>\n",
       "    <tr>\n",
       "      <th id=\"T_03b22_level0_row2\" class=\"row_heading level0 row2\" >Employees count MoM change</th>\n",
       "      <td id=\"T_03b22_row2_col0\" class=\"data row2 col0\" >205</td>\n",
       "      <td id=\"T_03b22_row2_col1\" class=\"data row2 col1\" >43.432203</td>\n",
       "    </tr>\n",
       "    <tr>\n",
       "      <th id=\"T_03b22_level0_row3\" class=\"row_heading level0 row3\" >Number of Co-founders</th>\n",
       "      <td id=\"T_03b22_row3_col0\" class=\"data row3 col0\" >0</td>\n",
       "      <td id=\"T_03b22_row3_col1\" class=\"data row3 col1\" >0.000000</td>\n",
       "    </tr>\n",
       "    <tr>\n",
       "      <th id=\"T_03b22_level0_row4\" class=\"row_heading level0 row4\" >Number of of advisors</th>\n",
       "      <td id=\"T_03b22_row4_col0\" class=\"data row4 col0\" >0</td>\n",
       "      <td id=\"T_03b22_row4_col1\" class=\"data row4 col1\" >0.000000</td>\n",
       "    </tr>\n",
       "  </tbody>\n",
       "</table>\n"
      ],
      "text/plain": [
       "<pandas.io.formats.style.Styler at 0x7fe29d077b80>"
      ]
     },
     "execution_count": 44,
     "metadata": {},
     "output_type": "execute_result"
    }
   ],
   "source": [
    "numericalcolumnsNull=pd.DataFrame(numericalcolumnsplot.isnull().sum(),columns=[\"NaN Values\"])\n",
    "numericalcolumnsNull[\"Missing Values (in%)\"]=(numericalcolumnsplot.isna().sum()/len(numericalcolumnsplot)*100)\n",
    "numericalcolumnsNull.style.background_gradient(cmap='viridis',low =0.2,high=0.1)"
   ]
  },
  {
   "cell_type": "code",
   "execution_count": 46,
   "id": "216c7690",
   "metadata": {},
   "outputs": [],
   "source": [
    "#replace all the NaN values for the numerical categories"
   ]
  },
  {
   "cell_type": "code",
   "execution_count": 47,
   "id": "5bf6e28d",
   "metadata": {},
   "outputs": [
    {
     "data": {
      "text/plain": [
       "6379489.435897436"
      ]
     },
     "execution_count": 47,
     "metadata": {},
     "output_type": "execute_result"
    }
   ],
   "source": [
    "lastfundingamountMean = lastfundingamount.mean()\n",
    "lastfundingamountMean"
   ]
  },
  {
   "cell_type": "code",
   "execution_count": 49,
   "id": "9a2930fa",
   "metadata": {},
   "outputs": [
    {
     "data": {
      "text/plain": [
       "0"
      ]
     },
     "execution_count": 49,
     "metadata": {},
     "output_type": "execute_result"
    }
   ],
   "source": [
    "lastfundingamount = lastfundingamount.fillna(lastfundingamountMean)\n",
    "lastfundingamount.isnull().sum()"
   ]
  },
  {
   "cell_type": "code",
   "execution_count": 50,
   "id": "ba3ec331",
   "metadata": {},
   "outputs": [
    {
     "data": {
      "text/plain": [
       "31.408496732026144"
      ]
     },
     "execution_count": 50,
     "metadata": {},
     "output_type": "execute_result"
    }
   ],
   "source": [
    "employeecountMean = employeecount.mean()\n",
    "employeecountMean"
   ]
  },
  {
   "cell_type": "code",
   "execution_count": 51,
   "id": "66ea4f5d",
   "metadata": {},
   "outputs": [
    {
     "data": {
      "text/plain": [
       "0"
      ]
     },
     "execution_count": 51,
     "metadata": {},
     "output_type": "execute_result"
    }
   ],
   "source": [
    "employeecount = employeecount.fillna(employeecountMean)\n",
    "employeecount.isnull().sum()"
   ]
  },
  {
   "cell_type": "code",
   "execution_count": 52,
   "id": "b0408409",
   "metadata": {},
   "outputs": [
    {
     "data": {
      "text/plain": [
       "-1.299625468164794"
      ]
     },
     "execution_count": 52,
     "metadata": {},
     "output_type": "execute_result"
    }
   ],
   "source": [
    "employeecountMOMMean = employeecountMOM.mean()\n",
    "employeecountMOMMean"
   ]
  },
  {
   "cell_type": "code",
   "execution_count": 53,
   "id": "c62af2d5",
   "metadata": {},
   "outputs": [
    {
     "data": {
      "text/plain": [
       "0"
      ]
     },
     "execution_count": 53,
     "metadata": {},
     "output_type": "execute_result"
    }
   ],
   "source": [
    "employeecountMOM = employeecountMOM.fillna(employeecountMOMMean)\n",
    "employeecountMOM.isnull().sum()"
   ]
  },
  {
   "cell_type": "code",
   "execution_count": 54,
   "id": "da6f5eef",
   "metadata": {},
   "outputs": [
    {
     "data": {
      "text/plain": [
       "1.86864406779661"
      ]
     },
     "execution_count": 54,
     "metadata": {},
     "output_type": "execute_result"
    }
   ],
   "source": [
    "cofoundersnumMean = cofoundersnum.mean()\n",
    "cofoundersnumMean"
   ]
  },
  {
   "cell_type": "code",
   "execution_count": 55,
   "id": "693166ea",
   "metadata": {},
   "outputs": [
    {
     "data": {
      "text/plain": [
       "0"
      ]
     },
     "execution_count": 55,
     "metadata": {},
     "output_type": "execute_result"
    }
   ],
   "source": [
    "cofoundersnum = cofoundersnum.fillna(cofoundersnumMean)\n",
    "cofoundersnum.isnull().sum()"
   ]
  },
  {
   "cell_type": "code",
   "execution_count": 56,
   "id": "25713071",
   "metadata": {},
   "outputs": [
    {
     "data": {
      "text/plain": [
       "1.0169491525423728"
      ]
     },
     "execution_count": 56,
     "metadata": {},
     "output_type": "execute_result"
    }
   ],
   "source": [
    "advisorsnumMean = advisorsnum.mean()\n",
    "advisorsnumMean"
   ]
  },
  {
   "cell_type": "code",
   "execution_count": 57,
   "id": "8fffaf39",
   "metadata": {},
   "outputs": [
    {
     "data": {
      "text/plain": [
       "0"
      ]
     },
     "execution_count": 57,
     "metadata": {},
     "output_type": "execute_result"
    }
   ],
   "source": [
    "advisorsnum = advisorsnum.fillna(advisorsnumMean)\n",
    "advisorsnum.isnull().sum()"
   ]
  },
  {
   "cell_type": "code",
   "execution_count": 58,
   "id": "e495bbd0",
   "metadata": {},
   "outputs": [
    {
     "data": {
      "text/html": [
       "<div>\n",
       "<style scoped>\n",
       "    .dataframe tbody tr th:only-of-type {\n",
       "        vertical-align: middle;\n",
       "    }\n",
       "\n",
       "    .dataframe tbody tr th {\n",
       "        vertical-align: top;\n",
       "    }\n",
       "\n",
       "    .dataframe thead th {\n",
       "        text-align: right;\n",
       "    }\n",
       "</style>\n",
       "<table border=\"1\" class=\"dataframe\">\n",
       "  <thead>\n",
       "    <tr style=\"text-align: right;\">\n",
       "      <th></th>\n",
       "      <th>Company_Name</th>\n",
       "      <th>Dependent-Company Status</th>\n",
       "    </tr>\n",
       "  </thead>\n",
       "  <tbody>\n",
       "    <tr>\n",
       "      <th>0</th>\n",
       "      <td>Company1</td>\n",
       "      <td>Success</td>\n",
       "    </tr>\n",
       "    <tr>\n",
       "      <th>1</th>\n",
       "      <td>Company2</td>\n",
       "      <td>Success</td>\n",
       "    </tr>\n",
       "    <tr>\n",
       "      <th>2</th>\n",
       "      <td>Company3</td>\n",
       "      <td>Success</td>\n",
       "    </tr>\n",
       "    <tr>\n",
       "      <th>3</th>\n",
       "      <td>Company4</td>\n",
       "      <td>Success</td>\n",
       "    </tr>\n",
       "    <tr>\n",
       "      <th>4</th>\n",
       "      <td>Company5</td>\n",
       "      <td>Success</td>\n",
       "    </tr>\n",
       "    <tr>\n",
       "      <th>...</th>\n",
       "      <td>...</td>\n",
       "      <td>...</td>\n",
       "    </tr>\n",
       "    <tr>\n",
       "      <th>467</th>\n",
       "      <td>Company468</td>\n",
       "      <td>Failed</td>\n",
       "    </tr>\n",
       "    <tr>\n",
       "      <th>468</th>\n",
       "      <td>Company469</td>\n",
       "      <td>Failed</td>\n",
       "    </tr>\n",
       "    <tr>\n",
       "      <th>469</th>\n",
       "      <td>Company470</td>\n",
       "      <td>Failed</td>\n",
       "    </tr>\n",
       "    <tr>\n",
       "      <th>470</th>\n",
       "      <td>Company471</td>\n",
       "      <td>Failed</td>\n",
       "    </tr>\n",
       "    <tr>\n",
       "      <th>471</th>\n",
       "      <td>Company472</td>\n",
       "      <td>Failed</td>\n",
       "    </tr>\n",
       "  </tbody>\n",
       "</table>\n",
       "<p>472 rows × 2 columns</p>\n",
       "</div>"
      ],
      "text/plain": [
       "    Company_Name Dependent-Company Status\n",
       "0       Company1                  Success\n",
       "1       Company2                  Success\n",
       "2       Company3                  Success\n",
       "3       Company4                  Success\n",
       "4       Company5                  Success\n",
       "..           ...                      ...\n",
       "467   Company468                   Failed\n",
       "468   Company469                   Failed\n",
       "469   Company470                   Failed\n",
       "470   Company471                   Failed\n",
       "471   Company472                   Failed\n",
       "\n",
       "[472 rows x 2 columns]"
      ]
     },
     "execution_count": 58,
     "metadata": {},
     "output_type": "execute_result"
    }
   ],
   "source": [
    "nonnumericalcolumnsplot = pd.concat(nonnumericalcolumns, axis=1)\n",
    "nonnumericalcolumnsplot"
   ]
  },
  {
   "cell_type": "code",
   "execution_count": 60,
   "id": "bcef488c",
   "metadata": {},
   "outputs": [
    {
     "data": {
      "text/plain": [
       "5"
      ]
     },
     "execution_count": 60,
     "metadata": {},
     "output_type": "execute_result"
    }
   ],
   "source": [
    "numericalcolumns = [lastfundingamount, employeecount, employeecountMOM, cofoundersnum, advisorsnum]\n",
    "len(numericalcolumns)"
   ]
  },
  {
   "cell_type": "code",
   "execution_count": 61,
   "id": "d60e0e51",
   "metadata": {},
   "outputs": [
    {
     "data": {
      "text/html": [
       "<div>\n",
       "<style scoped>\n",
       "    .dataframe tbody tr th:only-of-type {\n",
       "        vertical-align: middle;\n",
       "    }\n",
       "\n",
       "    .dataframe tbody tr th {\n",
       "        vertical-align: top;\n",
       "    }\n",
       "\n",
       "    .dataframe thead th {\n",
       "        text-align: right;\n",
       "    }\n",
       "</style>\n",
       "<table border=\"1\" class=\"dataframe\">\n",
       "  <thead>\n",
       "    <tr style=\"text-align: right;\">\n",
       "      <th></th>\n",
       "      <th>Last Funding Amount</th>\n",
       "      <th>Employee Count</th>\n",
       "      <th>Employees count MoM change</th>\n",
       "      <th>Number of Co-founders</th>\n",
       "      <th>Number of of advisors</th>\n",
       "    </tr>\n",
       "  </thead>\n",
       "  <tbody>\n",
       "    <tr>\n",
       "      <th>0</th>\n",
       "      <td>4.500000e+05</td>\n",
       "      <td>3.000000</td>\n",
       "      <td>0.000000</td>\n",
       "      <td>1.0</td>\n",
       "      <td>2.0</td>\n",
       "    </tr>\n",
       "    <tr>\n",
       "      <th>1</th>\n",
       "      <td>6.379489e+06</td>\n",
       "      <td>31.408497</td>\n",
       "      <td>-1.299625</td>\n",
       "      <td>2.0</td>\n",
       "      <td>0.0</td>\n",
       "    </tr>\n",
       "    <tr>\n",
       "      <th>2</th>\n",
       "      <td>2.350000e+06</td>\n",
       "      <td>14.000000</td>\n",
       "      <td>0.000000</td>\n",
       "      <td>3.0</td>\n",
       "      <td>0.0</td>\n",
       "    </tr>\n",
       "    <tr>\n",
       "      <th>3</th>\n",
       "      <td>1.025000e+07</td>\n",
       "      <td>45.000000</td>\n",
       "      <td>10.000000</td>\n",
       "      <td>2.0</td>\n",
       "      <td>0.0</td>\n",
       "    </tr>\n",
       "    <tr>\n",
       "      <th>4</th>\n",
       "      <td>5.500000e+06</td>\n",
       "      <td>39.000000</td>\n",
       "      <td>3.000000</td>\n",
       "      <td>1.0</td>\n",
       "      <td>1.0</td>\n",
       "    </tr>\n",
       "    <tr>\n",
       "      <th>...</th>\n",
       "      <td>...</td>\n",
       "      <td>...</td>\n",
       "      <td>...</td>\n",
       "      <td>...</td>\n",
       "      <td>...</td>\n",
       "    </tr>\n",
       "    <tr>\n",
       "      <th>467</th>\n",
       "      <td>6.379489e+06</td>\n",
       "      <td>31.408497</td>\n",
       "      <td>-1.299625</td>\n",
       "      <td>0.0</td>\n",
       "      <td>0.0</td>\n",
       "    </tr>\n",
       "    <tr>\n",
       "      <th>468</th>\n",
       "      <td>6.379489e+06</td>\n",
       "      <td>31.408497</td>\n",
       "      <td>-1.299625</td>\n",
       "      <td>0.0</td>\n",
       "      <td>0.0</td>\n",
       "    </tr>\n",
       "    <tr>\n",
       "      <th>469</th>\n",
       "      <td>6.379489e+06</td>\n",
       "      <td>0.000000</td>\n",
       "      <td>-1.299625</td>\n",
       "      <td>2.0</td>\n",
       "      <td>0.0</td>\n",
       "    </tr>\n",
       "    <tr>\n",
       "      <th>470</th>\n",
       "      <td>1.000000e+05</td>\n",
       "      <td>31.408497</td>\n",
       "      <td>-1.299625</td>\n",
       "      <td>3.0</td>\n",
       "      <td>2.0</td>\n",
       "    </tr>\n",
       "    <tr>\n",
       "      <th>471</th>\n",
       "      <td>1.200000e+05</td>\n",
       "      <td>31.408497</td>\n",
       "      <td>-1.299625</td>\n",
       "      <td>3.0</td>\n",
       "      <td>0.0</td>\n",
       "    </tr>\n",
       "  </tbody>\n",
       "</table>\n",
       "<p>472 rows × 5 columns</p>\n",
       "</div>"
      ],
      "text/plain": [
       "     Last Funding Amount  Employee Count  Employees count MoM change  \\\n",
       "0           4.500000e+05        3.000000                    0.000000   \n",
       "1           6.379489e+06       31.408497                   -1.299625   \n",
       "2           2.350000e+06       14.000000                    0.000000   \n",
       "3           1.025000e+07       45.000000                   10.000000   \n",
       "4           5.500000e+06       39.000000                    3.000000   \n",
       "..                   ...             ...                         ...   \n",
       "467         6.379489e+06       31.408497                   -1.299625   \n",
       "468         6.379489e+06       31.408497                   -1.299625   \n",
       "469         6.379489e+06        0.000000                   -1.299625   \n",
       "470         1.000000e+05       31.408497                   -1.299625   \n",
       "471         1.200000e+05       31.408497                   -1.299625   \n",
       "\n",
       "     Number of Co-founders  Number of of advisors  \n",
       "0                      1.0                    2.0  \n",
       "1                      2.0                    0.0  \n",
       "2                      3.0                    0.0  \n",
       "3                      2.0                    0.0  \n",
       "4                      1.0                    1.0  \n",
       "..                     ...                    ...  \n",
       "467                    0.0                    0.0  \n",
       "468                    0.0                    0.0  \n",
       "469                    2.0                    0.0  \n",
       "470                    3.0                    2.0  \n",
       "471                    3.0                    0.0  \n",
       "\n",
       "[472 rows x 5 columns]"
      ]
     },
     "execution_count": 61,
     "metadata": {},
     "output_type": "execute_result"
    }
   ],
   "source": [
    "numericalcolumnsplot = pd.concat(numericalcolumns, axis=1)\n",
    "numericalcolumnsplot"
   ]
  },
  {
   "cell_type": "code",
   "execution_count": 62,
   "id": "3de27d26",
   "metadata": {},
   "outputs": [
    {
     "data": {
      "text/html": [
       "<style type=\"text/css\">\n",
       "#T_9b0ed_row0_col0, #T_9b0ed_row1_col0, #T_9b0ed_row2_col0, #T_9b0ed_row3_col0, #T_9b0ed_row4_col0 {\n",
       "  background-color: #440154;\n",
       "  color: #f1f1f1;\n",
       "}\n",
       "#T_9b0ed_row0_col1, #T_9b0ed_row0_col2, #T_9b0ed_row0_col3, #T_9b0ed_row0_col4, #T_9b0ed_row0_col5, #T_9b0ed_row0_col6, #T_9b0ed_row0_col7 {\n",
       "  background-color: #cde11d;\n",
       "  color: #000000;\n",
       "}\n",
       "#T_9b0ed_row1_col1, #T_9b0ed_row1_col2, #T_9b0ed_row1_col4, #T_9b0ed_row1_col5, #T_9b0ed_row1_col6, #T_9b0ed_row1_col7, #T_9b0ed_row2_col1, #T_9b0ed_row2_col2, #T_9b0ed_row2_col3, #T_9b0ed_row2_col4, #T_9b0ed_row2_col5, #T_9b0ed_row2_col6, #T_9b0ed_row2_col7, #T_9b0ed_row3_col1, #T_9b0ed_row3_col2, #T_9b0ed_row3_col4, #T_9b0ed_row3_col5, #T_9b0ed_row3_col6, #T_9b0ed_row3_col7, #T_9b0ed_row4_col1, #T_9b0ed_row4_col2, #T_9b0ed_row4_col4, #T_9b0ed_row4_col5, #T_9b0ed_row4_col6, #T_9b0ed_row4_col7 {\n",
       "  background-color: #453581;\n",
       "  color: #f1f1f1;\n",
       "}\n",
       "#T_9b0ed_row1_col3, #T_9b0ed_row3_col3, #T_9b0ed_row4_col3 {\n",
       "  background-color: #453882;\n",
       "  color: #f1f1f1;\n",
       "}\n",
       "</style>\n",
       "<table id=\"T_9b0ed\">\n",
       "  <thead>\n",
       "    <tr>\n",
       "      <th class=\"blank level0\" >&nbsp;</th>\n",
       "      <th id=\"T_9b0ed_level0_col0\" class=\"col_heading level0 col0\" >count</th>\n",
       "      <th id=\"T_9b0ed_level0_col1\" class=\"col_heading level0 col1\" >mean</th>\n",
       "      <th id=\"T_9b0ed_level0_col2\" class=\"col_heading level0 col2\" >std</th>\n",
       "      <th id=\"T_9b0ed_level0_col3\" class=\"col_heading level0 col3\" >min</th>\n",
       "      <th id=\"T_9b0ed_level0_col4\" class=\"col_heading level0 col4\" >25%</th>\n",
       "      <th id=\"T_9b0ed_level0_col5\" class=\"col_heading level0 col5\" >50%</th>\n",
       "      <th id=\"T_9b0ed_level0_col6\" class=\"col_heading level0 col6\" >75%</th>\n",
       "      <th id=\"T_9b0ed_level0_col7\" class=\"col_heading level0 col7\" >max</th>\n",
       "    </tr>\n",
       "  </thead>\n",
       "  <tbody>\n",
       "    <tr>\n",
       "      <th id=\"T_9b0ed_level0_row0\" class=\"row_heading level0 row0\" >Last Funding Amount</th>\n",
       "      <td id=\"T_9b0ed_row0_col0\" class=\"data row0 col0\" >472.000000</td>\n",
       "      <td id=\"T_9b0ed_row0_col1\" class=\"data row0 col1\" >6379489.435897</td>\n",
       "      <td id=\"T_9b0ed_row0_col2\" class=\"data row0 col2\" >8045926.746185</td>\n",
       "      <td id=\"T_9b0ed_row0_col3\" class=\"data row0 col3\" >10000.000000</td>\n",
       "      <td id=\"T_9b0ed_row0_col4\" class=\"data row0 col4\" >1500000.000000</td>\n",
       "      <td id=\"T_9b0ed_row0_col5\" class=\"data row0 col5\" >6379489.435897</td>\n",
       "      <td id=\"T_9b0ed_row0_col6\" class=\"data row0 col6\" >6379489.435897</td>\n",
       "      <td id=\"T_9b0ed_row0_col7\" class=\"data row0 col7\" >77000000.000000</td>\n",
       "    </tr>\n",
       "    <tr>\n",
       "      <th id=\"T_9b0ed_level0_row1\" class=\"row_heading level0 row1\" >Employee Count</th>\n",
       "      <td id=\"T_9b0ed_row1_col0\" class=\"data row1 col0\" >472.000000</td>\n",
       "      <td id=\"T_9b0ed_row1_col1\" class=\"data row1 col1\" >31.408497</td>\n",
       "      <td id=\"T_9b0ed_row1_col2\" class=\"data row1 col2\" >50.434080</td>\n",
       "      <td id=\"T_9b0ed_row1_col3\" class=\"data row1 col3\" >0.000000</td>\n",
       "      <td id=\"T_9b0ed_row1_col4\" class=\"data row1 col4\" >8.000000</td>\n",
       "      <td id=\"T_9b0ed_row1_col5\" class=\"data row1 col5\" >31.408497</td>\n",
       "      <td id=\"T_9b0ed_row1_col6\" class=\"data row1 col6\" >31.408497</td>\n",
       "      <td id=\"T_9b0ed_row1_col7\" class=\"data row1 col7\" >594.000000</td>\n",
       "    </tr>\n",
       "    <tr>\n",
       "      <th id=\"T_9b0ed_level0_row2\" class=\"row_heading level0 row2\" >Employees count MoM change</th>\n",
       "      <td id=\"T_9b0ed_row2_col0\" class=\"data row2 col0\" >472.000000</td>\n",
       "      <td id=\"T_9b0ed_row2_col1\" class=\"data row2 col1\" >-1.299625</td>\n",
       "      <td id=\"T_9b0ed_row2_col2\" class=\"data row2 col2\" >18.011322</td>\n",
       "      <td id=\"T_9b0ed_row2_col3\" class=\"data row2 col3\" >-100.000000</td>\n",
       "      <td id=\"T_9b0ed_row2_col4\" class=\"data row2 col4\" >-1.299625</td>\n",
       "      <td id=\"T_9b0ed_row2_col5\" class=\"data row2 col5\" >-1.299625</td>\n",
       "      <td id=\"T_9b0ed_row2_col6\" class=\"data row2 col6\" >0.000000</td>\n",
       "      <td id=\"T_9b0ed_row2_col7\" class=\"data row2 col7\" >50.000000</td>\n",
       "    </tr>\n",
       "    <tr>\n",
       "      <th id=\"T_9b0ed_level0_row3\" class=\"row_heading level0 row3\" >Number of Co-founders</th>\n",
       "      <td id=\"T_9b0ed_row3_col0\" class=\"data row3 col0\" >472.000000</td>\n",
       "      <td id=\"T_9b0ed_row3_col1\" class=\"data row3 col1\" >1.868644</td>\n",
       "      <td id=\"T_9b0ed_row3_col2\" class=\"data row3 col2\" >1.143481</td>\n",
       "      <td id=\"T_9b0ed_row3_col3\" class=\"data row3 col3\" >0.000000</td>\n",
       "      <td id=\"T_9b0ed_row3_col4\" class=\"data row3 col4\" >1.000000</td>\n",
       "      <td id=\"T_9b0ed_row3_col5\" class=\"data row3 col5\" >2.000000</td>\n",
       "      <td id=\"T_9b0ed_row3_col6\" class=\"data row3 col6\" >2.250000</td>\n",
       "      <td id=\"T_9b0ed_row3_col7\" class=\"data row3 col7\" >7.000000</td>\n",
       "    </tr>\n",
       "    <tr>\n",
       "      <th id=\"T_9b0ed_level0_row4\" class=\"row_heading level0 row4\" >Number of of advisors</th>\n",
       "      <td id=\"T_9b0ed_row4_col0\" class=\"data row4 col0\" >472.000000</td>\n",
       "      <td id=\"T_9b0ed_row4_col1\" class=\"data row4 col1\" >1.016949</td>\n",
       "      <td id=\"T_9b0ed_row4_col2\" class=\"data row4 col2\" >2.014736</td>\n",
       "      <td id=\"T_9b0ed_row4_col3\" class=\"data row4 col3\" >0.000000</td>\n",
       "      <td id=\"T_9b0ed_row4_col4\" class=\"data row4 col4\" >0.000000</td>\n",
       "      <td id=\"T_9b0ed_row4_col5\" class=\"data row4 col5\" >0.000000</td>\n",
       "      <td id=\"T_9b0ed_row4_col6\" class=\"data row4 col6\" >1.000000</td>\n",
       "      <td id=\"T_9b0ed_row4_col7\" class=\"data row4 col7\" >13.000000</td>\n",
       "    </tr>\n",
       "  </tbody>\n",
       "</table>\n"
      ],
      "text/plain": [
       "<pandas.io.formats.style.Styler at 0x7fe299412f10>"
      ]
     },
     "execution_count": 62,
     "metadata": {},
     "output_type": "execute_result"
    }
   ],
   "source": [
    "numericalcolumnsinfo = numericalcolumnsplot.describe()\n",
    "numericalcolumnsinfo.T.style.background_gradient(cmap='viridis',low =0.2,high=0.1)"
   ]
  },
  {
   "cell_type": "code",
   "execution_count": 81,
   "id": "576de3db",
   "metadata": {},
   "outputs": [
    {
     "data": {
      "image/png": "[encoded data removed]",
      "text/plain": [
       "<Figure size 1296x576 with 1 Axes>"
      ]
     },
     "metadata": {
      "needs_background": "light"
     },
     "output_type": "display_data"
    }
   ],
   "source": [
    "font={'weight' : 'bold',\n",
    " 'size': 18}\n",
    "\n",
    "plt.figure(figsize=(18,8))\n",
    "ax = sns.countplot(lastfundingamount,hue=companyStatus)\n",
    "plt.title(\"Last Funding Amount\",**font)\n",
    "plt.ylabel(\"Amount (millions $)\")\n",
    "ax.axes.get_xaxis().set_visible(False)\n",
    "plt.xlabel(\"Companys\")\n",
    "plt.show()"
   ]
  },
  {
   "cell_type": "code",
   "execution_count": 82,
   "id": "7786f00d",
   "metadata": {},
   "outputs": [
    {
     "data": {
      "image/png": "[encoded data removed]",
      "text/plain": [
       "<Figure size 1296x576 with 1 Axes>"
      ]
     },
     "metadata": {
      "needs_background": "light"
     },
     "output_type": "display_data"
    }
   ],
   "source": [
    "font={'weight' : 'bold',\n",
    " 'size': 18}\n",
    "\n",
    "plt.figure(figsize=(18,8))\n",
    "ax = sns.countplot(employeecount,hue=companyStatus)\n",
    "plt.title(\"Number of employees\",**font)\n",
    "plt.ylabel(\"Employee Count\")\n",
    "ax.axes.get_xaxis().set_visible(False)\n",
    "plt.xlabel(\"Companys\")\n",
    "plt.show()"
   ]
  },
  {
   "cell_type": "code",
   "execution_count": 83,
   "id": "b1491bb6",
   "metadata": {},
   "outputs": [
    {
     "data": {
      "image/png": "[encoded data removed]",
      "text/plain": [
       "<Figure size 1296x576 with 1 Axes>"
      ]
     },
     "metadata": {
      "needs_background": "light"
     },
     "output_type": "display_data"
    }
   ],
   "source": [
    "font={'weight' : 'bold',\n",
    " 'size': 18}\n",
    "\n",
    "plt.figure(figsize=(18,8))\n",
    "ax = sns.countplot(employeecountMOM,hue=companyStatus)\n",
    "plt.title(\"Number of MOM employees\",**font)\n",
    "plt.ylabel(\"MOM Employee Count\")\n",
    "ax.axes.get_xaxis().set_visible(False)\n",
    "plt.xlabel(\"Companys\")\n",
    "plt.show()"
   ]
  },
  {
   "cell_type": "code",
   "execution_count": 84,
   "id": "9b1e8d8f",
   "metadata": {},
   "outputs": [
    {
     "data": {
      "image/png": "[encoded data removed]",
      "text/plain": [
       "<Figure size 1296x576 with 1 Axes>"
      ]
     },
     "metadata": {
      "needs_background": "light"
     },
     "output_type": "display_data"
    }
   ],
   "source": [
    "font={'weight' : 'bold',\n",
    " 'size': 18}\n",
    "\n",
    "plt.figure(figsize=(18,8))\n",
    "ax = sns.countplot(cofoundersnum,hue=companyStatus)\n",
    "plt.title(\"Number of Cofounders\",**font)\n",
    "plt.ylabel(\"Employee Count\")\n",
    "ax.axes.get_xaxis().set_visible(False)\n",
    "plt.xlabel(\"Companys\")\n",
    "plt.show()"
   ]
  },
  {
   "cell_type": "code",
   "execution_count": 86,
   "id": "d653ad94",
   "metadata": {},
   "outputs": [
    {
     "data": {
      "image/png": "[encoded data removed]",
      "text/plain": [
       "<Figure size 1296x576 with 1 Axes>"
      ]
     },
     "metadata": {
      "needs_background": "light"
     },
     "output_type": "display_data"
    }
   ],
   "source": [
    "font={'weight' : 'bold',\n",
    " 'size': 18}\n",
    "\n",
    "plt.figure(figsize=(18,8))\n",
    "ax = sns.countplot(advisorsnum,hue=companyStatus)\n",
    "plt.title(\"Number of Advisors\",**font)\n",
    "plt.ylabel(\"Employee Count\")\n",
    "ax.axes.get_xaxis().set_visible(False)\n",
    "plt.xlabel(\"Companys\")\n",
    "plt.show()"
   ]
  },
  {
   "cell_type": "code",
   "execution_count": 128,
   "id": "f935ae8b",
   "metadata": {
    "scrolled": false
   },
   "outputs": [
    {
     "data": {
      "image/png": "[encoded data removed]",
      "text/plain": [
       "<Figure size 869x720 with 1 Axes>"
      ]
     },
     "metadata": {
      "needs_background": "light"
     },
     "output_type": "display_data"
    }
   ],
   "source": [
    "df = pd.concat([numericalcolumnsplot, companyStatus], axis=1)\n",
    "sns.FacetGrid(df,hue='Dependent-Company Status',height=10)\\\n",
    ".map(sns.distplot,\"Employee Count\")\\\n",
    ".add_legend()\n",
    "\n",
    "plt.show()"
   ]
  },
  {
   "cell_type": "code",
   "execution_count": 132,
   "id": "a1a03b8d",
   "metadata": {},
   "outputs": [
    {
     "data": {
      "image/png": "[encoded data removed]",
      "text/plain": [
       "<Figure size 869x720 with 1 Axes>"
      ]
     },
     "metadata": {
      "needs_background": "light"
     },
     "output_type": "display_data"
    }
   ],
   "source": [
    "df = pd.concat([numericalcolumnsplot, companyStatus], axis=1)\n",
    "sns.FacetGrid(df,hue='Dependent-Company Status',height=10)\\\n",
    ".map(sns.distplot,\"Employees count MoM change\")\\\n",
    ".add_legend()\n",
    "\n",
    "plt.show()"
   ]
  },
  {
   "cell_type": "code",
   "execution_count": 133,
   "id": "fd2d3240",
   "metadata": {},
   "outputs": [
    {
     "data": {
      "image/png": "[encoded data removed]",
      "text/plain": [
       "<Figure size 869x720 with 1 Axes>"
      ]
     },
     "metadata": {
      "needs_background": "light"
     },
     "output_type": "display_data"
    }
   ],
   "source": [
    "df = pd.concat([numericalcolumnsplot, companyStatus], axis=1)\n",
    "sns.FacetGrid(df,hue='Dependent-Company Status',height=10)\\\n",
    ".map(sns.distplot,\"Number of of advisors\")\\\n",
    ".add_legend()\n",
    "\n",
    "plt.show()"
   ]
  },
  {
   "cell_type": "code",
   "execution_count": 135,
   "id": "904089af",
   "metadata": {},
   "outputs": [
    {
     "data": {
      "image/png": "[encoded data removed]",
      "text/plain": [
       "<Figure size 869x720 with 1 Axes>"
      ]
     },
     "metadata": {
      "needs_background": "light"
     },
     "output_type": "display_data"
    }
   ],
   "source": [
    "df = pd.concat([numericalcolumnsplot, companyStatus], axis=1)\n",
    "sns.FacetGrid(df,hue='Dependent-Company Status',height=10)\\\n",
    ".map(sns.distplot,\"Number of Co-founders\")\\\n",
    ".add_legend()\n",
    "\n",
    "plt.show()"
   ]
  },
  {
   "cell_type": "code",
   "execution_count": 136,
   "id": "8dec1677",
   "metadata": {
    "scrolled": true
   },
   "outputs": [
    {
     "name": "stdout",
     "output_type": "stream",
     "text": [
      "Collecting notebook-as-pdf\n",
      "  Downloading notebook_as_pdf-0.5.0-py3-none-any.whl (6.5 kB)\n",
      "Collecting pyppeteer\n",
      "  Downloading pyppeteer-1.0.2-py3-none-any.whl (83 kB)\n",
      "\u001b[K     |████████████████████████████████| 83 kB 664 kB/s eta 0:00:01\n",
      "\u001b[?25hCollecting PyPDF2\n",
      "  Downloading pypdf2-3.0.1-py3-none-any.whl (232 kB)\n",
      "\u001b[K     |████████████████████████████████| 232 kB 3.6 MB/s eta 0:00:01\n",
      "\u001b[?25hRequirement already satisfied: nbconvert in ./opt/anaconda3/lib/python3.9/site-packages (from notebook-as-pdf) (6.4.4)\n",
      "Requirement already satisfied: jupyterlab-pygments in ./opt/anaconda3/lib/python3.9/site-packages (from nbconvert->notebook-as-pdf) (0.1.2)\n",
      "Requirement already satisfied: traitlets>=5.0 in ./opt/anaconda3/lib/python3.9/site-packages (from nbconvert->notebook-as-pdf) (5.1.1)\n",
      "Requirement already satisfied: testpath in ./opt/anaconda3/lib/python3.9/site-packages (from nbconvert->notebook-as-pdf) (0.5.0)\n",
      "Requirement already satisfied: beautifulsoup4 in ./opt/anaconda3/lib/python3.9/site-packages (from nbconvert->notebook-as-pdf) (4.11.1)\n",
      "Requirement already satisfied: jupyter-core in ./opt/anaconda3/lib/python3.9/site-packages (from nbconvert->notebook-as-pdf) (4.9.2)\n",
      "Requirement already satisfied: nbformat>=4.4 in ./opt/anaconda3/lib/python3.9/site-packages (from nbconvert->notebook-as-pdf) (5.3.0)\n",
      "Requirement already satisfied: pandocfilters>=1.4.1 in ./opt/anaconda3/lib/python3.9/site-packages (from nbconvert->notebook-as-pdf) (1.5.0)\n",
      "Requirement already satisfied: mistune<2,>=0.8.1 in ./opt/anaconda3/lib/python3.9/site-packages (from nbconvert->notebook-as-pdf) (0.8.4)\n",
      "Requirement already satisfied: defusedxml in ./opt/anaconda3/lib/python3.9/site-packages (from nbconvert->notebook-as-pdf) (0.7.1)\n",
      "Requirement already satisfied: nbclient<0.6.0,>=0.5.0 in ./opt/anaconda3/lib/python3.9/site-packages (from nbconvert->notebook-as-pdf) (0.5.13)\n",
      "Requirement already satisfied: pygments>=2.4.1 in ./opt/anaconda3/lib/python3.9/site-packages (from nbconvert->notebook-as-pdf) (2.11.2)\n",
      "Requirement already satisfied: jinja2>=2.4 in ./opt/anaconda3/lib/python3.9/site-packages (from nbconvert->notebook-as-pdf) (2.11.3)\n",
      "Requirement already satisfied: bleach in ./opt/anaconda3/lib/python3.9/site-packages (from nbconvert->notebook-as-pdf) (4.1.0)\n",
      "Requirement already satisfied: entrypoints>=0.2.2 in ./opt/anaconda3/lib/python3.9/site-packages (from nbconvert->notebook-as-pdf) (0.4)\n",
      "Requirement already satisfied: MarkupSafe>=0.23 in ./opt/anaconda3/lib/python3.9/site-packages (from jinja2>=2.4->nbconvert->notebook-as-pdf) (2.0.1)\n",
      "Requirement already satisfied: nest-asyncio in ./opt/anaconda3/lib/python3.9/site-packages (from nbclient<0.6.0,>=0.5.0->nbconvert->notebook-as-pdf) (1.5.5)\n",
      "Requirement already satisfied: jupyter-client>=6.1.5 in ./opt/anaconda3/lib/python3.9/site-packages (from nbclient<0.6.0,>=0.5.0->nbconvert->notebook-as-pdf) (6.1.12)\n",
      "Requirement already satisfied: pyzmq>=13 in ./opt/anaconda3/lib/python3.9/site-packages (from jupyter-client>=6.1.5->nbclient<0.6.0,>=0.5.0->nbconvert->notebook-as-pdf) (22.3.0)\n",
      "Requirement already satisfied: tornado>=4.1 in ./opt/anaconda3/lib/python3.9/site-packages (from jupyter-client>=6.1.5->nbclient<0.6.0,>=0.5.0->nbconvert->notebook-as-pdf) (6.1)\n",
      "Requirement already satisfied: python-dateutil>=2.1 in ./opt/anaconda3/lib/python3.9/site-packages (from jupyter-client>=6.1.5->nbclient<0.6.0,>=0.5.0->nbconvert->notebook-as-pdf) (2.8.2)\n",
      "Requirement already satisfied: jsonschema>=2.6 in ./opt/anaconda3/lib/python3.9/site-packages (from nbformat>=4.4->nbconvert->notebook-as-pdf) (4.4.0)\n",
      "Requirement already satisfied: fastjsonschema in ./opt/anaconda3/lib/python3.9/site-packages (from nbformat>=4.4->nbconvert->notebook-as-pdf) (2.15.1)\n",
      "Requirement already satisfied: attrs>=17.4.0 in ./opt/anaconda3/lib/python3.9/site-packages (from jsonschema>=2.6->nbformat>=4.4->nbconvert->notebook-as-pdf) (21.4.0)\n",
      "Requirement already satisfied: pyrsistent!=0.17.0,!=0.17.1,!=0.17.2,>=0.14.0 in ./opt/anaconda3/lib/python3.9/site-packages (from jsonschema>=2.6->nbformat>=4.4->nbconvert->notebook-as-pdf) (0.18.0)\n",
      "Requirement already satisfied: six>=1.5 in ./opt/anaconda3/lib/python3.9/site-packages (from python-dateutil>=2.1->jupyter-client>=6.1.5->nbclient<0.6.0,>=0.5.0->nbconvert->notebook-as-pdf) (1.16.0)\n",
      "Requirement already satisfied: soupsieve>1.2 in ./opt/anaconda3/lib/python3.9/site-packages (from beautifulsoup4->nbconvert->notebook-as-pdf) (2.3.1)\n",
      "Requirement already satisfied: webencodings in ./opt/anaconda3/lib/python3.9/site-packages (from bleach->nbconvert->notebook-as-pdf) (0.5.1)\n",
      "Requirement already satisfied: packaging in ./opt/anaconda3/lib/python3.9/site-packages (from bleach->nbconvert->notebook-as-pdf) (21.3)\n",
      "Requirement already satisfied: pyparsing!=3.0.5,>=2.0.2 in ./opt/anaconda3/lib/python3.9/site-packages (from packaging->bleach->nbconvert->notebook-as-pdf) (3.0.4)\n",
      "Requirement already satisfied: typing_extensions>=3.10.0.0 in ./opt/anaconda3/lib/python3.9/site-packages (from PyPDF2->notebook-as-pdf) (4.1.1)\n",
      "Requirement already satisfied: certifi>=2021 in ./opt/anaconda3/lib/python3.9/site-packages (from pyppeteer->notebook-as-pdf) (2021.10.8)\n",
      "Requirement already satisfied: importlib-metadata>=1.4 in ./opt/anaconda3/lib/python3.9/site-packages (from pyppeteer->notebook-as-pdf) (4.11.3)\n",
      "Collecting websockets<11.0,>=10.0\n",
      "  Downloading websockets-10.4-cp39-cp39-macosx_10_9_x86_64.whl (97 kB)\n",
      "\u001b[K     |████████████████████████████████| 97 kB 4.9 MB/s eta 0:00:011\n",
      "\u001b[?25hRequirement already satisfied: appdirs<2.0.0,>=1.4.3 in ./opt/anaconda3/lib/python3.9/site-packages (from pyppeteer->notebook-as-pdf) (1.4.4)\n",
      "Collecting pyee<9.0.0,>=8.1.0\n",
      "  Downloading pyee-8.2.2-py2.py3-none-any.whl (12 kB)\n",
      "Requirement already satisfied: tqdm<5.0.0,>=4.42.1 in ./opt/anaconda3/lib/python3.9/site-packages (from pyppeteer->notebook-as-pdf) (4.64.0)\n",
      "Requirement already satisfied: urllib3<2.0.0,>=1.25.8 in ./opt/anaconda3/lib/python3.9/site-packages (from pyppeteer->notebook-as-pdf) (1.26.9)\n",
      "Requirement already satisfied: zipp>=0.5 in ./opt/anaconda3/lib/python3.9/site-packages (from importlib-metadata>=1.4->pyppeteer->notebook-as-pdf) (3.7.0)\n",
      "Installing collected packages: websockets, pyee, pyppeteer, PyPDF2, notebook-as-pdf\n",
      "Successfully installed PyPDF2-3.0.1 notebook-as-pdf-0.5.0 pyee-8.2.2 pyppeteer-1.0.2 websockets-10.4\n",
      "Note: you may need to restart the kernel to use updated packages.\n"
     ]
    }
   ],
   "source": [
    "pip install -U notebook-as-pdf"
   ]
  },
  {
   "cell_type": "code",
   "execution_count": null,
   "id": "94dd8a08",
   "metadata": {},
   "outputs": [],
   "source": []
  }
 ],
 "metadata": {
  "kernelspec": {
   "display_name": "Python 3 (ipykernel)",
   "language": "python",
   "name": "python3"
  },
  "language_info": {
   "codemirror_mode": {
    "name": "ipython",
    "version": 3
   },
   "file_extension": ".py",
   "mimetype": "text/x-python",
   "name": "python",
   "nbconvert_exporter": "python",
   "pygments_lexer": "ipython3",
   "version": "3.9.12"
  }
 },
 "nbformat": 4,
 "nbformat_minor": 5
}
