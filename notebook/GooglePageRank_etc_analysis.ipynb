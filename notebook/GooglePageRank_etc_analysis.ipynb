{
 "cells": [
  {
   "cell_type": "code",
   "execution_count": 1,
   "id": "89ae6459",
   "metadata": {},
   "outputs": [],
   "source": [
    "import pandas as pd                                                             \n",
    "import numpy as np                                                              \n",
    "import matplotlib.pyplot as plt                                                 \n",
    "import seaborn as sns                                                           \n",
    "import warnings                                                                 \n",
    "warnings.filterwarnings('ignore')"
   ]
  },
  {
   "cell_type": "code",
   "execution_count": null,
   "id": "e99a9ad2",
   "metadata": {},
   "outputs": [],
   "source": [
    "# Slicing Columns"
   ]
  },
  {
   "cell_type": "code",
   "execution_count": 2,
   "id": "e1a11c7e",
   "metadata": {},
   "outputs": [],
   "source": [
    "data = pd.read_csv(\"CAX_Startup_Data.csv\")"
   ]
  },
  {
   "cell_type": "code",
   "execution_count": 4,
   "id": "36018e99",
   "metadata": {},
   "outputs": [
    {
     "data": {
      "text/plain": [
       "(472, 116)"
      ]
     },
     "execution_count": 4,
     "metadata": {},
     "output_type": "execute_result"
    }
   ],
   "source": [
    "data.shape"
   ]
  },
  {
   "cell_type": "code",
   "execution_count": 5,
   "id": "f4ea918c",
   "metadata": {},
   "outputs": [
    {
     "data": {
      "text/plain": [
       "<bound method DataFrame.info of     Company_Name Dependent-Company Status year of founding  \\\n",
       "0       Company1                  Success          No Info   \n",
       "1       Company2                  Success             2011   \n",
       "2       Company3                  Success             2011   \n",
       "3       Company4                  Success             2009   \n",
       "4       Company5                  Success             2010   \n",
       "..           ...                      ...              ...   \n",
       "467   Company468                   Failed             2011   \n",
       "468   Company469                   Failed          No Info   \n",
       "469   Company470                   Failed             2010   \n",
       "470   Company471                   Failed             2009   \n",
       "471   Company472                   Failed             2013   \n",
       "\n",
       "    Age of company in years  Internet Activity Score  \\\n",
       "0                   No Info                     -1.0   \n",
       "1                         3                    125.0   \n",
       "2                         3                    455.0   \n",
       "3                         5                    -99.0   \n",
       "4                         4                    496.0   \n",
       "..                      ...                      ...   \n",
       "467                       3                     -5.0   \n",
       "468                     NaN                      NaN   \n",
       "469                       4                      0.0   \n",
       "470                       5                      0.0   \n",
       "471                       1                     11.0   \n",
       "\n",
       "        Short Description of company profile  \\\n",
       "0                         Video distribution   \n",
       "1                                        NaN   \n",
       "2                   Event Data Analytics API   \n",
       "3     The most advanced analytics for mobile   \n",
       "4      The Location-Based Marketing Platform   \n",
       "..                                       ...   \n",
       "467                           BtoB deal site   \n",
       "468                                      NaN   \n",
       "469         Real Time Social Media Analytics   \n",
       "470    Social Media Publishing and Analytics   \n",
       "471  Customized community health forecasting   \n",
       "\n",
       "                                Industry of company  \\\n",
       "0                                               NaN   \n",
       "1            Market Research|Marketing|Crowdfunding   \n",
       "2    Analytics|Cloud Computing|Software Development   \n",
       "3                                  Mobile|Analytics   \n",
       "4           Analytics|Marketing|Enterprise Software   \n",
       "..                                              ...   \n",
       "467                                      E-Commerce   \n",
       "468                                             NaN   \n",
       "469                            Analytics|E-Commerce   \n",
       "470                             Analytics|Marketing   \n",
       "471                            Analytics|Healthcare   \n",
       "\n",
       "    Focus functions of company  \\\n",
       "0                    operation   \n",
       "1             Marketing, sales   \n",
       "2                   operations   \n",
       "3            Marketing & Sales   \n",
       "4            Marketing & Sales   \n",
       "..                         ...   \n",
       "467                        NaN   \n",
       "468               consumer web   \n",
       "469        CAMPAIGN MANAGEMENT   \n",
       "470       SOCIALMEDIA CAMPAIGN   \n",
       "471         DATA VISUALIZATION   \n",
       "\n",
       "                                             Investors  Employee Count  ...  \\\n",
       "0    KPCB Holdings|Draper Fisher Jurvetson (DFJ)|Kl...             3.0  ...   \n",
       "1                                                  NaN             NaN  ...   \n",
       "2    TechStars|Streamlined Ventures|Amplify Partner...            14.0  ...   \n",
       "3    Michael Birch|Max Levchin|Sequoia Capital|Keit...            45.0  ...   \n",
       "4    DFJ Frontier|Draper Nexus Ventures|Gil Elbaz|A...            39.0  ...   \n",
       "..                                                 ...             ...  ...   \n",
       "467                                                NaN             NaN  ...   \n",
       "468                                                NaN             NaN  ...   \n",
       "469                                                NaN             0.0  ...   \n",
       "470                                                NaN             NaN  ...   \n",
       "471                       David Schafer|Bert Navarrete             NaN  ...   \n",
       "\n",
       "     Percent_skill_Data Science Percent_skill_Business Strategy  \\\n",
       "0                             0                               0   \n",
       "1                   8.823529412                     21.76470588   \n",
       "2                   3.846153846                     17.09401709   \n",
       "3                             0                               0   \n",
       "4                             0                               0   \n",
       "..                          ...                             ...   \n",
       "467                     No Info                         No Info   \n",
       "468                           0                               0   \n",
       "469                     No Info                         No Info   \n",
       "470                     No Info                         No Info   \n",
       "471                     No Info                         No Info   \n",
       "\n",
       "    Percent_skill_Product Management Percent_skill_Sales  \\\n",
       "0                                  0                   0   \n",
       "1                        10.88235294         2.941176471   \n",
       "2                        9.401709402                   0   \n",
       "3                                  0                   0   \n",
       "4                                  0                   0   \n",
       "..                               ...                 ...   \n",
       "467                          No Info             No Info   \n",
       "468                                0                   0   \n",
       "469                          No Info             No Info   \n",
       "470                          No Info             No Info   \n",
       "471                          No Info             No Info   \n",
       "\n",
       "     Percent_skill_Domain Percent_skill_Law Percent_skill_Consulting  \\\n",
       "0                       0                 0                        0   \n",
       "1                       0                 0                        0   \n",
       "2             2.777777778                 0                        0   \n",
       "3                       0                 0                        0   \n",
       "4                       0                 0                        0   \n",
       "..                    ...               ...                      ...   \n",
       "467               No Info           No Info                  No Info   \n",
       "468                     0                 0                        0   \n",
       "469               No Info           No Info                  No Info   \n",
       "470               No Info           No Info                  No Info   \n",
       "471               No Info           No Info                  No Info   \n",
       "\n",
       "    Percent_skill_Finance Percent_skill_Investment  Renown score  \n",
       "0                       0                        0             0  \n",
       "1                       0                        0             8  \n",
       "2                       0                        0             9  \n",
       "3                       0                        0             5  \n",
       "4                       0                        0             6  \n",
       "..                    ...                      ...           ...  \n",
       "467               No Info                  No Info       No Info  \n",
       "468                     0                        0             0  \n",
       "469               No Info                  No Info       No Info  \n",
       "470               No Info                  No Info       No Info  \n",
       "471               No Info                  No Info       No Info  \n",
       "\n",
       "[472 rows x 116 columns]>"
      ]
     },
     "execution_count": 5,
     "metadata": {},
     "output_type": "execute_result"
    }
   ],
   "source": [
    "data.info"
   ]
  },
  {
   "cell_type": "code",
   "execution_count": 8,
   "id": "f25295e4",
   "metadata": {},
   "outputs": [
    {
     "data": {
      "text/plain": [
       "0        Company1\n",
       "1        Company2\n",
       "2        Company3\n",
       "3        Company4\n",
       "4        Company5\n",
       "          ...    \n",
       "467    Company468\n",
       "468    Company469\n",
       "469    Company470\n",
       "470    Company471\n",
       "471    Company472\n",
       "Name: Company_Name, Length: 472, dtype: object"
      ]
     },
     "execution_count": 8,
     "metadata": {},
     "output_type": "execute_result"
    }
   ],
   "source": [
    "companys = data['Company_Name']\n",
    "companys"
   ]
  },
  {
   "cell_type": "code",
   "execution_count": 186,
   "id": "722058bf",
   "metadata": {},
   "outputs": [
    {
     "data": {
      "text/plain": [
       "0      Success\n",
       "1      Success\n",
       "2      Success\n",
       "3      Success\n",
       "4      Success\n",
       "        ...   \n",
       "467     Failed\n",
       "468     Failed\n",
       "469     Failed\n",
       "470     Failed\n",
       "471     Failed\n",
       "Name: Dependent-Company Status, Length: 472, dtype: object"
      ]
     },
     "execution_count": 186,
     "metadata": {},
     "output_type": "execute_result"
    }
   ],
   "source": [
    "companyStatus = data['Dependent-Company Status']\n",
    "companyStatus"
   ]
  },
  {
   "cell_type": "code",
   "execution_count": 122,
   "id": "e205a071",
   "metadata": {},
   "outputs": [
    {
     "data": {
      "text/plain": [
       "0      Yes\n",
       "1      Yes\n",
       "2      Yes\n",
       "3      Yes\n",
       "4      Yes\n",
       "      ... \n",
       "467    NaN\n",
       "468    NaN\n",
       "469    NaN\n",
       "470    NaN\n",
       "471    NaN\n",
       "Name: Exposure across the globe, Length: 472, dtype: object"
      ]
     },
     "execution_count": 122,
     "metadata": {},
     "output_type": "execute_result"
    }
   ],
   "source": [
    "expoGlobe = data['Exposure across the globe']\n",
    "expoGlobe"
   ]
  },
  {
   "cell_type": "code",
   "execution_count": 100,
   "id": "5dad823b",
   "metadata": {},
   "outputs": [
    {
     "data": {
      "text/plain": [
       "0         None\n",
       "1         None\n",
       "2         None\n",
       "3         None\n",
       "4          Few\n",
       "        ...   \n",
       "467    No Info\n",
       "468    No Info\n",
       "469    No Info\n",
       "470    No Info\n",
       "471    No Info\n",
       "Name: Number of  of Research publications, Length: 472, dtype: object"
      ]
     },
     "execution_count": 100,
     "metadata": {},
     "output_type": "execute_result"
    }
   ],
   "source": [
    "numResearchPub = data['Number of  of Research publications']\n",
    "numResearchPub"
   ]
  },
  {
   "cell_type": "code",
   "execution_count": 20,
   "id": "5e528d75",
   "metadata": {},
   "outputs": [
    {
     "data": {
      "text/plain": [
       "0         High\n",
       "1          Low\n",
       "2          Low\n",
       "3          Low\n",
       "4          Low\n",
       "        ...   \n",
       "467    No Info\n",
       "468    No Info\n",
       "469    No Info\n",
       "470    No Info\n",
       "471    No Info\n",
       "Name: Time to market service or product, Length: 472, dtype: object"
      ]
     },
     "execution_count": 20,
     "metadata": {},
     "output_type": "execute_result"
    }
   ],
   "source": [
    "timeMarketSrvOrProd = data['Time to market service or product']\n",
    "timeMarketSrvOrProd"
   ]
  },
  {
   "cell_type": "code",
   "execution_count": 11,
   "id": "aa9792c7",
   "metadata": {},
   "outputs": [
    {
     "data": {
      "text/plain": [
       "0      9626884\n",
       "1      1067034\n",
       "2        71391\n",
       "3        11847\n",
       "4       201814\n",
       "        ...   \n",
       "467    No Info\n",
       "468    No Info\n",
       "469    No Info\n",
       "470    No Info\n",
       "471    No Info\n",
       "Name: google page rank of company website, Length: 472, dtype: object"
      ]
     },
     "execution_count": 11,
     "metadata": {},
     "output_type": "execute_result"
    }
   ],
   "source": [
    "googlePageRank = data['google page rank of company website']\n",
    "googlePageRank"
   ]
  },
  {
   "cell_type": "code",
   "execution_count": 12,
   "id": "2d06015e",
   "metadata": {},
   "outputs": [
    {
     "data": {
      "text/plain": [
       "0           No\n",
       "1           No\n",
       "2           No\n",
       "3           No\n",
       "4           No\n",
       "        ...   \n",
       "467    No Info\n",
       "468    No Info\n",
       "469    No Info\n",
       "470    No Info\n",
       "471    No Info\n",
       "Name: Company awards, Length: 472, dtype: object"
      ]
     },
     "execution_count": 12,
     "metadata": {},
     "output_type": "execute_result"
    }
   ],
   "source": [
    "companyAwards = data['Company awards']\n",
    "companyAwards"
   ]
  },
  {
   "cell_type": "code",
   "execution_count": 13,
   "id": "a214d5c3",
   "metadata": {},
   "outputs": [
    {
     "data": {
      "text/plain": [
       "0            0\n",
       "1            0\n",
       "2            0\n",
       "3            2\n",
       "4            0\n",
       "        ...   \n",
       "467    No Info\n",
       "468    No Info\n",
       "469    No Info\n",
       "470    No Info\n",
       "471    No Info\n",
       "Name: Number of Direct competitors, Length: 472, dtype: object"
      ]
     },
     "execution_count": 13,
     "metadata": {},
     "output_type": "execute_result"
    }
   ],
   "source": [
    "numDirCompetitors = data['Number of Direct competitors']\n",
    "numDirCompetitors"
   ]
  },
  {
   "cell_type": "code",
   "execution_count": 14,
   "id": "6ea24e46",
   "metadata": {},
   "outputs": [
    {
     "data": {
      "text/plain": [
       "0              1.5\n",
       "1      6.666666667\n",
       "2      3.333333333\n",
       "3               10\n",
       "4               10\n",
       "          ...     \n",
       "467        No Info\n",
       "468        No Info\n",
       "469        No Info\n",
       "470        No Info\n",
       "471        No Info\n",
       "Name: Employees per year of company existence, Length: 472, dtype: object"
      ]
     },
     "execution_count": 14,
     "metadata": {},
     "output_type": "execute_result"
    }
   ],
   "source": [
    "employeePerYear = data['Employees per year of company existence']\n",
    "employeePerYear"
   ]
  },
  {
   "cell_type": "code",
   "execution_count": 16,
   "id": "7f36d62b",
   "metadata": {},
   "outputs": [
    {
     "data": {
      "text/plain": [
       "0         0.45\n",
       "1            5\n",
       "2         2.35\n",
       "3        10.25\n",
       "4          5.5\n",
       "        ...   \n",
       "467    No Info\n",
       "468    No Info\n",
       "469    No Info\n",
       "470    No Info\n",
       "471    No Info\n",
       "Name: Last round of funding received (in milionUSD), Length: 472, dtype: object"
      ]
     },
     "execution_count": 16,
     "metadata": {},
     "output_type": "execute_result"
    }
   ],
   "source": [
    "lastRndFndingAmtMilUSD = data['Last round of funding received (in milionUSD)']\n",
    "lastRndFndingAmtMilUSD"
   ]
  },
  {
   "cell_type": "code",
   "execution_count": 17,
   "id": "999ffb88",
   "metadata": {},
   "outputs": [
    {
     "data": {
      "text/plain": [
       "0             No Info\n",
       "1      Not Applicable\n",
       "2      Not Applicable\n",
       "3      Not Applicable\n",
       "4      Not Applicable\n",
       "            ...      \n",
       "467           No Info\n",
       "468           No Info\n",
       "469           No Info\n",
       "470           No Info\n",
       "471           No Info\n",
       "Name: Survival through recession, based on existence of the company through recession times, Length: 472, dtype: object"
      ]
     },
     "execution_count": 17,
     "metadata": {},
     "output_type": "execute_result"
    }
   ],
   "source": [
    "survivalRecession = data['Survival through recession, based on existence of the company through recession times']\n",
    "survivalRecession"
   ]
  },
  {
   "cell_type": "code",
   "execution_count": 18,
   "id": "12e52304",
   "metadata": {},
   "outputs": [
    {
     "data": {
      "text/plain": [
       "0            11.56\n",
       "1                9\n",
       "2      7.344444444\n",
       "3              8.7\n",
       "4      9.822222222\n",
       "          ...     \n",
       "467        No Info\n",
       "468        No Info\n",
       "469        No Info\n",
       "470        No Info\n",
       "471        No Info\n",
       "Name: Avg time to investment - average across all rounds, measured from previous investment, Length: 472, dtype: object"
      ]
     },
     "execution_count": 18,
     "metadata": {},
     "output_type": "execute_result"
    }
   ],
   "source": [
    "avgTimeInvestment = data['Avg time to investment - average across all rounds, measured from previous investment']\n",
    "avgTimeInvestment"
   ]
  },
  {
   "cell_type": "code",
   "execution_count": 44,
   "id": "b1811ab4",
   "metadata": {},
   "outputs": [
    {
     "data": {
      "text/plain": [
       "5"
      ]
     },
     "execution_count": 44,
     "metadata": {},
     "output_type": "execute_result"
    }
   ],
   "source": []
  },
  {
   "cell_type": "code",
   "execution_count": 59,
   "id": "198f6b37",
   "metadata": {},
   "outputs": [
    {
     "data": {
      "text/plain": [
       "array(['Company1', 'Company2', 'Company3', 'Company4', 'Company5',\n",
       "       'Company6', 'Company7', 'Company8', 'Company9', 'Company10',\n",
       "       'Company11', 'Company12', 'Company13', 'Company14', 'Company15',\n",
       "       'Company16', 'Company17', 'Company18', 'Company19', 'Company20',\n",
       "       'Company21', 'Company22', 'Company23', 'Company24', 'Company25',\n",
       "       'Company26', 'Company27', 'Company28', 'Company29', 'Company30',\n",
       "       'Company31', 'Company32', 'Company33', 'Company34', 'Company35',\n",
       "       'Company36', 'Company37', 'Company38', 'Company39', 'Company40',\n",
       "       'Company41', 'Company42', 'Company43', 'Company44', 'Company45',\n",
       "       'Company46', 'Company47', 'Company48', 'Company49', 'Company50',\n",
       "       'Company51', 'Company52', 'Company53', 'Company54', 'Company55',\n",
       "       'Company56', 'Company57', 'Company58', 'Company59', 'Company60',\n",
       "       'Company61', 'Company62', 'Company63', 'Company64', 'Company65',\n",
       "       'Company66', 'Company67', 'Company68', 'Company69', 'Company70',\n",
       "       'Company71', 'Company72', 'Company73', 'Company74', 'Company75',\n",
       "       'Company76', 'Company77', 'Company78', 'Company79', 'Company80',\n",
       "       'Company81', 'Company82', 'Company83', 'Company84', 'Company85',\n",
       "       'Company86', 'Company87', 'Company88', 'Company89', 'Company90',\n",
       "       'Company91', 'Company92', 'Company93', 'Company94', 'Company95',\n",
       "       'Company96', 'Company97', 'Company98', 'Company99', 'Company100',\n",
       "       'Company101', 'Company102', 'Company103', 'Company104',\n",
       "       'Company105', 'Company106', 'Company107', 'Company108',\n",
       "       'Company109', 'Company110', 'Company111', 'Company112',\n",
       "       'Company113', 'Company114', 'Company115', 'Company116',\n",
       "       'Company117', 'Company118', 'Company119', 'Company120',\n",
       "       'Company121', 'Company122', 'Company123', 'Company124',\n",
       "       'Company125', 'Company126', 'Company127', 'Company128',\n",
       "       'Company129', 'Company130', 'Company131', 'Company132',\n",
       "       'Company133', 'Company134', 'Company135', 'Company136',\n",
       "       'Company137', 'Company138', 'Company139', 'Company140',\n",
       "       'Company141', 'Company142', 'Company143', 'Company144',\n",
       "       'Company145', 'Company146', 'Company147', 'Company148',\n",
       "       'Company149', 'Company150', 'Company151', 'Company152',\n",
       "       'Company153', 'Company154', 'Company155', 'Company156',\n",
       "       'Company157', 'Company158', 'Company159', 'Company160',\n",
       "       'Company161', 'Company162', 'Company163', 'Company164',\n",
       "       'Company165', 'Company166', 'Company167', 'Company168',\n",
       "       'Company169', 'Company170', 'Company171', 'Company172',\n",
       "       'Company173', 'Company174', 'Company175', 'Company176',\n",
       "       'Company177', 'Company178', 'Company179', 'Company180',\n",
       "       'Company181', 'Company182', 'Company183', 'Company184',\n",
       "       'Company185', 'Company186', 'Company187', 'Company188',\n",
       "       'Company189', 'Company190', 'Company191', 'Company192',\n",
       "       'Company193', 'Company194', 'Company195', 'Company196',\n",
       "       'Company197', 'Company198', 'Company199', 'Company200',\n",
       "       'Company201', 'Company202', 'Company203', 'Company204',\n",
       "       'Company205', 'Company206', 'Company207', 'Company208',\n",
       "       'Company209', 'Company210', 'Company211', 'Company212',\n",
       "       'Company213', 'Company214', 'Company215', 'Company216',\n",
       "       'Company217', 'Company218', 'Company219', 'Company220',\n",
       "       'Company221', 'Company222', 'Company223', 'Company224',\n",
       "       'Company225', 'Company226', 'Company227', 'Company228',\n",
       "       'Company229', 'Company230', 'Company231', 'Company232',\n",
       "       'Company233', 'Company234', 'Company235', 'Company236',\n",
       "       'Company237', 'Company238', 'Company239', 'Company240',\n",
       "       'Company241', 'Company242', 'Company243', 'Company244',\n",
       "       'Company245', 'Company246', 'Company247', 'Company248',\n",
       "       'Company249', 'Company250', 'Company251', 'Company252',\n",
       "       'Company253', 'Company254', 'Company255', 'Company256',\n",
       "       'Company257', 'Company258', 'Company259', 'Company260',\n",
       "       'Company261', 'Company262', 'Company263', 'Company264',\n",
       "       'Company265', 'Company266', 'Company267', 'Company268',\n",
       "       'Company269', 'Company270', 'Company271', 'Company272',\n",
       "       'Company273', 'Company274', 'Company275', 'Company276',\n",
       "       'Company277', 'Company278', 'Company279', 'Company280',\n",
       "       'Company281', 'Company282', 'Company283', 'Company284',\n",
       "       'Company285', 'Company286', 'Company287', 'Company288',\n",
       "       'Company289', 'Company290', 'Company291', 'Company292',\n",
       "       'Company293', 'Company294', 'Company295', 'Company296',\n",
       "       'Company297', 'Company298', 'Company299', 'Company300',\n",
       "       'Company301', 'Company302', 'Company303', 'Company304',\n",
       "       'Company305', 'Company306', 'Company307', 'Company308',\n",
       "       'Company309', 'Company310', 'Company311', 'Company312',\n",
       "       'Company313', 'Company314', 'Company315', 'Company316',\n",
       "       'Company317', 'Company318', 'Company319', 'Company320',\n",
       "       'Company321', 'Company322', 'Company323', 'Company324',\n",
       "       'Company325', 'Company326', 'Company327', 'Company328',\n",
       "       'Company329', 'Company330', 'Company331', 'Company332',\n",
       "       'Company333', 'Company334', 'Company335', 'Company336',\n",
       "       'Company337', 'Company338', 'Company339', 'Company340',\n",
       "       'Company341', 'Company342', 'Company343', 'Company344',\n",
       "       'Company345', 'Company346', 'Company347', 'Company348',\n",
       "       'Company349', 'Company350', 'Company351', 'Company352',\n",
       "       'Company353', 'Company354', 'Company355', 'Company356',\n",
       "       'Company357', 'Company358', 'Company359', 'Company360',\n",
       "       'Company361', 'Company362', 'Company363', 'Company364',\n",
       "       'Company365', 'Company366', 'Company367', 'Company368',\n",
       "       'Company369', 'Company370', 'Company371', 'Company372',\n",
       "       'Company373', 'Company374', 'Company375', 'Company376',\n",
       "       'Company377', 'Company378', 'Company379', 'Company380',\n",
       "       'Company381', 'Company382', 'Company383', 'Company384',\n",
       "       'Company385', 'Company386', 'Company387', 'Company388',\n",
       "       'Company389', 'Company390', 'Company391', 'Company392',\n",
       "       'Company393', 'Company394', 'Company395', 'Company396',\n",
       "       'Company397', 'Company398', 'Company399', 'Company400',\n",
       "       'Company401', 'Company402', 'Company403', 'Company404',\n",
       "       'Company405', 'Company406', 'Company407', 'Company408',\n",
       "       'Company409', 'Company410', 'Company411', 'Company412',\n",
       "       'Company413', 'Company414', 'Company415', 'Company416',\n",
       "       'Company417', 'Company418', 'Company419', 'Company420',\n",
       "       'Company421', 'Company422', 'Company423', 'Company424',\n",
       "       'Company425', 'Company426', 'Company427', 'Company428',\n",
       "       'Company429', 'Company430', 'Company431', 'Company432',\n",
       "       'Company433', 'Company434', 'Company435', 'Company436',\n",
       "       'Company437', 'Company438', 'Company439', 'Company440',\n",
       "       'Company441', 'Company442', 'Company443', 'Company444',\n",
       "       'Company445', 'Company446', 'Company447', 'Company448',\n",
       "       'Company449', 'Company450', 'Company451', 'Company452',\n",
       "       'Company453', 'Company454', 'Company455', 'Company456',\n",
       "       'Company457', 'Company458', 'Company459', 'Company460',\n",
       "       'Company461', 'Company462', 'Company463', 'Company464',\n",
       "       'Company465', 'Company466', 'Company467', 'Company468',\n",
       "       'Company469', 'Company470', 'Company471', 'Company472'],\n",
       "      dtype=object)"
      ]
     },
     "execution_count": 59,
     "metadata": {},
     "output_type": "execute_result"
    }
   ],
   "source": [
    "companys.unique()"
   ]
  },
  {
   "cell_type": "code",
   "execution_count": 187,
   "id": "08957b24",
   "metadata": {},
   "outputs": [
    {
     "data": {
      "text/plain": [
       "array(['Success', 'Failed'], dtype=object)"
      ]
     },
     "execution_count": 187,
     "metadata": {},
     "output_type": "execute_result"
    }
   ],
   "source": [
    "companyStatus.unique()"
   ]
  },
  {
   "cell_type": "code",
   "execution_count": 123,
   "id": "d0995bcb",
   "metadata": {},
   "outputs": [
    {
     "data": {
      "text/plain": [
       "array(['Yes', 'No', nan], dtype=object)"
      ]
     },
     "execution_count": 123,
     "metadata": {},
     "output_type": "execute_result"
    }
   ],
   "source": [
    "expoGlobe.unique()"
   ]
  },
  {
   "cell_type": "code",
   "execution_count": 101,
   "id": "22ea50ed",
   "metadata": {},
   "outputs": [
    {
     "data": {
      "text/plain": [
       "array(['None', 'Few', 'Many', 'No Info'], dtype=object)"
      ]
     },
     "execution_count": 101,
     "metadata": {},
     "output_type": "execute_result"
    }
   ],
   "source": [
    "numResearchPub.unique()"
   ]
  },
  {
   "cell_type": "code",
   "execution_count": 60,
   "id": "2fce6abd",
   "metadata": {},
   "outputs": [
    {
     "data": {
      "text/plain": [
       "array(['High', 'Low', 'Medium', 'No Info'], dtype=object)"
      ]
     },
     "execution_count": 60,
     "metadata": {},
     "output_type": "execute_result"
    }
   ],
   "source": [
    "timeMarketSrvOrProd.unique()"
   ]
  },
  {
   "cell_type": "code",
   "execution_count": 61,
   "id": "f0746425",
   "metadata": {},
   "outputs": [
    {
     "data": {
      "text/plain": [
       "array(['No', 'Yes', 'No Info'], dtype=object)"
      ]
     },
     "execution_count": 61,
     "metadata": {},
     "output_type": "execute_result"
    }
   ],
   "source": [
    "companyAwards.unique()"
   ]
  },
  {
   "cell_type": "code",
   "execution_count": 62,
   "id": "c9437133",
   "metadata": {},
   "outputs": [
    {
     "data": {
      "text/plain": [
       "array(['No Info', 'Not Applicable', 'Yes', 'No'], dtype=object)"
      ]
     },
     "execution_count": 62,
     "metadata": {},
     "output_type": "execute_result"
    }
   ],
   "source": [
    "survivalRecession.unique()"
   ]
  },
  {
   "cell_type": "code",
   "execution_count": 63,
   "id": "6516934f",
   "metadata": {},
   "outputs": [
    {
     "data": {
      "text/plain": [
       "array(['9626884', '1067034', '71391', '11847', '201814', '591816',\n",
       "       '2345574', '1015027', '256921', '3639779', '142907', '1560315',\n",
       "       '172054', '99081', '713494', '289041', '1939943', '276491',\n",
       "       '3341960', '2461569', '1246836', '269278', '761788', '109189',\n",
       "       '642250', '3799200', '2497831', '7253712', '296645', '155498',\n",
       "       '38021', 'No Info', '9355', '1024425', '1951415', '912860',\n",
       "       '2439989', '3792883', '4518529', '2219202', '2607547', '375492',\n",
       "       '1810474', '221783', '1089377', '213086', '375318', '11967',\n",
       "       '169460', '447301', '86394', '217103', '12999889', '282991',\n",
       "       '754828', '28597', '761094', '17535', '204716', '346300',\n",
       "       '1873143', '63274', '1275090', '1766890', '2278656', '1505714',\n",
       "       '1668553', '4095647', '1652983', '235406', '163353', '5620837',\n",
       "       '962657', '6222945', '2281937', '346554', '7917', '4996181',\n",
       "       '312361', '44436', '1447733', '163851', '7355795', '46550',\n",
       "       '2584435', '516830', '314409', '7665', '19728', '1983752',\n",
       "       '10080538', '302399', '117309', '915558', '431282', '1370603',\n",
       "       '12799600', '91162', '1752170', '544030', '6864799', '64262',\n",
       "       '1058457', '194733', '263431', '709728', '29452', '297388',\n",
       "       '245871', '2134030', '1842172', '226890', '4910627', '408646',\n",
       "       '1046310', '2352334', '1085205', '28190', '211794', '1603864',\n",
       "       '731564', '193129', '483', '545749', '8990243', '8714861',\n",
       "       '1989996', '3274502', '718025', '3638146', '245307', '14598301',\n",
       "       '7974958', '16821322', '7445', '2205289', '29182', '1615432',\n",
       "       '104224', '1125918', '95565', '6536311', '810092', '797253',\n",
       "       '583200', '2155880', '103061', '2738450', '1065438', '1178117',\n",
       "       '6657549', '108639', '368165', '1162155', '290009', '3506564',\n",
       "       '22105', '88188', '990957', '880762', '1158531', '156473',\n",
       "       '10414376', '359437', '735463', '1409473', '48561', '4331697',\n",
       "       '44388', '2084312', '2186599', '427794', '533971', '58457',\n",
       "       '889950', '6773962', '1147953', '1676454', '141868', '6670312',\n",
       "       '410491', '29861', '443595', '208813', '127118', '3702887',\n",
       "       '9439938', '898999', '3743293', '14785', '751103', '7020276',\n",
       "       '82868', '333844', '1559939', '8334266', '2725', '4621889',\n",
       "       '434839', '257071', '1541266', '1327504', '382303', '245886',\n",
       "       '20238024', '4386057', '1633729', '456198', '1075438', '1725737',\n",
       "       '2522474', '3784917', '5506308', '22246', '8709224', '1936207',\n",
       "       '14054', '45567', '2992604', '14553250', '255878', '147869',\n",
       "       '138358', '112659', '12992', '20196505', '3600838', '5851401',\n",
       "       '18372022', '970318', '1912479', '88023', '9092587', '18581451',\n",
       "       '7581851', '5516702', '8536058', '15201417', '14539082', '819284',\n",
       "       '829576', '7663291', '816385', '17173041', '1400959', '6972031',\n",
       "       '105893', '1336317', '157602', '38521', '786526', '5835588',\n",
       "       '186669', '54162', '4038', '885463', '583509', '5092265', '7941',\n",
       "       '43814', '840553', '22391670', '6405946', '20635527', '257365',\n",
       "       '1877770', '2871443', '5631525', '16024', '1978409', '17887654',\n",
       "       '4618433', '112920', '11809941', '5751747', '15411', '45979',\n",
       "       '504890', '351854', '45388', '237226', '596645', '1198637',\n",
       "       '7078322', '55913', '3427821', '1578645', '1405476', '1713317',\n",
       "       '267433', '452454', '9080158', '1869138', '327029', '325240',\n",
       "       '15735768', '555837', '96532', '1167795', '525906', '644516',\n",
       "       '480111', '899614', '69882', '619877', '2083910', '253992',\n",
       "       '37120', '161711', '1718511', '848616'], dtype=object)"
      ]
     },
     "execution_count": 63,
     "metadata": {},
     "output_type": "execute_result"
    }
   ],
   "source": [
    "googlePageRank.unique()"
   ]
  },
  {
   "cell_type": "code",
   "execution_count": 64,
   "id": "fcbe0f28",
   "metadata": {},
   "outputs": [
    {
     "data": {
      "text/plain": [
       "array(['0', '2', '4', '5', '3', '33', '20', '25', '12', '6', '7', '1',\n",
       "       '15', '8', '28', '9', '10', '11', '19', '21', '13', '16', '18',\n",
       "       'No Info'], dtype=object)"
      ]
     },
     "execution_count": 64,
     "metadata": {},
     "output_type": "execute_result"
    }
   ],
   "source": [
    "numDirCompetitors.unique()"
   ]
  },
  {
   "cell_type": "code",
   "execution_count": 65,
   "id": "54e02d48",
   "metadata": {},
   "outputs": [
    {
     "data": {
      "text/plain": [
       "array(['1.5', '6.666666667', '3.333333333', '10', '3.5', '5',\n",
       "       '16.66666667', '3', '25', '16.6', '4.4', '40', '12.5', '18.18',\n",
       "       '8.6', '3.25', '33', '5.5', '2.5', '18.3', '7', '44', '4', '13',\n",
       "       '30', '3.3', '2', '28.5', '200', '7.6', '16', '47.38', '1', '14',\n",
       "       '13.75', '28.75', '11.6', '15', '50', '18', '17', '81.33', '9.75',\n",
       "       '6', '1.3', 'No Info', '9.3', '14.6', '4.5', '315', '11', '12',\n",
       "       '2.75', '19', '7.5', '11.11', '3.8', '1.1', '3.75', '20', '6.25',\n",
       "       '8', '1.6', '0.4', '6.6', '8.33', '51', '53.6', '0.8', '0.6',\n",
       "       '17.5', '1.25', '42', '48.33', '1.4', '1.63', '2.6', '43', '28',\n",
       "       '22', '75.3', '22.5', '16.3', '14.16', '24', '13.3', '3.07',\n",
       "       '1.75', '9', '19.25', '83', '12.83', '36.08', '1.2', '12.33', '48',\n",
       "       '0.3', '99', '11.5', '2.66', '6.5', '33.3', '1.125', '7.14',\n",
       "       '28.57', '0.75', '8.3', '8.125', '6.8', '833.3', '0', '10.6',\n",
       "       '4.6'], dtype=object)"
      ]
     },
     "execution_count": 65,
     "metadata": {},
     "output_type": "execute_result"
    }
   ],
   "source": [
    "employeePerYear.unique()"
   ]
  },
  {
   "cell_type": "code",
   "execution_count": 66,
   "id": "bc367370",
   "metadata": {},
   "outputs": [
    {
     "data": {
      "text/plain": [
       "array(['0.45', '5', '2.35', '10.25', '5.5', '1', '2', '6.7', '11', '3',\n",
       "       '16', '6.3', '11.5', '6.5', '2.8', '41', '3.499999', '10', '0.75',\n",
       "       '0.749999', '1.5', '15', '5.2', '1.7', '0.25', '1.4', '1.1', '0.2',\n",
       "       '0.6', 'unknown amount', '20', '2.87089', '0.07', '0.06',\n",
       "       '2.517424', '14', '1.75', '30', '25', '4', '13', '1.070901', '2.5',\n",
       "       '3.9', '4.1', '0.062', '0.01', '0.425', '0.125', '0.03', '0.025',\n",
       "       '0.135', '0.11', 'No Info', '1.3', '1.9', '0.8', '1.8', '0.05',\n",
       "       '7.5', '0.5', '0.55', '0.1', '0.175', '0.81', '0.65', '0.375',\n",
       "       '17', '3.5', '7', '35', '9.4', '6.1', '62.5', '2.7', '2.3',\n",
       "       '0.287', '8', '43', '4.5', '4.3', '3.7', '7.8', '6', '18',\n",
       "       '4.499999', '0.77', '0.02', '4.25', '30.6', '24', '1.017026',\n",
       "       '0.4', '0.535', '21', '4.2', '3.15', '19', '45', '2.55', '8.7',\n",
       "       '5.089656', '8.5', '12.75', '6.000001', '0.795', '9.5',\n",
       "       '11.778004', '0.525', '0.018', '0.15', '3.2', '15.5', '0.04',\n",
       "       '1.2', '0.455', '8.1', '0.714205', '0.028', '3.6', '2.1', '0.015',\n",
       "       '42', '27.5', '0.98', '13.2', '0.9', '0.08', '0.62', '0.345',\n",
       "       '0.584988', '0.118', '1.320384', '1.53', '2.669209', '0.595',\n",
       "       '7.4', '17.3', '0.560001', '2.2', '3.75', '4.7'], dtype=object)"
      ]
     },
     "execution_count": 66,
     "metadata": {},
     "output_type": "execute_result"
    }
   ],
   "source": [
    "lastRndFndingAmtMilUSD.unique()"
   ]
  },
  {
   "cell_type": "code",
   "execution_count": 67,
   "id": "4458a277",
   "metadata": {},
   "outputs": [
    {
     "data": {
      "text/plain": [
       "array(['11.56', '9', '7.344444444', '8.7', '9.822222222', '9.322222222',\n",
       "       '7.311111111', '6.4', '12', '5', '2.666666667', '3.85', '6',\n",
       "       '7.333333333', '48', '8', '11.06666667', '12.61666667', '24.625',\n",
       "       '5.455555556', '15', '96', '7.366666667', '18', '3.55',\n",
       "       '6.111111111', '4', '13.62222222', '3', '1', '12.12222222',\n",
       "       'No Info', '9.375', '5.033333333', '7.116666667', '14', '10', '7',\n",
       "       '24', '156', '4.583333333', '7.733333333', '4.9', '6.466666667',\n",
       "       '4.183333333', '3.3', '4.716666667', '16', '3.322222222',\n",
       "       '12.74444444', '3.983333333', '75', '9.466666667', '20', '32',\n",
       "       '2.25', '2', '45', '35', '3.283333333', '7.583333333',\n",
       "       '16.53333333', '6.222222222', '6.95', '70', '15.48888889',\n",
       "       '4.966666667', '17', '3.066666667', '47', '10.24444444',\n",
       "       '2.566666667', '6.483333333', '1.242857143', '11.51666667',\n",
       "       '10.03333333', '9.233333333', '6.233333333', '10.27777778',\n",
       "       '5.355555556', '18.1', '4.3', '5.344444444', '7.306666667',\n",
       "       '5.777777778', '7.45', '7.4', '17.58333333', '6.85', '2.761111111',\n",
       "       '5.05', '2.711111111', '7.1', '26.25', '11.88333333',\n",
       "       '4.011111111', '26', '1.633333333', '5.695238095', '8.877777778',\n",
       "       '72', '6.366666667', '7.616666667', '1.677777778', '3.6', '36',\n",
       "       '10.725', '37', '8.016666667', '6.244444444', '11', '40', '13',\n",
       "       '27', '6.966666667', '7.188888889', '4.45', '16.62222222',\n",
       "       '6.433333333', '9.077777778', '8.383333333', '14.26666667', '7.8',\n",
       "       '4.333333333', '13.06666667', '10.6', '6.973333333', '6.9',\n",
       "       '3.977777778', '10.22222222', '3.566666667', '12.3', '22', '34',\n",
       "       '4.75', '5.633333333', '9.45', '2.266666667', '3.816666667',\n",
       "       '5.522222222', '8.706666667', '20.91111111', '23.36666667',\n",
       "       '11.68333333', '14.88333333', '6.833333333', '50', '11.575',\n",
       "       '7.911111111', '9.688888889', '2.626666667', '18.7', '8.283333333',\n",
       "       '38', '18.61111111', '30', '2.516666667', '25'], dtype=object)"
      ]
     },
     "execution_count": 67,
     "metadata": {},
     "output_type": "execute_result"
    }
   ],
   "source": [
    "avgTimeInvestment.unique()"
   ]
  },
  {
   "cell_type": "code",
   "execution_count": null,
   "id": "09684d8d",
   "metadata": {},
   "outputs": [],
   "source": [
    "# Data Cleaning"
   ]
  },
  {
   "cell_type": "code",
   "execution_count": 107,
   "id": "711fc158",
   "metadata": {},
   "outputs": [
    {
     "data": {
      "text/plain": [
       "85"
      ]
     },
     "execution_count": 107,
     "metadata": {},
     "output_type": "execute_result"
    }
   ],
   "source": [
    "expoGlobe.replace({\"No Info\": np.nan}, inplace=True)\n",
    "expoGlobe.unique()"
   ]
  },
  {
   "cell_type": "code",
   "execution_count": 102,
   "id": "e76b80dd",
   "metadata": {},
   "outputs": [
    {
     "data": {
      "text/plain": [
       "array(['None', 'Few', 'Many', nan], dtype=object)"
      ]
     },
     "execution_count": 102,
     "metadata": {},
     "output_type": "execute_result"
    }
   ],
   "source": [
    "numResearchPub.replace({\"No Info\": np.nan}, inplace=True)\n",
    "numResearchPub.unique()"
   ]
  },
  {
   "cell_type": "code",
   "execution_count": 97,
   "id": "3e5224d5",
   "metadata": {},
   "outputs": [
    {
     "data": {
      "text/plain": [
       "array(['High', 'Low', 'Medium', nan], dtype=object)"
      ]
     },
     "execution_count": 97,
     "metadata": {},
     "output_type": "execute_result"
    }
   ],
   "source": [
    "timeMarketSrvOrProd.replace({\"No Info\": np.nan}, inplace=True)\n",
    "timeMarketSrvOrProd.unique()"
   ]
  },
  {
   "cell_type": "code",
   "execution_count": 98,
   "id": "6ee7c429",
   "metadata": {},
   "outputs": [
    {
     "data": {
      "text/plain": [
       "array(['No', 'Yes', nan], dtype=object)"
      ]
     },
     "execution_count": 98,
     "metadata": {},
     "output_type": "execute_result"
    }
   ],
   "source": [
    "companyAwards.replace({\"No Info\": np.nan}, inplace=True)\n",
    "companyAwards.unique()"
   ]
  },
  {
   "cell_type": "code",
   "execution_count": 99,
   "id": "f7e595a0",
   "metadata": {},
   "outputs": [
    {
     "data": {
      "text/plain": [
       "array([nan, 'Not Applicable', 'Yes', 'No'], dtype=object)"
      ]
     },
     "execution_count": 99,
     "metadata": {},
     "output_type": "execute_result"
    }
   ],
   "source": [
    "survivalRecession.replace({\"No Info\": np.nan}, inplace=True)\n",
    "survivalRecession.unique()"
   ]
  },
  {
   "cell_type": "code",
   "execution_count": null,
   "id": "59762bc0",
   "metadata": {},
   "outputs": [],
   "source": []
  },
  {
   "cell_type": "code",
   "execution_count": 75,
   "id": "b916cfbb",
   "metadata": {},
   "outputs": [
    {
     "data": {
      "text/plain": [
       "array([9.6268840e+06, 1.0670340e+06, 7.1391000e+04, 1.1847000e+04,\n",
       "       2.0181400e+05, 5.9181600e+05, 2.3455740e+06, 1.0150270e+06,\n",
       "       2.5692100e+05, 3.6397790e+06, 1.4290700e+05, 1.5603150e+06,\n",
       "       1.7205400e+05, 9.9081000e+04, 7.1349400e+05, 2.8904100e+05,\n",
       "       1.9399430e+06, 2.7649100e+05, 3.3419600e+06, 2.4615690e+06,\n",
       "       1.2468360e+06, 2.6927800e+05, 7.6178800e+05, 1.0918900e+05,\n",
       "       6.4225000e+05, 3.7992000e+06, 2.4978310e+06, 7.2537120e+06,\n",
       "       2.9664500e+05, 1.5549800e+05, 3.8021000e+04,           nan,\n",
       "       9.3550000e+03, 1.0244250e+06, 1.9514150e+06, 9.1286000e+05,\n",
       "       2.4399890e+06, 3.7928830e+06, 4.5185290e+06, 2.2192020e+06,\n",
       "       2.6075470e+06, 3.7549200e+05, 1.8104740e+06, 2.2178300e+05,\n",
       "       1.0893770e+06, 2.1308600e+05, 3.7531800e+05, 1.1967000e+04,\n",
       "       1.6946000e+05, 4.4730100e+05, 8.6394000e+04, 2.1710300e+05,\n",
       "       1.2999889e+07, 2.8299100e+05, 7.5482800e+05, 2.8597000e+04,\n",
       "       7.6109400e+05, 1.7535000e+04, 2.0471600e+05, 3.4630000e+05,\n",
       "       1.8731430e+06, 6.3274000e+04, 1.2750900e+06, 1.7668900e+06,\n",
       "       2.2786560e+06, 1.5057140e+06, 1.6685530e+06, 4.0956470e+06,\n",
       "       1.6529830e+06, 2.3540600e+05, 1.6335300e+05, 5.6208370e+06,\n",
       "       9.6265700e+05, 6.2229450e+06, 2.2819370e+06, 3.4655400e+05,\n",
       "       7.9170000e+03, 4.9961810e+06, 3.1236100e+05, 4.4436000e+04,\n",
       "       1.4477330e+06, 1.6385100e+05, 7.3557950e+06, 4.6550000e+04,\n",
       "       2.5844350e+06, 5.1683000e+05, 3.1440900e+05, 7.6650000e+03,\n",
       "       1.9728000e+04, 1.9837520e+06, 1.0080538e+07, 3.0239900e+05,\n",
       "       1.1730900e+05, 9.1555800e+05, 4.3128200e+05, 1.3706030e+06,\n",
       "       1.2799600e+07, 9.1162000e+04, 1.7521700e+06, 5.4403000e+05,\n",
       "       6.8647990e+06, 6.4262000e+04, 1.0584570e+06, 1.9473300e+05,\n",
       "       2.6343100e+05, 7.0972800e+05, 2.9452000e+04, 2.9738800e+05,\n",
       "       2.4587100e+05, 2.1340300e+06, 1.8421720e+06, 2.2689000e+05,\n",
       "       4.9106270e+06, 4.0864600e+05, 1.0463100e+06, 2.3523340e+06,\n",
       "       1.0852050e+06, 2.8190000e+04, 2.1179400e+05, 1.6038640e+06,\n",
       "       7.3156400e+05, 1.9312900e+05, 4.8300000e+02, 5.4574900e+05,\n",
       "       8.9902430e+06, 8.7148610e+06, 1.9899960e+06, 3.2745020e+06,\n",
       "       7.1802500e+05, 3.6381460e+06, 2.4530700e+05, 1.4598301e+07,\n",
       "       7.9749580e+06, 1.6821322e+07, 7.4450000e+03, 2.2052890e+06,\n",
       "       2.9182000e+04, 1.6154320e+06, 1.0422400e+05, 1.1259180e+06,\n",
       "       9.5565000e+04, 6.5363110e+06, 8.1009200e+05, 7.9725300e+05,\n",
       "       5.8320000e+05, 2.1558800e+06, 1.0306100e+05, 2.7384500e+06,\n",
       "       1.0654380e+06, 1.1781170e+06, 6.6575490e+06, 1.0863900e+05,\n",
       "       3.6816500e+05, 1.1621550e+06, 2.9000900e+05, 3.5065640e+06,\n",
       "       2.2105000e+04, 8.8188000e+04, 9.9095700e+05, 8.8076200e+05,\n",
       "       1.1585310e+06, 1.5647300e+05, 1.0414376e+07, 3.5943700e+05,\n",
       "       7.3546300e+05, 1.4094730e+06, 4.8561000e+04, 4.3316970e+06,\n",
       "       4.4388000e+04, 2.0843120e+06, 2.1865990e+06, 4.2779400e+05,\n",
       "       5.3397100e+05, 5.8457000e+04, 8.8995000e+05, 6.7739620e+06,\n",
       "       1.1479530e+06, 1.6764540e+06, 1.4186800e+05, 6.6703120e+06,\n",
       "       4.1049100e+05, 2.9861000e+04, 4.4359500e+05, 2.0881300e+05,\n",
       "       1.2711800e+05, 3.7028870e+06, 9.4399380e+06, 8.9899900e+05,\n",
       "       3.7432930e+06, 1.4785000e+04, 7.5110300e+05, 7.0202760e+06,\n",
       "       8.2868000e+04, 3.3384400e+05, 1.5599390e+06, 8.3342660e+06,\n",
       "       2.7250000e+03, 4.6218890e+06, 4.3483900e+05, 2.5707100e+05,\n",
       "       1.5412660e+06, 1.3275040e+06, 3.8230300e+05, 2.4588600e+05,\n",
       "       2.0238024e+07, 4.3860570e+06, 1.6337290e+06, 4.5619800e+05,\n",
       "       1.0754380e+06, 1.7257370e+06, 2.5224740e+06, 3.7849170e+06,\n",
       "       5.5063080e+06, 2.2246000e+04, 8.7092240e+06, 1.9362070e+06,\n",
       "       1.4054000e+04, 4.5567000e+04, 2.9926040e+06, 1.4553250e+07,\n",
       "       2.5587800e+05, 1.4786900e+05, 1.3835800e+05, 1.1265900e+05,\n",
       "       1.2992000e+04, 2.0196505e+07, 3.6008380e+06, 5.8514010e+06,\n",
       "       1.8372022e+07, 9.7031800e+05, 1.9124790e+06, 8.8023000e+04,\n",
       "       9.0925870e+06, 1.8581451e+07, 7.5818510e+06, 5.5167020e+06,\n",
       "       8.5360580e+06, 1.5201417e+07, 1.4539082e+07, 8.1928400e+05,\n",
       "       8.2957600e+05, 7.6632910e+06, 8.1638500e+05, 1.7173041e+07,\n",
       "       1.4009590e+06, 6.9720310e+06, 1.0589300e+05, 1.3363170e+06,\n",
       "       1.5760200e+05, 3.8521000e+04, 7.8652600e+05, 5.8355880e+06,\n",
       "       1.8666900e+05, 5.4162000e+04, 4.0380000e+03, 8.8546300e+05,\n",
       "       5.8350900e+05, 5.0922650e+06, 7.9410000e+03, 4.3814000e+04,\n",
       "       8.4055300e+05, 2.2391670e+07, 6.4059460e+06, 2.0635527e+07,\n",
       "       2.5736500e+05, 1.8777700e+06, 2.8714430e+06, 5.6315250e+06,\n",
       "       1.6024000e+04, 1.9784090e+06, 1.7887654e+07, 4.6184330e+06,\n",
       "       1.1292000e+05, 1.1809941e+07, 5.7517470e+06, 1.5411000e+04,\n",
       "       4.5979000e+04, 5.0489000e+05, 3.5185400e+05, 4.5388000e+04,\n",
       "       2.3722600e+05, 5.9664500e+05, 1.1986370e+06, 7.0783220e+06,\n",
       "       5.5913000e+04, 3.4278210e+06, 1.5786450e+06, 1.4054760e+06,\n",
       "       1.7133170e+06, 2.6743300e+05, 4.5245400e+05, 9.0801580e+06,\n",
       "       1.8691380e+06, 3.2702900e+05, 3.2524000e+05, 1.5735768e+07,\n",
       "       5.5583700e+05, 9.6532000e+04, 1.1677950e+06, 5.2590600e+05,\n",
       "       6.4451600e+05, 4.8011100e+05, 8.9961400e+05, 6.9882000e+04,\n",
       "       6.1987700e+05, 2.0839100e+06, 2.5399200e+05, 3.7120000e+04,\n",
       "       1.6171100e+05, 1.7185110e+06, 8.4861600e+05])"
      ]
     },
     "execution_count": 75,
     "metadata": {},
     "output_type": "execute_result"
    }
   ],
   "source": [
    "googlePageRank.replace({\"No Info\": np.nan}, inplace=True)\n",
    "googlePageRank = googlePageRank.astype(float)\n",
    "googlePageRank.unique()"
   ]
  },
  {
   "cell_type": "code",
   "execution_count": 77,
   "id": "b68f2acf",
   "metadata": {},
   "outputs": [
    {
     "data": {
      "text/plain": [
       "array([ 0.,  2.,  4.,  5.,  3., 33., 20., 25., 12.,  6.,  7.,  1., 15.,\n",
       "        8., 28.,  9., 10., 11., 19., 21., 13., 16., 18., nan])"
      ]
     },
     "execution_count": 77,
     "metadata": {},
     "output_type": "execute_result"
    }
   ],
   "source": [
    "numDirCompetitors.replace({\"No Info\": np.nan}, inplace=True)\n",
    "numDirCompetitors = numDirCompetitors.astype(float)\n",
    "numDirCompetitors.unique()"
   ]
  },
  {
   "cell_type": "code",
   "execution_count": 78,
   "id": "c86fa6af",
   "metadata": {},
   "outputs": [
    {
     "data": {
      "text/plain": [
       "array([1.50000000e+00, 6.66666667e+00, 3.33333333e+00, 1.00000000e+01,\n",
       "       3.50000000e+00, 5.00000000e+00, 1.66666667e+01, 3.00000000e+00,\n",
       "       2.50000000e+01, 1.66000000e+01, 4.40000000e+00, 4.00000000e+01,\n",
       "       1.25000000e+01, 1.81800000e+01, 8.60000000e+00, 3.25000000e+00,\n",
       "       3.30000000e+01, 5.50000000e+00, 2.50000000e+00, 1.83000000e+01,\n",
       "       7.00000000e+00, 4.40000000e+01, 4.00000000e+00, 1.30000000e+01,\n",
       "       3.00000000e+01, 3.30000000e+00, 2.00000000e+00, 2.85000000e+01,\n",
       "       2.00000000e+02, 7.60000000e+00, 1.60000000e+01, 4.73800000e+01,\n",
       "       1.00000000e+00, 1.40000000e+01, 1.37500000e+01, 2.87500000e+01,\n",
       "       1.16000000e+01, 1.50000000e+01, 5.00000000e+01, 1.80000000e+01,\n",
       "       1.70000000e+01, 8.13300000e+01, 9.75000000e+00, 6.00000000e+00,\n",
       "       1.30000000e+00,            nan, 9.30000000e+00, 1.46000000e+01,\n",
       "       4.50000000e+00, 3.15000000e+02, 1.10000000e+01, 1.20000000e+01,\n",
       "       2.75000000e+00, 1.90000000e+01, 7.50000000e+00, 1.11100000e+01,\n",
       "       3.80000000e+00, 1.10000000e+00, 3.75000000e+00, 2.00000000e+01,\n",
       "       6.25000000e+00, 8.00000000e+00, 1.60000000e+00, 4.00000000e-01,\n",
       "       6.60000000e+00, 8.33000000e+00, 5.10000000e+01, 5.36000000e+01,\n",
       "       8.00000000e-01, 6.00000000e-01, 1.75000000e+01, 1.25000000e+00,\n",
       "       4.20000000e+01, 4.83300000e+01, 1.40000000e+00, 1.63000000e+00,\n",
       "       2.60000000e+00, 4.30000000e+01, 2.80000000e+01, 2.20000000e+01,\n",
       "       7.53000000e+01, 2.25000000e+01, 1.63000000e+01, 1.41600000e+01,\n",
       "       2.40000000e+01, 1.33000000e+01, 3.07000000e+00, 1.75000000e+00,\n",
       "       9.00000000e+00, 1.92500000e+01, 8.30000000e+01, 1.28300000e+01,\n",
       "       3.60800000e+01, 1.20000000e+00, 1.23300000e+01, 4.80000000e+01,\n",
       "       3.00000000e-01, 9.90000000e+01, 1.15000000e+01, 2.66000000e+00,\n",
       "       6.50000000e+00, 3.33000000e+01, 1.12500000e+00, 7.14000000e+00,\n",
       "       2.85700000e+01, 7.50000000e-01, 8.30000000e+00, 8.12500000e+00,\n",
       "       6.80000000e+00, 8.33300000e+02, 0.00000000e+00, 1.06000000e+01,\n",
       "       4.60000000e+00])"
      ]
     },
     "execution_count": 78,
     "metadata": {},
     "output_type": "execute_result"
    }
   ],
   "source": [
    "employeePerYear.replace({\"No Info\":np.nan}, inplace=True)\n",
    "employeePerYear = employeePerYear.astype(float)\n",
    "employeePerYear.unique()"
   ]
  },
  {
   "cell_type": "code",
   "execution_count": 72,
   "id": "edc3f41e",
   "metadata": {},
   "outputs": [
    {
     "data": {
      "text/plain": [
       "array([4.5000000e-01, 5.0000000e+00, 2.3500000e+00, 1.0250000e+01,\n",
       "       5.5000000e+00, 1.0000000e+00, 2.0000000e+00, 6.7000000e+00,\n",
       "       1.1000000e+01, 3.0000000e+00, 1.6000000e+01, 6.3000000e+00,\n",
       "       1.1500000e+01, 6.5000000e+00, 2.8000000e+00, 4.1000000e+01,\n",
       "       3.4999990e+00, 1.0000000e+01, 7.5000000e-01, 7.4999900e-01,\n",
       "       1.5000000e+00, 1.5000000e+01, 5.2000000e+00, 1.7000000e+00,\n",
       "       2.5000000e-01, 1.4000000e+00, 1.1000000e+00, 2.0000000e-01,\n",
       "       6.0000000e-01,           nan, 2.0000000e+01, 2.8708900e+00,\n",
       "       7.0000000e-02, 6.0000000e-02, 2.5174240e+00, 1.4000000e+01,\n",
       "       1.7500000e+00, 3.0000000e+01, 2.5000000e+01, 4.0000000e+00,\n",
       "       1.3000000e+01, 1.0709010e+00, 2.5000000e+00, 3.9000000e+00,\n",
       "       4.1000000e+00, 6.2000000e-02, 1.0000000e-02, 4.2500000e-01,\n",
       "       1.2500000e-01, 3.0000000e-02, 2.5000000e-02, 1.3500000e-01,\n",
       "       1.1000000e-01, 1.3000000e+00, 1.9000000e+00, 8.0000000e-01,\n",
       "       1.8000000e+00, 5.0000000e-02, 7.5000000e+00, 5.0000000e-01,\n",
       "       5.5000000e-01, 1.0000000e-01, 1.7500000e-01, 8.1000000e-01,\n",
       "       6.5000000e-01, 3.7500000e-01, 1.7000000e+01, 3.5000000e+00,\n",
       "       7.0000000e+00, 3.5000000e+01, 9.4000000e+00, 6.1000000e+00,\n",
       "       6.2500000e+01, 2.7000000e+00, 2.3000000e+00, 2.8700000e-01,\n",
       "       8.0000000e+00, 4.3000000e+01, 4.5000000e+00, 4.3000000e+00,\n",
       "       3.7000000e+00, 7.8000000e+00, 6.0000000e+00, 1.8000000e+01,\n",
       "       4.4999990e+00, 7.7000000e-01, 2.0000000e-02, 4.2500000e+00,\n",
       "       3.0600000e+01, 2.4000000e+01, 1.0170260e+00, 4.0000000e-01,\n",
       "       5.3500000e-01, 2.1000000e+01, 4.2000000e+00, 3.1500000e+00,\n",
       "       1.9000000e+01, 4.5000000e+01, 2.5500000e+00, 8.7000000e+00,\n",
       "       5.0896560e+00, 8.5000000e+00, 1.2750000e+01, 6.0000010e+00,\n",
       "       7.9500000e-01, 9.5000000e+00, 1.1778004e+01, 5.2500000e-01,\n",
       "       1.8000000e-02, 1.5000000e-01, 3.2000000e+00, 1.5500000e+01,\n",
       "       4.0000000e-02, 1.2000000e+00, 4.5500000e-01, 8.1000000e+00,\n",
       "       7.1420500e-01, 2.8000000e-02, 3.6000000e+00, 2.1000000e+00,\n",
       "       1.5000000e-02, 4.2000000e+01, 2.7500000e+01, 9.8000000e-01,\n",
       "       1.3200000e+01, 9.0000000e-01, 8.0000000e-02, 6.2000000e-01,\n",
       "       3.4500000e-01, 5.8498800e-01, 1.1800000e-01, 1.3203840e+00,\n",
       "       1.5300000e+00, 2.6692090e+00, 5.9500000e-01, 7.4000000e+00,\n",
       "       1.7300000e+01, 5.6000100e-01, 2.2000000e+00, 3.7500000e+00,\n",
       "       4.7000000e+00])"
      ]
     },
     "execution_count": 72,
     "metadata": {},
     "output_type": "execute_result"
    }
   ],
   "source": [
    "lastRndFndingAmtMilUSD.replace({\"unknown amount\":np.nan, \"No Info\":np.nan}, inplace=True)\n",
    "lastRndFndingAmtMilUSD = lastRndFndingAmtMilUSD.astype(float)\n",
    "lastRndFndingAmtMilUSD.unique()"
   ]
  },
  {
   "cell_type": "code",
   "execution_count": 80,
   "id": "2a326c6f",
   "metadata": {},
   "outputs": [
    {
     "data": {
      "text/plain": [
       "array([ 11.56      ,   9.        ,   7.34444444,   8.7       ,\n",
       "         9.82222222,   9.32222222,   7.31111111,   6.4       ,\n",
       "        12.        ,   5.        ,   2.66666667,   3.85      ,\n",
       "         6.        ,   7.33333333,  48.        ,   8.        ,\n",
       "        11.06666667,  12.61666667,  24.625     ,   5.45555556,\n",
       "        15.        ,  96.        ,   7.36666667,  18.        ,\n",
       "         3.55      ,   6.11111111,   4.        ,  13.62222222,\n",
       "         3.        ,   1.        ,  12.12222222,          nan,\n",
       "         9.375     ,   5.03333333,   7.11666667,  14.        ,\n",
       "        10.        ,   7.        ,  24.        , 156.        ,\n",
       "         4.58333333,   7.73333333,   4.9       ,   6.46666667,\n",
       "         4.18333333,   3.3       ,   4.71666667,  16.        ,\n",
       "         3.32222222,  12.74444444,   3.98333333,  75.        ,\n",
       "         9.46666667,  20.        ,  32.        ,   2.25      ,\n",
       "         2.        ,  45.        ,  35.        ,   3.28333333,\n",
       "         7.58333333,  16.53333333,   6.22222222,   6.95      ,\n",
       "        70.        ,  15.48888889,   4.96666667,  17.        ,\n",
       "         3.06666667,  47.        ,  10.24444444,   2.56666667,\n",
       "         6.48333333,   1.24285714,  11.51666667,  10.03333333,\n",
       "         9.23333333,   6.23333333,  10.27777778,   5.35555556,\n",
       "        18.1       ,   4.3       ,   5.34444444,   7.30666667,\n",
       "         5.77777778,   7.45      ,   7.4       ,  17.58333333,\n",
       "         6.85      ,   2.76111111,   5.05      ,   2.71111111,\n",
       "         7.1       ,  26.25      ,  11.88333333,   4.01111111,\n",
       "        26.        ,   1.63333333,   5.69523809,   8.87777778,\n",
       "        72.        ,   6.36666667,   7.61666667,   1.67777778,\n",
       "         3.6       ,  36.        ,  10.725     ,  37.        ,\n",
       "         8.01666667,   6.24444444,  11.        ,  40.        ,\n",
       "        13.        ,  27.        ,   6.96666667,   7.18888889,\n",
       "         4.45      ,  16.62222222,   6.43333333,   9.07777778,\n",
       "         8.38333333,  14.26666667,   7.8       ,   4.33333333,\n",
       "        13.06666667,  10.6       ,   6.97333333,   6.9       ,\n",
       "         3.97777778,  10.22222222,   3.56666667,  12.3       ,\n",
       "        22.        ,  34.        ,   4.75      ,   5.63333333,\n",
       "         9.45      ,   2.26666667,   3.81666667,   5.52222222,\n",
       "         8.70666667,  20.91111111,  23.36666667,  11.68333333,\n",
       "        14.88333333,   6.83333333,  50.        ,  11.575     ,\n",
       "         7.91111111,   9.68888889,   2.62666667,  18.7       ,\n",
       "         8.28333333,  38.        ,  18.61111111,  30.        ,\n",
       "         2.51666667,  25.        ])"
      ]
     },
     "execution_count": 80,
     "metadata": {},
     "output_type": "execute_result"
    }
   ],
   "source": [
    "avgTimeInvestment.replace({\"No Info\": np.nan}, inplace=True)\n",
    "avgTimeInvestment = avgTimeInvestment.astype(float)\n",
    "avgTimeInvestment.unique()"
   ]
  },
  {
   "cell_type": "code",
   "execution_count": null,
   "id": "0e413bd8",
   "metadata": {},
   "outputs": [],
   "source": [
    "# Get missing value ratio"
   ]
  },
  {
   "cell_type": "code",
   "execution_count": 103,
   "id": "3a4bb59f",
   "metadata": {},
   "outputs": [
    {
     "data": {
      "text/plain": [
       "5"
      ]
     },
     "execution_count": 103,
     "metadata": {},
     "output_type": "execute_result"
    }
   ],
   "source": [
    "catCols = [expoGlobe, numResearchPub,timeMarketSrvOrProd, companyAwards, survivalRecession]\n",
    "len(catCols)"
   ]
  },
  {
   "cell_type": "code",
   "execution_count": 104,
   "id": "db54e555",
   "metadata": {},
   "outputs": [
    {
     "data": {
      "text/plain": [
       "5"
      ]
     },
     "execution_count": 104,
     "metadata": {},
     "output_type": "execute_result"
    }
   ],
   "source": [
    "numCols = [googlePageRank, numDirCompetitors, employeePerYear, lastRndFndingAmtMilUSD, avgTimeInvestment]\n",
    "len(numCols)"
   ]
  },
  {
   "cell_type": "code",
   "execution_count": 105,
   "id": "1699ec15",
   "metadata": {},
   "outputs": [
    {
     "data": {
      "text/html": [
       "<div>\n",
       "<style scoped>\n",
       "    .dataframe tbody tr th:only-of-type {\n",
       "        vertical-align: middle;\n",
       "    }\n",
       "\n",
       "    .dataframe tbody tr th {\n",
       "        vertical-align: top;\n",
       "    }\n",
       "\n",
       "    .dataframe thead th {\n",
       "        text-align: right;\n",
       "    }\n",
       "</style>\n",
       "<table border=\"1\" class=\"dataframe\">\n",
       "  <thead>\n",
       "    <tr style=\"text-align: right;\">\n",
       "      <th></th>\n",
       "      <th>Exposure across the globe</th>\n",
       "      <th>Number of  of Research publications</th>\n",
       "      <th>Time to market service or product</th>\n",
       "      <th>Company awards</th>\n",
       "      <th>Survival through recession, based on existence of the company through recession times</th>\n",
       "    </tr>\n",
       "  </thead>\n",
       "  <tbody>\n",
       "    <tr>\n",
       "      <th>0</th>\n",
       "      <td>Yes</td>\n",
       "      <td>None</td>\n",
       "      <td>High</td>\n",
       "      <td>No</td>\n",
       "      <td>NaN</td>\n",
       "    </tr>\n",
       "    <tr>\n",
       "      <th>1</th>\n",
       "      <td>Yes</td>\n",
       "      <td>None</td>\n",
       "      <td>Low</td>\n",
       "      <td>No</td>\n",
       "      <td>Not Applicable</td>\n",
       "    </tr>\n",
       "    <tr>\n",
       "      <th>2</th>\n",
       "      <td>Yes</td>\n",
       "      <td>None</td>\n",
       "      <td>Low</td>\n",
       "      <td>No</td>\n",
       "      <td>Not Applicable</td>\n",
       "    </tr>\n",
       "    <tr>\n",
       "      <th>3</th>\n",
       "      <td>Yes</td>\n",
       "      <td>None</td>\n",
       "      <td>Low</td>\n",
       "      <td>No</td>\n",
       "      <td>Not Applicable</td>\n",
       "    </tr>\n",
       "    <tr>\n",
       "      <th>4</th>\n",
       "      <td>Yes</td>\n",
       "      <td>Few</td>\n",
       "      <td>Low</td>\n",
       "      <td>No</td>\n",
       "      <td>Not Applicable</td>\n",
       "    </tr>\n",
       "    <tr>\n",
       "      <th>...</th>\n",
       "      <td>...</td>\n",
       "      <td>...</td>\n",
       "      <td>...</td>\n",
       "      <td>...</td>\n",
       "      <td>...</td>\n",
       "    </tr>\n",
       "    <tr>\n",
       "      <th>467</th>\n",
       "      <td>NaN</td>\n",
       "      <td>NaN</td>\n",
       "      <td>NaN</td>\n",
       "      <td>NaN</td>\n",
       "      <td>NaN</td>\n",
       "    </tr>\n",
       "    <tr>\n",
       "      <th>468</th>\n",
       "      <td>NaN</td>\n",
       "      <td>NaN</td>\n",
       "      <td>NaN</td>\n",
       "      <td>NaN</td>\n",
       "      <td>NaN</td>\n",
       "    </tr>\n",
       "    <tr>\n",
       "      <th>469</th>\n",
       "      <td>NaN</td>\n",
       "      <td>NaN</td>\n",
       "      <td>NaN</td>\n",
       "      <td>NaN</td>\n",
       "      <td>NaN</td>\n",
       "    </tr>\n",
       "    <tr>\n",
       "      <th>470</th>\n",
       "      <td>NaN</td>\n",
       "      <td>NaN</td>\n",
       "      <td>NaN</td>\n",
       "      <td>NaN</td>\n",
       "      <td>NaN</td>\n",
       "    </tr>\n",
       "    <tr>\n",
       "      <th>471</th>\n",
       "      <td>NaN</td>\n",
       "      <td>NaN</td>\n",
       "      <td>NaN</td>\n",
       "      <td>NaN</td>\n",
       "      <td>NaN</td>\n",
       "    </tr>\n",
       "  </tbody>\n",
       "</table>\n",
       "<p>472 rows × 5 columns</p>\n",
       "</div>"
      ],
      "text/plain": [
       "    Exposure across the globe Number of  of Research publications  \\\n",
       "0                         Yes                                None   \n",
       "1                         Yes                                None   \n",
       "2                         Yes                                None   \n",
       "3                         Yes                                None   \n",
       "4                         Yes                                 Few   \n",
       "..                        ...                                 ...   \n",
       "467                       NaN                                 NaN   \n",
       "468                       NaN                                 NaN   \n",
       "469                       NaN                                 NaN   \n",
       "470                       NaN                                 NaN   \n",
       "471                       NaN                                 NaN   \n",
       "\n",
       "    Time to market service or product Company awards  \\\n",
       "0                                High             No   \n",
       "1                                 Low             No   \n",
       "2                                 Low             No   \n",
       "3                                 Low             No   \n",
       "4                                 Low             No   \n",
       "..                                ...            ...   \n",
       "467                               NaN            NaN   \n",
       "468                               NaN            NaN   \n",
       "469                               NaN            NaN   \n",
       "470                               NaN            NaN   \n",
       "471                               NaN            NaN   \n",
       "\n",
       "    Survival through recession, based on existence of the company through recession times  \n",
       "0                                                  NaN                                     \n",
       "1                                       Not Applicable                                     \n",
       "2                                       Not Applicable                                     \n",
       "3                                       Not Applicable                                     \n",
       "4                                       Not Applicable                                     \n",
       "..                                                 ...                                     \n",
       "467                                                NaN                                     \n",
       "468                                                NaN                                     \n",
       "469                                                NaN                                     \n",
       "470                                                NaN                                     \n",
       "471                                                NaN                                     \n",
       "\n",
       "[472 rows x 5 columns]"
      ]
     },
     "execution_count": 105,
     "metadata": {},
     "output_type": "execute_result"
    }
   ],
   "source": [
    "catColsPD = pd.concat(catCols, axis=1)\n",
    "catColsPD"
   ]
  },
  {
   "cell_type": "code",
   "execution_count": 106,
   "id": "39bc1a20",
   "metadata": {},
   "outputs": [
    {
     "data": {
      "text/html": [
       "<style type=\"text/css\">\n",
       "#T_dd026_row0_col0, #T_dd026_row0_col1, #T_dd026_row3_col0, #T_dd026_row3_col1 {\n",
       "  background-color: #3a538b;\n",
       "  color: #f1f1f1;\n",
       "}\n",
       "#T_dd026_row1_col0, #T_dd026_row1_col1 {\n",
       "  background-color: #404588;\n",
       "  color: #f1f1f1;\n",
       "}\n",
       "#T_dd026_row2_col0, #T_dd026_row2_col1 {\n",
       "  background-color: #453581;\n",
       "  color: #f1f1f1;\n",
       "}\n",
       "#T_dd026_row4_col0, #T_dd026_row4_col1 {\n",
       "  background-color: #cde11d;\n",
       "  color: #000000;\n",
       "}\n",
       "</style>\n",
       "<table id=\"T_dd026_\">\n",
       "  <thead>\n",
       "    <tr>\n",
       "      <th class=\"blank level0\" >&nbsp;</th>\n",
       "      <th class=\"col_heading level0 col0\" >Null Values</th>\n",
       "      <th class=\"col_heading level0 col1\" >% Missing Values</th>\n",
       "    </tr>\n",
       "  </thead>\n",
       "  <tbody>\n",
       "    <tr>\n",
       "      <th id=\"T_dd026_level0_row0\" class=\"row_heading level0 row0\" >Exposure across the globe</th>\n",
       "      <td id=\"T_dd026_row0_col0\" class=\"data row0 col0\" >85</td>\n",
       "      <td id=\"T_dd026_row0_col1\" class=\"data row0 col1\" >18.008475</td>\n",
       "    </tr>\n",
       "    <tr>\n",
       "      <th id=\"T_dd026_level0_row1\" class=\"row_heading level0 row1\" >Number of  of Research publications</th>\n",
       "      <td id=\"T_dd026_row1_col0\" class=\"data row1 col0\" >84</td>\n",
       "      <td id=\"T_dd026_row1_col1\" class=\"data row1 col1\" >17.796610</td>\n",
       "    </tr>\n",
       "    <tr>\n",
       "      <th id=\"T_dd026_level0_row2\" class=\"row_heading level0 row2\" >Time to market service or product</th>\n",
       "      <td id=\"T_dd026_row2_col0\" class=\"data row2 col0\" >83</td>\n",
       "      <td id=\"T_dd026_row2_col1\" class=\"data row2 col1\" >17.584746</td>\n",
       "    </tr>\n",
       "    <tr>\n",
       "      <th id=\"T_dd026_level0_row3\" class=\"row_heading level0 row3\" >Company awards</th>\n",
       "      <td id=\"T_dd026_row3_col0\" class=\"data row3 col0\" >85</td>\n",
       "      <td id=\"T_dd026_row3_col1\" class=\"data row3 col1\" >18.008475</td>\n",
       "    </tr>\n",
       "    <tr>\n",
       "      <th id=\"T_dd026_level0_row4\" class=\"row_heading level0 row4\" >Survival through recession, based on existence of the company through recession times</th>\n",
       "      <td id=\"T_dd026_row4_col0\" class=\"data row4 col0\" >98</td>\n",
       "      <td id=\"T_dd026_row4_col1\" class=\"data row4 col1\" >20.762712</td>\n",
       "    </tr>\n",
       "  </tbody>\n",
       "</table>\n"
      ],
      "text/plain": [
       "<pandas.io.formats.style.Styler at 0x7fcbd864c8b0>"
      ]
     },
     "execution_count": 106,
     "metadata": {},
     "output_type": "execute_result"
    }
   ],
   "source": [
    "catColsNull=pd.DataFrame(catColsPD.isnull().sum(),columns=[\"Null Values\"])\n",
    "catColsNull[\"% Missing Values\"]=(catColsPD.isna().sum()/len(catColsPD)*100)\n",
    "catColsNull.style.background_gradient(cmap='viridis',low =0.2,high=0.1)"
   ]
  },
  {
   "cell_type": "code",
   "execution_count": 93,
   "id": "15e1d5f5",
   "metadata": {},
   "outputs": [
    {
     "data": {
      "text/html": [
       "<div>\n",
       "<style scoped>\n",
       "    .dataframe tbody tr th:only-of-type {\n",
       "        vertical-align: middle;\n",
       "    }\n",
       "\n",
       "    .dataframe tbody tr th {\n",
       "        vertical-align: top;\n",
       "    }\n",
       "\n",
       "    .dataframe thead th {\n",
       "        text-align: right;\n",
       "    }\n",
       "</style>\n",
       "<table border=\"1\" class=\"dataframe\">\n",
       "  <thead>\n",
       "    <tr style=\"text-align: right;\">\n",
       "      <th></th>\n",
       "      <th>google page rank of company website</th>\n",
       "      <th>Number of Direct competitors</th>\n",
       "      <th>Employees per year of company existence</th>\n",
       "      <th>Last round of funding received (in milionUSD)</th>\n",
       "      <th>Avg time to investment - average across all rounds, measured from previous investment</th>\n",
       "    </tr>\n",
       "  </thead>\n",
       "  <tbody>\n",
       "    <tr>\n",
       "      <th>0</th>\n",
       "      <td>9626884.0</td>\n",
       "      <td>0.0</td>\n",
       "      <td>1.500000</td>\n",
       "      <td>0.45</td>\n",
       "      <td>11.560000</td>\n",
       "    </tr>\n",
       "    <tr>\n",
       "      <th>1</th>\n",
       "      <td>1067034.0</td>\n",
       "      <td>0.0</td>\n",
       "      <td>6.666667</td>\n",
       "      <td>5.00</td>\n",
       "      <td>9.000000</td>\n",
       "    </tr>\n",
       "    <tr>\n",
       "      <th>2</th>\n",
       "      <td>71391.0</td>\n",
       "      <td>0.0</td>\n",
       "      <td>3.333333</td>\n",
       "      <td>2.35</td>\n",
       "      <td>7.344444</td>\n",
       "    </tr>\n",
       "    <tr>\n",
       "      <th>3</th>\n",
       "      <td>11847.0</td>\n",
       "      <td>2.0</td>\n",
       "      <td>10.000000</td>\n",
       "      <td>10.25</td>\n",
       "      <td>8.700000</td>\n",
       "    </tr>\n",
       "    <tr>\n",
       "      <th>4</th>\n",
       "      <td>201814.0</td>\n",
       "      <td>0.0</td>\n",
       "      <td>10.000000</td>\n",
       "      <td>5.50</td>\n",
       "      <td>9.822222</td>\n",
       "    </tr>\n",
       "    <tr>\n",
       "      <th>...</th>\n",
       "      <td>...</td>\n",
       "      <td>...</td>\n",
       "      <td>...</td>\n",
       "      <td>...</td>\n",
       "      <td>...</td>\n",
       "    </tr>\n",
       "    <tr>\n",
       "      <th>467</th>\n",
       "      <td>NaN</td>\n",
       "      <td>NaN</td>\n",
       "      <td>NaN</td>\n",
       "      <td>NaN</td>\n",
       "      <td>NaN</td>\n",
       "    </tr>\n",
       "    <tr>\n",
       "      <th>468</th>\n",
       "      <td>NaN</td>\n",
       "      <td>NaN</td>\n",
       "      <td>NaN</td>\n",
       "      <td>NaN</td>\n",
       "      <td>NaN</td>\n",
       "    </tr>\n",
       "    <tr>\n",
       "      <th>469</th>\n",
       "      <td>NaN</td>\n",
       "      <td>NaN</td>\n",
       "      <td>NaN</td>\n",
       "      <td>NaN</td>\n",
       "      <td>NaN</td>\n",
       "    </tr>\n",
       "    <tr>\n",
       "      <th>470</th>\n",
       "      <td>NaN</td>\n",
       "      <td>NaN</td>\n",
       "      <td>NaN</td>\n",
       "      <td>NaN</td>\n",
       "      <td>NaN</td>\n",
       "    </tr>\n",
       "    <tr>\n",
       "      <th>471</th>\n",
       "      <td>NaN</td>\n",
       "      <td>NaN</td>\n",
       "      <td>NaN</td>\n",
       "      <td>NaN</td>\n",
       "      <td>NaN</td>\n",
       "    </tr>\n",
       "  </tbody>\n",
       "</table>\n",
       "<p>472 rows × 5 columns</p>\n",
       "</div>"
      ],
      "text/plain": [
       "     google page rank of company website  Number of Direct competitors  \\\n",
       "0                              9626884.0                           0.0   \n",
       "1                              1067034.0                           0.0   \n",
       "2                                71391.0                           0.0   \n",
       "3                                11847.0                           2.0   \n",
       "4                               201814.0                           0.0   \n",
       "..                                   ...                           ...   \n",
       "467                                  NaN                           NaN   \n",
       "468                                  NaN                           NaN   \n",
       "469                                  NaN                           NaN   \n",
       "470                                  NaN                           NaN   \n",
       "471                                  NaN                           NaN   \n",
       "\n",
       "     Employees per year of company existence  \\\n",
       "0                                   1.500000   \n",
       "1                                   6.666667   \n",
       "2                                   3.333333   \n",
       "3                                  10.000000   \n",
       "4                                  10.000000   \n",
       "..                                       ...   \n",
       "467                                      NaN   \n",
       "468                                      NaN   \n",
       "469                                      NaN   \n",
       "470                                      NaN   \n",
       "471                                      NaN   \n",
       "\n",
       "     Last round of funding received (in milionUSD)  \\\n",
       "0                                             0.45   \n",
       "1                                             5.00   \n",
       "2                                             2.35   \n",
       "3                                            10.25   \n",
       "4                                             5.50   \n",
       "..                                             ...   \n",
       "467                                            NaN   \n",
       "468                                            NaN   \n",
       "469                                            NaN   \n",
       "470                                            NaN   \n",
       "471                                            NaN   \n",
       "\n",
       "     Avg time to investment - average across all rounds, measured from previous investment  \n",
       "0                                            11.560000                                      \n",
       "1                                             9.000000                                      \n",
       "2                                             7.344444                                      \n",
       "3                                             8.700000                                      \n",
       "4                                             9.822222                                      \n",
       "..                                                 ...                                      \n",
       "467                                                NaN                                      \n",
       "468                                                NaN                                      \n",
       "469                                                NaN                                      \n",
       "470                                                NaN                                      \n",
       "471                                                NaN                                      \n",
       "\n",
       "[472 rows x 5 columns]"
      ]
     },
     "execution_count": 93,
     "metadata": {},
     "output_type": "execute_result"
    }
   ],
   "source": [
    "numColsPD = pd.concat(numCols, axis=1)\n",
    "numColsPD"
   ]
  },
  {
   "cell_type": "code",
   "execution_count": 95,
   "id": "f30b84ae",
   "metadata": {},
   "outputs": [
    {
     "data": {
      "text/html": [
       "<style type=\"text/css\">\n",
       "#T_0b42d_row0_col0, #T_0b42d_row0_col1 {\n",
       "  background-color: #7fd34e;\n",
       "  color: #000000;\n",
       "}\n",
       "#T_0b42d_row1_col0, #T_0b42d_row1_col1 {\n",
       "  background-color: #453581;\n",
       "  color: #f1f1f1;\n",
       "}\n",
       "#T_0b42d_row2_col0, #T_0b42d_row2_col1 {\n",
       "  background-color: #20a386;\n",
       "  color: #f1f1f1;\n",
       "}\n",
       "#T_0b42d_row3_col0, #T_0b42d_row3_col1 {\n",
       "  background-color: #cde11d;\n",
       "  color: #000000;\n",
       "}\n",
       "#T_0b42d_row4_col0, #T_0b42d_row4_col1 {\n",
       "  background-color: #33638d;\n",
       "  color: #f1f1f1;\n",
       "}\n",
       "</style>\n",
       "<table id=\"T_0b42d_\">\n",
       "  <thead>\n",
       "    <tr>\n",
       "      <th class=\"blank level0\" >&nbsp;</th>\n",
       "      <th class=\"col_heading level0 col0\" >Null Values</th>\n",
       "      <th class=\"col_heading level0 col1\" >% Missing Values</th>\n",
       "    </tr>\n",
       "  </thead>\n",
       "  <tbody>\n",
       "    <tr>\n",
       "      <th id=\"T_0b42d_level0_row0\" class=\"row_heading level0 row0\" >google page rank of company website</th>\n",
       "      <td id=\"T_0b42d_row0_col0\" class=\"data row0 col0\" >154</td>\n",
       "      <td id=\"T_0b42d_row0_col1\" class=\"data row0 col1\" >32.627119</td>\n",
       "    </tr>\n",
       "    <tr>\n",
       "      <th id=\"T_0b42d_level0_row1\" class=\"row_heading level0 row1\" >Number of Direct competitors</th>\n",
       "      <td id=\"T_0b42d_row1_col0\" class=\"data row1 col0\" >80</td>\n",
       "      <td id=\"T_0b42d_row1_col1\" class=\"data row1 col1\" >16.949153</td>\n",
       "    </tr>\n",
       "    <tr>\n",
       "      <th id=\"T_0b42d_level0_row2\" class=\"row_heading level0 row2\" >Employees per year of company existence</th>\n",
       "      <td id=\"T_0b42d_row2_col0\" class=\"data row2 col0\" >128</td>\n",
       "      <td id=\"T_0b42d_row2_col1\" class=\"data row2 col1\" >27.118644</td>\n",
       "    </tr>\n",
       "    <tr>\n",
       "      <th id=\"T_0b42d_level0_row3\" class=\"row_heading level0 row3\" >Last round of funding received (in milionUSD)</th>\n",
       "      <td id=\"T_0b42d_row3_col0\" class=\"data row3 col0\" >167</td>\n",
       "      <td id=\"T_0b42d_row3_col1\" class=\"data row3 col1\" >35.381356</td>\n",
       "    </tr>\n",
       "    <tr>\n",
       "      <th id=\"T_0b42d_level0_row4\" class=\"row_heading level0 row4\" >Avg time to investment - average across all rounds, measured from previous investment</th>\n",
       "      <td id=\"T_0b42d_row4_col0\" class=\"data row4 col0\" >98</td>\n",
       "      <td id=\"T_0b42d_row4_col1\" class=\"data row4 col1\" >20.762712</td>\n",
       "    </tr>\n",
       "  </tbody>\n",
       "</table>\n"
      ],
      "text/plain": [
       "<pandas.io.formats.style.Styler at 0x7fcbd98efb80>"
      ]
     },
     "execution_count": 95,
     "metadata": {},
     "output_type": "execute_result"
    }
   ],
   "source": [
    "numColsNull=pd.DataFrame(numColsPD.isnull().sum(),columns=[\"Null Values\"])\n",
    "numColsNull[\"% Missing Values\"]=(numColsPD.isna().sum()/len(numColsPD)*100)\n",
    "numColsNull.style.background_gradient(cmap='viridis',low =0.2,high=0.1)"
   ]
  },
  {
   "cell_type": "code",
   "execution_count": null,
   "id": "981e2c47",
   "metadata": {},
   "outputs": [],
   "source": []
  },
  {
   "cell_type": "code",
   "execution_count": 108,
   "id": "1c00838c",
   "metadata": {},
   "outputs": [],
   "source": [
    "# replaced NaN with mode for categorical columns, with mean for numerical columns"
   ]
  },
  {
   "cell_type": "code",
   "execution_count": 128,
   "id": "1df267a3",
   "metadata": {},
   "outputs": [
    {
     "data": {
      "text/plain": [
       "'Yes'"
      ]
     },
     "execution_count": 128,
     "metadata": {},
     "output_type": "execute_result"
    }
   ],
   "source": [
    "expoGlobeMode = expoGlobe.mode()[0]\n",
    "expoGlobeMode"
   ]
  },
  {
   "cell_type": "code",
   "execution_count": 130,
   "id": "8c0a36d5",
   "metadata": {},
   "outputs": [
    {
     "data": {
      "text/plain": [
       "0"
      ]
     },
     "execution_count": 130,
     "metadata": {},
     "output_type": "execute_result"
    }
   ],
   "source": [
    "expoGlobe = expoGlobe.fillna(expoGlobeMode)\n",
    "expoGlobe.isnull().sum()"
   ]
  },
  {
   "cell_type": "code",
   "execution_count": 131,
   "id": "457d8358",
   "metadata": {},
   "outputs": [
    {
     "data": {
      "text/plain": [
       "'None'"
      ]
     },
     "execution_count": 131,
     "metadata": {},
     "output_type": "execute_result"
    }
   ],
   "source": [
    "numResearchPubMode = numResearchPub.mode()[0]\n",
    "numResearchPubMode"
   ]
  },
  {
   "cell_type": "code",
   "execution_count": 134,
   "id": "759cc5de",
   "metadata": {},
   "outputs": [
    {
     "data": {
      "text/plain": [
       "0"
      ]
     },
     "execution_count": 134,
     "metadata": {},
     "output_type": "execute_result"
    }
   ],
   "source": [
    "numResearchPub = numResearchPub.fillna(numResearchPubMode)\n",
    "numResearchPub.isnull().sum()"
   ]
  },
  {
   "cell_type": "code",
   "execution_count": 135,
   "id": "65a119b1",
   "metadata": {},
   "outputs": [
    {
     "data": {
      "text/plain": [
       "'Low'"
      ]
     },
     "execution_count": 135,
     "metadata": {},
     "output_type": "execute_result"
    }
   ],
   "source": [
    "timeMarketSrvOrProdMode = timeMarketSrvOrProd.mode()[0]\n",
    "timeMarketSrvOrProdMode"
   ]
  },
  {
   "cell_type": "code",
   "execution_count": 136,
   "id": "ed8bd349",
   "metadata": {},
   "outputs": [
    {
     "data": {
      "text/plain": [
       "0"
      ]
     },
     "execution_count": 136,
     "metadata": {},
     "output_type": "execute_result"
    }
   ],
   "source": [
    "timeMarketSrvOrProd = timeMarketSrvOrProd.fillna(timeMarketSrvOrProdMode)\n",
    "timeMarketSrvOrProd.isnull().sum()"
   ]
  },
  {
   "cell_type": "code",
   "execution_count": 141,
   "id": "8bcce872",
   "metadata": {},
   "outputs": [
    {
     "data": {
      "text/plain": [
       "'No'"
      ]
     },
     "execution_count": 141,
     "metadata": {},
     "output_type": "execute_result"
    }
   ],
   "source": [
    "companyAwardsMode = companyAwards.mode()[0]\n",
    "companyAwardsMode"
   ]
  },
  {
   "cell_type": "code",
   "execution_count": 142,
   "id": "7203ef75",
   "metadata": {},
   "outputs": [
    {
     "data": {
      "text/plain": [
       "0"
      ]
     },
     "execution_count": 142,
     "metadata": {},
     "output_type": "execute_result"
    }
   ],
   "source": [
    "companyAwards = companyAwards.fillna(companyAwardsMode)\n",
    "companyAwards.isnull().sum()"
   ]
  },
  {
   "cell_type": "code",
   "execution_count": 200,
   "id": "39f534e1",
   "metadata": {},
   "outputs": [
    {
     "data": {
      "text/plain": [
       "'Not Applicable'"
      ]
     },
     "execution_count": 200,
     "metadata": {},
     "output_type": "execute_result"
    }
   ],
   "source": [
    "survivalRecessionMode = survivalRecession.mode()[0]\n",
    "survivalRecessionMode"
   ]
  },
  {
   "cell_type": "code",
   "execution_count": 199,
   "id": "3f408d04",
   "metadata": {},
   "outputs": [
    {
     "data": {
      "text/plain": [
       "0"
      ]
     },
     "execution_count": 199,
     "metadata": {},
     "output_type": "execute_result"
    }
   ],
   "source": [
    "survivalRecession = survivalRecession.fillna(survivalRecessionMode)\n",
    "survivalRecession.isnull().sum()"
   ]
  },
  {
   "cell_type": "code",
   "execution_count": null,
   "id": "7c5d4eef",
   "metadata": {},
   "outputs": [],
   "source": []
  },
  {
   "cell_type": "code",
   "execution_count": 146,
   "id": "84f92212",
   "metadata": {},
   "outputs": [
    {
     "data": {
      "text/plain": [
       "2518862.8364779875"
      ]
     },
     "execution_count": 146,
     "metadata": {},
     "output_type": "execute_result"
    }
   ],
   "source": [
    "googlePageRankMean = googlePageRank.mean()\n",
    "googlePageRankMean"
   ]
  },
  {
   "cell_type": "code",
   "execution_count": 147,
   "id": "a21679a5",
   "metadata": {},
   "outputs": [
    {
     "data": {
      "text/plain": [
       "0"
      ]
     },
     "execution_count": 147,
     "metadata": {},
     "output_type": "execute_result"
    }
   ],
   "source": [
    "googlePageRank = googlePageRank.fillna(googlePageRankMean)\n",
    "googlePageRank.isnull().sum()"
   ]
  },
  {
   "cell_type": "code",
   "execution_count": 148,
   "id": "594a1523",
   "metadata": {},
   "outputs": [
    {
     "data": {
      "text/plain": [
       "2.25765306122449"
      ]
     },
     "execution_count": 148,
     "metadata": {},
     "output_type": "execute_result"
    }
   ],
   "source": [
    "numDirCompetitorsMean = numDirCompetitors.mean()\n",
    "numDirCompetitorsMean"
   ]
  },
  {
   "cell_type": "code",
   "execution_count": 149,
   "id": "a382283d",
   "metadata": {},
   "outputs": [
    {
     "data": {
      "text/plain": [
       "0"
      ]
     },
     "execution_count": 149,
     "metadata": {},
     "output_type": "execute_result"
    }
   ],
   "source": [
    "numDirCompetitors = numDirCompetitors.fillna(numDirCompetitorsMean)\n",
    "numDirCompetitors.isnull().sum()"
   ]
  },
  {
   "cell_type": "code",
   "execution_count": 150,
   "id": "2bce93cc",
   "metadata": {},
   "outputs": [
    {
     "data": {
      "text/plain": [
       "18.43607558140408"
      ]
     },
     "execution_count": 150,
     "metadata": {},
     "output_type": "execute_result"
    }
   ],
   "source": [
    "employeePerYearMean = employeePerYear.mean()\n",
    "employeePerYearMean"
   ]
  },
  {
   "cell_type": "code",
   "execution_count": 151,
   "id": "bd8b6323",
   "metadata": {},
   "outputs": [
    {
     "data": {
      "text/plain": [
       "0"
      ]
     },
     "execution_count": 151,
     "metadata": {},
     "output_type": "execute_result"
    }
   ],
   "source": [
    "employeePerYear = employeePerYear.fillna(employeePerYearMean)\n",
    "employeePerYear.isnull().sum()"
   ]
  },
  {
   "cell_type": "code",
   "execution_count": 152,
   "id": "a110a031",
   "metadata": {},
   "outputs": [
    {
     "data": {
      "text/plain": [
       "5.8663301180327885"
      ]
     },
     "execution_count": 152,
     "metadata": {},
     "output_type": "execute_result"
    }
   ],
   "source": [
    "lastRndFndingAmtMilUSDMean = lastRndFndingAmtMilUSD.mean()\n",
    "lastRndFndingAmtMilUSDMean"
   ]
  },
  {
   "cell_type": "code",
   "execution_count": 153,
   "id": "dc766b2c",
   "metadata": {},
   "outputs": [
    {
     "data": {
      "text/plain": [
       "0"
      ]
     },
     "execution_count": 153,
     "metadata": {},
     "output_type": "execute_result"
    }
   ],
   "source": [
    "lastRndFndingAmtMilUSD = lastRndFndingAmtMilUSD.fillna(lastRndFndingAmtMilUSDMean)\n",
    "lastRndFndingAmtMilUSD.isnull().sum()"
   ]
  },
  {
   "cell_type": "code",
   "execution_count": 154,
   "id": "cda59b25",
   "metadata": {},
   "outputs": [
    {
     "data": {
      "text/plain": [
       "10.563414396024061"
      ]
     },
     "execution_count": 154,
     "metadata": {},
     "output_type": "execute_result"
    }
   ],
   "source": [
    "avgTimeInvestmentMean = avgTimeInvestment.mean()\n",
    "avgTimeInvestmentMean"
   ]
  },
  {
   "cell_type": "code",
   "execution_count": 155,
   "id": "ecb1b428",
   "metadata": {},
   "outputs": [
    {
     "data": {
      "text/plain": [
       "0"
      ]
     },
     "execution_count": 155,
     "metadata": {},
     "output_type": "execute_result"
    }
   ],
   "source": [
    "avgTimeInvestment = avgTimeInvestment.fillna(avgTimeInvestmentMean)\n",
    "avgTimeInvestment.isnull().sum()"
   ]
  },
  {
   "cell_type": "code",
   "execution_count": 185,
   "id": "b2e47e4e",
   "metadata": {},
   "outputs": [],
   "source": [
    "# Get the distribution stats of columns value"
   ]
  },
  {
   "cell_type": "code",
   "execution_count": 157,
   "id": "61130495",
   "metadata": {},
   "outputs": [
    {
     "data": {
      "text/plain": [
       "5"
      ]
     },
     "execution_count": 157,
     "metadata": {},
     "output_type": "execute_result"
    }
   ],
   "source": [
    "catCols = [expoGlobe, numResearchPub,timeMarketSrvOrProd, companyAwards, survivalRecession]\n",
    "len(catCols)"
   ]
  },
  {
   "cell_type": "code",
   "execution_count": 158,
   "id": "a0a5062e",
   "metadata": {},
   "outputs": [
    {
     "data": {
      "text/plain": [
       "5"
      ]
     },
     "execution_count": 158,
     "metadata": {},
     "output_type": "execute_result"
    }
   ],
   "source": [
    "numCols = [googlePageRank, numDirCompetitors, employeePerYear, lastRndFndingAmtMilUSD, avgTimeInvestment]\n",
    "len(numCols)"
   ]
  },
  {
   "cell_type": "code",
   "execution_count": 171,
   "id": "dcb0d1d4",
   "metadata": {},
   "outputs": [
    {
     "data": {
      "text/html": [
       "<div>\n",
       "<style scoped>\n",
       "    .dataframe tbody tr th:only-of-type {\n",
       "        vertical-align: middle;\n",
       "    }\n",
       "\n",
       "    .dataframe tbody tr th {\n",
       "        vertical-align: top;\n",
       "    }\n",
       "\n",
       "    .dataframe thead th {\n",
       "        text-align: right;\n",
       "    }\n",
       "</style>\n",
       "<table border=\"1\" class=\"dataframe\">\n",
       "  <thead>\n",
       "    <tr style=\"text-align: right;\">\n",
       "      <th></th>\n",
       "      <th>Exposure across the globe</th>\n",
       "      <th>Number of  of Research publications</th>\n",
       "      <th>Time to market service or product</th>\n",
       "      <th>Company awards</th>\n",
       "      <th>Survival through recession, based on existence of the company through recession times</th>\n",
       "    </tr>\n",
       "  </thead>\n",
       "  <tbody>\n",
       "    <tr>\n",
       "      <th>0</th>\n",
       "      <td>Yes</td>\n",
       "      <td>None</td>\n",
       "      <td>High</td>\n",
       "      <td>No</td>\n",
       "      <td>Not Applicable</td>\n",
       "    </tr>\n",
       "    <tr>\n",
       "      <th>1</th>\n",
       "      <td>Yes</td>\n",
       "      <td>None</td>\n",
       "      <td>Low</td>\n",
       "      <td>No</td>\n",
       "      <td>Not Applicable</td>\n",
       "    </tr>\n",
       "    <tr>\n",
       "      <th>2</th>\n",
       "      <td>Yes</td>\n",
       "      <td>None</td>\n",
       "      <td>Low</td>\n",
       "      <td>No</td>\n",
       "      <td>Not Applicable</td>\n",
       "    </tr>\n",
       "    <tr>\n",
       "      <th>3</th>\n",
       "      <td>Yes</td>\n",
       "      <td>None</td>\n",
       "      <td>Low</td>\n",
       "      <td>No</td>\n",
       "      <td>Not Applicable</td>\n",
       "    </tr>\n",
       "    <tr>\n",
       "      <th>4</th>\n",
       "      <td>Yes</td>\n",
       "      <td>Few</td>\n",
       "      <td>Low</td>\n",
       "      <td>No</td>\n",
       "      <td>Not Applicable</td>\n",
       "    </tr>\n",
       "    <tr>\n",
       "      <th>...</th>\n",
       "      <td>...</td>\n",
       "      <td>...</td>\n",
       "      <td>...</td>\n",
       "      <td>...</td>\n",
       "      <td>...</td>\n",
       "    </tr>\n",
       "    <tr>\n",
       "      <th>467</th>\n",
       "      <td>Yes</td>\n",
       "      <td>None</td>\n",
       "      <td>Low</td>\n",
       "      <td>No</td>\n",
       "      <td>Not Applicable</td>\n",
       "    </tr>\n",
       "    <tr>\n",
       "      <th>468</th>\n",
       "      <td>Yes</td>\n",
       "      <td>None</td>\n",
       "      <td>Low</td>\n",
       "      <td>No</td>\n",
       "      <td>Not Applicable</td>\n",
       "    </tr>\n",
       "    <tr>\n",
       "      <th>469</th>\n",
       "      <td>Yes</td>\n",
       "      <td>None</td>\n",
       "      <td>Low</td>\n",
       "      <td>No</td>\n",
       "      <td>Not Applicable</td>\n",
       "    </tr>\n",
       "    <tr>\n",
       "      <th>470</th>\n",
       "      <td>Yes</td>\n",
       "      <td>None</td>\n",
       "      <td>Low</td>\n",
       "      <td>No</td>\n",
       "      <td>Not Applicable</td>\n",
       "    </tr>\n",
       "    <tr>\n",
       "      <th>471</th>\n",
       "      <td>Yes</td>\n",
       "      <td>None</td>\n",
       "      <td>Low</td>\n",
       "      <td>No</td>\n",
       "      <td>Not Applicable</td>\n",
       "    </tr>\n",
       "  </tbody>\n",
       "</table>\n",
       "<p>472 rows × 5 columns</p>\n",
       "</div>"
      ],
      "text/plain": [
       "    Exposure across the globe Number of  of Research publications  \\\n",
       "0                         Yes                                None   \n",
       "1                         Yes                                None   \n",
       "2                         Yes                                None   \n",
       "3                         Yes                                None   \n",
       "4                         Yes                                 Few   \n",
       "..                        ...                                 ...   \n",
       "467                       Yes                                None   \n",
       "468                       Yes                                None   \n",
       "469                       Yes                                None   \n",
       "470                       Yes                                None   \n",
       "471                       Yes                                None   \n",
       "\n",
       "    Time to market service or product Company awards  \\\n",
       "0                                High             No   \n",
       "1                                 Low             No   \n",
       "2                                 Low             No   \n",
       "3                                 Low             No   \n",
       "4                                 Low             No   \n",
       "..                                ...            ...   \n",
       "467                               Low             No   \n",
       "468                               Low             No   \n",
       "469                               Low             No   \n",
       "470                               Low             No   \n",
       "471                               Low             No   \n",
       "\n",
       "    Survival through recession, based on existence of the company through recession times  \n",
       "0                                       Not Applicable                                     \n",
       "1                                       Not Applicable                                     \n",
       "2                                       Not Applicable                                     \n",
       "3                                       Not Applicable                                     \n",
       "4                                       Not Applicable                                     \n",
       "..                                                 ...                                     \n",
       "467                                     Not Applicable                                     \n",
       "468                                     Not Applicable                                     \n",
       "469                                     Not Applicable                                     \n",
       "470                                     Not Applicable                                     \n",
       "471                                     Not Applicable                                     \n",
       "\n",
       "[472 rows x 5 columns]"
      ]
     },
     "execution_count": 171,
     "metadata": {},
     "output_type": "execute_result"
    }
   ],
   "source": [
    "catColsPD = pd.concat(catCols, axis=1)\n",
    "catColsPD"
   ]
  },
  {
   "cell_type": "code",
   "execution_count": 172,
   "id": "a1d59718",
   "metadata": {},
   "outputs": [
    {
     "data": {
      "text/html": [
       "<div>\n",
       "<style scoped>\n",
       "    .dataframe tbody tr th:only-of-type {\n",
       "        vertical-align: middle;\n",
       "    }\n",
       "\n",
       "    .dataframe tbody tr th {\n",
       "        vertical-align: top;\n",
       "    }\n",
       "\n",
       "    .dataframe thead th {\n",
       "        text-align: right;\n",
       "    }\n",
       "</style>\n",
       "<table border=\"1\" class=\"dataframe\">\n",
       "  <thead>\n",
       "    <tr style=\"text-align: right;\">\n",
       "      <th></th>\n",
       "      <th>google page rank of company website</th>\n",
       "      <th>Number of Direct competitors</th>\n",
       "      <th>Employees per year of company existence</th>\n",
       "      <th>Last round of funding received (in milionUSD)</th>\n",
       "      <th>Avg time to investment - average across all rounds, measured from previous investment</th>\n",
       "    </tr>\n",
       "  </thead>\n",
       "  <tbody>\n",
       "    <tr>\n",
       "      <th>0</th>\n",
       "      <td>9.626884e+06</td>\n",
       "      <td>0.000000</td>\n",
       "      <td>1.500000</td>\n",
       "      <td>0.45000</td>\n",
       "      <td>11.560000</td>\n",
       "    </tr>\n",
       "    <tr>\n",
       "      <th>1</th>\n",
       "      <td>1.067034e+06</td>\n",
       "      <td>0.000000</td>\n",
       "      <td>6.666667</td>\n",
       "      <td>5.00000</td>\n",
       "      <td>9.000000</td>\n",
       "    </tr>\n",
       "    <tr>\n",
       "      <th>2</th>\n",
       "      <td>7.139100e+04</td>\n",
       "      <td>0.000000</td>\n",
       "      <td>3.333333</td>\n",
       "      <td>2.35000</td>\n",
       "      <td>7.344444</td>\n",
       "    </tr>\n",
       "    <tr>\n",
       "      <th>3</th>\n",
       "      <td>1.184700e+04</td>\n",
       "      <td>2.000000</td>\n",
       "      <td>10.000000</td>\n",
       "      <td>10.25000</td>\n",
       "      <td>8.700000</td>\n",
       "    </tr>\n",
       "    <tr>\n",
       "      <th>4</th>\n",
       "      <td>2.018140e+05</td>\n",
       "      <td>0.000000</td>\n",
       "      <td>10.000000</td>\n",
       "      <td>5.50000</td>\n",
       "      <td>9.822222</td>\n",
       "    </tr>\n",
       "    <tr>\n",
       "      <th>...</th>\n",
       "      <td>...</td>\n",
       "      <td>...</td>\n",
       "      <td>...</td>\n",
       "      <td>...</td>\n",
       "      <td>...</td>\n",
       "    </tr>\n",
       "    <tr>\n",
       "      <th>467</th>\n",
       "      <td>2.518863e+06</td>\n",
       "      <td>2.257653</td>\n",
       "      <td>18.436076</td>\n",
       "      <td>5.86633</td>\n",
       "      <td>10.563414</td>\n",
       "    </tr>\n",
       "    <tr>\n",
       "      <th>468</th>\n",
       "      <td>2.518863e+06</td>\n",
       "      <td>2.257653</td>\n",
       "      <td>18.436076</td>\n",
       "      <td>5.86633</td>\n",
       "      <td>10.563414</td>\n",
       "    </tr>\n",
       "    <tr>\n",
       "      <th>469</th>\n",
       "      <td>2.518863e+06</td>\n",
       "      <td>2.257653</td>\n",
       "      <td>18.436076</td>\n",
       "      <td>5.86633</td>\n",
       "      <td>10.563414</td>\n",
       "    </tr>\n",
       "    <tr>\n",
       "      <th>470</th>\n",
       "      <td>2.518863e+06</td>\n",
       "      <td>2.257653</td>\n",
       "      <td>18.436076</td>\n",
       "      <td>5.86633</td>\n",
       "      <td>10.563414</td>\n",
       "    </tr>\n",
       "    <tr>\n",
       "      <th>471</th>\n",
       "      <td>2.518863e+06</td>\n",
       "      <td>2.257653</td>\n",
       "      <td>18.436076</td>\n",
       "      <td>5.86633</td>\n",
       "      <td>10.563414</td>\n",
       "    </tr>\n",
       "  </tbody>\n",
       "</table>\n",
       "<p>472 rows × 5 columns</p>\n",
       "</div>"
      ],
      "text/plain": [
       "     google page rank of company website  Number of Direct competitors  \\\n",
       "0                           9.626884e+06                      0.000000   \n",
       "1                           1.067034e+06                      0.000000   \n",
       "2                           7.139100e+04                      0.000000   \n",
       "3                           1.184700e+04                      2.000000   \n",
       "4                           2.018140e+05                      0.000000   \n",
       "..                                   ...                           ...   \n",
       "467                         2.518863e+06                      2.257653   \n",
       "468                         2.518863e+06                      2.257653   \n",
       "469                         2.518863e+06                      2.257653   \n",
       "470                         2.518863e+06                      2.257653   \n",
       "471                         2.518863e+06                      2.257653   \n",
       "\n",
       "     Employees per year of company existence  \\\n",
       "0                                   1.500000   \n",
       "1                                   6.666667   \n",
       "2                                   3.333333   \n",
       "3                                  10.000000   \n",
       "4                                  10.000000   \n",
       "..                                       ...   \n",
       "467                                18.436076   \n",
       "468                                18.436076   \n",
       "469                                18.436076   \n",
       "470                                18.436076   \n",
       "471                                18.436076   \n",
       "\n",
       "     Last round of funding received (in milionUSD)  \\\n",
       "0                                          0.45000   \n",
       "1                                          5.00000   \n",
       "2                                          2.35000   \n",
       "3                                         10.25000   \n",
       "4                                          5.50000   \n",
       "..                                             ...   \n",
       "467                                        5.86633   \n",
       "468                                        5.86633   \n",
       "469                                        5.86633   \n",
       "470                                        5.86633   \n",
       "471                                        5.86633   \n",
       "\n",
       "     Avg time to investment - average across all rounds, measured from previous investment  \n",
       "0                                            11.560000                                      \n",
       "1                                             9.000000                                      \n",
       "2                                             7.344444                                      \n",
       "3                                             8.700000                                      \n",
       "4                                             9.822222                                      \n",
       "..                                                 ...                                      \n",
       "467                                          10.563414                                      \n",
       "468                                          10.563414                                      \n",
       "469                                          10.563414                                      \n",
       "470                                          10.563414                                      \n",
       "471                                          10.563414                                      \n",
       "\n",
       "[472 rows x 5 columns]"
      ]
     },
     "execution_count": 172,
     "metadata": {},
     "output_type": "execute_result"
    }
   ],
   "source": [
    "numColsPD = pd.concat(numCols, axis=1)\n",
    "numColsPD"
   ]
  },
  {
   "cell_type": "code",
   "execution_count": 182,
   "id": "af0b6492",
   "metadata": {},
   "outputs": [
    {
     "data": {
      "text/html": [
       "<style type=\"text/css\">\n",
       "</style>\n",
       "<table id=\"T_6a559_\">\n",
       "  <thead>\n",
       "    <tr>\n",
       "      <th class=\"blank level0\" >&nbsp;</th>\n",
       "      <th class=\"col_heading level0 col0\" >count</th>\n",
       "      <th class=\"col_heading level0 col1\" >unique</th>\n",
       "      <th class=\"col_heading level0 col2\" >top</th>\n",
       "      <th class=\"col_heading level0 col3\" >freq</th>\n",
       "    </tr>\n",
       "  </thead>\n",
       "  <tbody>\n",
       "    <tr>\n",
       "      <th id=\"T_6a559_level0_row0\" class=\"row_heading level0 row0\" >Exposure across the globe</th>\n",
       "      <td id=\"T_6a559_row0_col0\" class=\"data row0 col0\" >472</td>\n",
       "      <td id=\"T_6a559_row0_col1\" class=\"data row0 col1\" >2</td>\n",
       "      <td id=\"T_6a559_row0_col2\" class=\"data row0 col2\" >Yes</td>\n",
       "      <td id=\"T_6a559_row0_col3\" class=\"data row0 col3\" >331</td>\n",
       "    </tr>\n",
       "    <tr>\n",
       "      <th id=\"T_6a559_level0_row1\" class=\"row_heading level0 row1\" >Number of  of Research publications</th>\n",
       "      <td id=\"T_6a559_row1_col0\" class=\"data row1 col0\" >472</td>\n",
       "      <td id=\"T_6a559_row1_col1\" class=\"data row1 col1\" >3</td>\n",
       "      <td id=\"T_6a559_row1_col2\" class=\"data row1 col2\" >None</td>\n",
       "      <td id=\"T_6a559_row1_col3\" class=\"data row1 col3\" >334</td>\n",
       "    </tr>\n",
       "    <tr>\n",
       "      <th id=\"T_6a559_level0_row2\" class=\"row_heading level0 row2\" >Time to market service or product</th>\n",
       "      <td id=\"T_6a559_row2_col0\" class=\"data row2 col0\" >472</td>\n",
       "      <td id=\"T_6a559_row2_col1\" class=\"data row2 col1\" >3</td>\n",
       "      <td id=\"T_6a559_row2_col2\" class=\"data row2 col2\" >Low</td>\n",
       "      <td id=\"T_6a559_row2_col3\" class=\"data row2 col3\" >336</td>\n",
       "    </tr>\n",
       "    <tr>\n",
       "      <th id=\"T_6a559_level0_row3\" class=\"row_heading level0 row3\" >Company awards</th>\n",
       "      <td id=\"T_6a559_row3_col0\" class=\"data row3 col0\" >472</td>\n",
       "      <td id=\"T_6a559_row3_col1\" class=\"data row3 col1\" >2</td>\n",
       "      <td id=\"T_6a559_row3_col2\" class=\"data row3 col2\" >No</td>\n",
       "      <td id=\"T_6a559_row3_col3\" class=\"data row3 col3\" >396</td>\n",
       "    </tr>\n",
       "    <tr>\n",
       "      <th id=\"T_6a559_level0_row4\" class=\"row_heading level0 row4\" >Survival through recession, based on existence of the company through recession times</th>\n",
       "      <td id=\"T_6a559_row4_col0\" class=\"data row4 col0\" >472</td>\n",
       "      <td id=\"T_6a559_row4_col1\" class=\"data row4 col1\" >3</td>\n",
       "      <td id=\"T_6a559_row4_col2\" class=\"data row4 col2\" >Not Applicable</td>\n",
       "      <td id=\"T_6a559_row4_col3\" class=\"data row4 col3\" >366</td>\n",
       "    </tr>\n",
       "  </tbody>\n",
       "</table>\n"
      ],
      "text/plain": [
       "<pandas.io.formats.style.Styler at 0x7fcbd5873f70>"
      ]
     },
     "execution_count": 182,
     "metadata": {},
     "output_type": "execute_result"
    }
   ],
   "source": [
    "catColsDesc = catColsPD.describe()\n",
    "catColsDesc.T.style.background_gradient(cmap='viridis',low =0.2,high=0.1)"
   ]
  },
  {
   "cell_type": "code",
   "execution_count": 363,
   "id": "2e2a642c",
   "metadata": {},
   "outputs": [
    {
     "data": {
      "text/html": [
       "<style type=\"text/css\">\n",
       "#T_d745d_row0_col0, #T_d745d_row1_col0, #T_d745d_row2_col0, #T_d745d_row3_col0, #T_d745d_row4_col0 {\n",
       "  background-color: #440154;\n",
       "  color: #f1f1f1;\n",
       "}\n",
       "#T_d745d_row0_col1, #T_d745d_row0_col2, #T_d745d_row0_col3, #T_d745d_row0_col4, #T_d745d_row0_col5, #T_d745d_row0_col6, #T_d745d_row0_col7 {\n",
       "  background-color: #cde11d;\n",
       "  color: #000000;\n",
       "}\n",
       "#T_d745d_row1_col1, #T_d745d_row1_col2, #T_d745d_row1_col3, #T_d745d_row1_col4, #T_d745d_row1_col5, #T_d745d_row1_col6, #T_d745d_row1_col7, #T_d745d_row2_col1, #T_d745d_row2_col2, #T_d745d_row2_col3, #T_d745d_row2_col4, #T_d745d_row2_col5, #T_d745d_row2_col6, #T_d745d_row2_col7, #T_d745d_row3_col1, #T_d745d_row3_col2, #T_d745d_row3_col3, #T_d745d_row3_col4, #T_d745d_row3_col5, #T_d745d_row3_col6, #T_d745d_row3_col7, #T_d745d_row4_col1, #T_d745d_row4_col2, #T_d745d_row4_col3, #T_d745d_row4_col4, #T_d745d_row4_col5, #T_d745d_row4_col6, #T_d745d_row4_col7 {\n",
       "  background-color: #453581;\n",
       "  color: #f1f1f1;\n",
       "}\n",
       "</style>\n",
       "<table id=\"T_d745d_\">\n",
       "  <thead>\n",
       "    <tr>\n",
       "      <th class=\"blank level0\" >&nbsp;</th>\n",
       "      <th class=\"col_heading level0 col0\" >count</th>\n",
       "      <th class=\"col_heading level0 col1\" >mean</th>\n",
       "      <th class=\"col_heading level0 col2\" >std</th>\n",
       "      <th class=\"col_heading level0 col3\" >min</th>\n",
       "      <th class=\"col_heading level0 col4\" >25%</th>\n",
       "      <th class=\"col_heading level0 col5\" >50%</th>\n",
       "      <th class=\"col_heading level0 col6\" >75%</th>\n",
       "      <th class=\"col_heading level0 col7\" >max</th>\n",
       "    </tr>\n",
       "  </thead>\n",
       "  <tbody>\n",
       "    <tr>\n",
       "      <th id=\"T_d745d_level0_row0\" class=\"row_heading level0 row0\" >google page rank of company website</th>\n",
       "      <td id=\"T_d745d_row0_col0\" class=\"data row0 col0\" >472.000000</td>\n",
       "      <td id=\"T_d745d_row0_col1\" class=\"data row0 col1\" >2518862.836478</td>\n",
       "      <td id=\"T_d745d_row0_col2\" class=\"data row0 col2\" >3393685.673554</td>\n",
       "      <td id=\"T_d745d_row0_col3\" class=\"data row0 col3\" >483.000000</td>\n",
       "      <td id=\"T_d745d_row0_col4\" class=\"data row0 col4\" >380600.250000</td>\n",
       "      <td id=\"T_d745d_row0_col5\" class=\"data row0 col5\" >2348954.000000</td>\n",
       "      <td id=\"T_d745d_row0_col6\" class=\"data row0 col6\" >2518862.836478</td>\n",
       "      <td id=\"T_d745d_row0_col7\" class=\"data row0 col7\" >22391670.000000</td>\n",
       "    </tr>\n",
       "    <tr>\n",
       "      <th id=\"T_d745d_level0_row1\" class=\"row_heading level0 row1\" >Number of Direct competitors</th>\n",
       "      <td id=\"T_d745d_row1_col0\" class=\"data row1 col0\" >472.000000</td>\n",
       "      <td id=\"T_d745d_row1_col1\" class=\"data row1 col1\" >2.257653</td>\n",
       "      <td id=\"T_d745d_row1_col2\" class=\"data row1 col2\" >4.055082</td>\n",
       "      <td id=\"T_d745d_row1_col3\" class=\"data row1 col3\" >0.000000</td>\n",
       "      <td id=\"T_d745d_row1_col4\" class=\"data row1 col4\" >0.000000</td>\n",
       "      <td id=\"T_d745d_row1_col5\" class=\"data row1 col5\" >1.500000</td>\n",
       "      <td id=\"T_d745d_row1_col6\" class=\"data row1 col6\" >2.257653</td>\n",
       "      <td id=\"T_d745d_row1_col7\" class=\"data row1 col7\" >33.000000</td>\n",
       "    </tr>\n",
       "    <tr>\n",
       "      <th id=\"T_d745d_level0_row2\" class=\"row_heading level0 row2\" >Employees per year of company existence</th>\n",
       "      <td id=\"T_d745d_row2_col0\" class=\"data row2 col0\" >472.000000</td>\n",
       "      <td id=\"T_d745d_row2_col1\" class=\"data row2 col1\" >18.436076</td>\n",
       "      <td id=\"T_d745d_row2_col2\" class=\"data row2 col2\" >56.977528</td>\n",
       "      <td id=\"T_d745d_row2_col3\" class=\"data row2 col3\" >0.000000</td>\n",
       "      <td id=\"T_d745d_row2_col4\" class=\"data row2 col4\" >5.000000</td>\n",
       "      <td id=\"T_d745d_row2_col5\" class=\"data row2 col5\" >12.665000</td>\n",
       "      <td id=\"T_d745d_row2_col6\" class=\"data row2 col6\" >18.436076</td>\n",
       "      <td id=\"T_d745d_row2_col7\" class=\"data row2 col7\" >833.300000</td>\n",
       "    </tr>\n",
       "    <tr>\n",
       "      <th id=\"T_d745d_level0_row3\" class=\"row_heading level0 row3\" >Last round of funding received (in milionUSD)</th>\n",
       "      <td id=\"T_d745d_row3_col0\" class=\"data row3 col0\" >472.000000</td>\n",
       "      <td id=\"T_d745d_row3_col1\" class=\"data row3 col1\" >5.866330</td>\n",
       "      <td id=\"T_d745d_row3_col2\" class=\"data row3 col2\" >6.894420</td>\n",
       "      <td id=\"T_d745d_row3_col3\" class=\"data row3 col3\" >0.010000</td>\n",
       "      <td id=\"T_d745d_row3_col4\" class=\"data row3 col4\" >1.315288</td>\n",
       "      <td id=\"T_d745d_row3_col5\" class=\"data row3 col5\" >5.866330</td>\n",
       "      <td id=\"T_d745d_row3_col6\" class=\"data row3 col6\" >5.866330</td>\n",
       "      <td id=\"T_d745d_row3_col7\" class=\"data row3 col7\" >62.500000</td>\n",
       "    </tr>\n",
       "    <tr>\n",
       "      <th id=\"T_d745d_level0_row4\" class=\"row_heading level0 row4\" >Avg time to investment - average across all rounds, measured from previous investment</th>\n",
       "      <td id=\"T_d745d_row4_col0\" class=\"data row4 col0\" >472.000000</td>\n",
       "      <td id=\"T_d745d_row4_col1\" class=\"data row4 col1\" >10.563414</td>\n",
       "      <td id=\"T_d745d_row4_col2\" class=\"data row4 col2\" >12.369628</td>\n",
       "      <td id=\"T_d745d_row4_col3\" class=\"data row4 col3\" >1.000000</td>\n",
       "      <td id=\"T_d745d_row4_col4\" class=\"data row4 col4\" >4.000000</td>\n",
       "      <td id=\"T_d745d_row4_col5\" class=\"data row4 col5\" >10.233333</td>\n",
       "      <td id=\"T_d745d_row4_col6\" class=\"data row4 col6\" >12.000000</td>\n",
       "      <td id=\"T_d745d_row4_col7\" class=\"data row4 col7\" >156.000000</td>\n",
       "    </tr>\n",
       "  </tbody>\n",
       "</table>\n"
      ],
      "text/plain": [
       "<pandas.io.formats.style.Styler at 0x7fcbd556cfa0>"
      ]
     },
     "execution_count": 363,
     "metadata": {},
     "output_type": "execute_result"
    }
   ],
   "source": [
    "numColsDesc = numColsPD.describe()\n",
    "numColsDesc.T.style.background_gradient(cmap='viridis',low =0.2,high=0.1)"
   ]
  },
  {
   "cell_type": "code",
   "execution_count": null,
   "id": "fdccfc5d",
   "metadata": {},
   "outputs": [],
   "source": []
  },
  {
   "cell_type": "code",
   "execution_count": 184,
   "id": "e4e9e079",
   "metadata": {},
   "outputs": [],
   "source": [
    "#EDA"
   ]
  },
  {
   "cell_type": "code",
   "execution_count": 188,
   "id": "14ea6d81",
   "metadata": {},
   "outputs": [],
   "source": [
    "font={'weight' : 'bold',\n",
    "        'size': 16}"
   ]
  },
  {
   "cell_type": "code",
   "execution_count": 189,
   "id": "7ea9af71",
   "metadata": {},
   "outputs": [
    {
     "data": {
      "image/png": "[encoded data removed]",
      "text/plain": [
       "<Figure size 864x576 with 1 Axes>"
      ]
     },
     "metadata": {
      "needs_background": "light"
     },
     "output_type": "display_data"
    }
   ],
   "source": [
    "plt.figure(figsize=(12,8))\n",
    "\n",
    "ax=sns.countplot(expoGlobe,hue=companyStatus)\n",
    "plt.title(\"Exposure across the globe\",**font)\n",
    "plt.ylabel(\"Number of companies\")\n",
    "plt.xticks(rotation=45)\n",
    "for i in ax.patches:\n",
    "    ax.text(i.get_x(), i.get_height()+2, \\\n",
    "            str(round((i.get_height()), 2)), fontsize=14, color='dimgrey')\n",
    "plt.show()"
   ]
  },
  {
   "cell_type": "code",
   "execution_count": 190,
   "id": "b0678d6d",
   "metadata": {},
   "outputs": [
    {
     "data": {
      "image/png": "[encoded data removed]",
      "text/plain": [
       "<Figure size 864x576 with 1 Axes>"
      ]
     },
     "metadata": {
      "needs_background": "light"
     },
     "output_type": "display_data"
    }
   ],
   "source": [
    "plt.figure(figsize=(12,8))\n",
    "\n",
    "ax=sns.countplot(numResearchPub,hue=companyStatus)\n",
    "plt.title(\"Number of of Research publications\",**font)\n",
    "plt.ylabel(\"Number of companies\")\n",
    "plt.xticks(rotation=45)\n",
    "for i in ax.patches:\n",
    "    ax.text(i.get_x(), i.get_height()+2, \\\n",
    "            str(round((i.get_height()), 2)), fontsize=14, color='dimgrey')\n",
    "plt.show()"
   ]
  },
  {
   "cell_type": "code",
   "execution_count": 191,
   "id": "62b072b3",
   "metadata": {},
   "outputs": [
    {
     "data": {
      "image/png": "[encoded data removed]",
      "text/plain": [
       "<Figure size 864x576 with 1 Axes>"
      ]
     },
     "metadata": {
      "needs_background": "light"
     },
     "output_type": "display_data"
    }
   ],
   "source": [
    "plt.figure(figsize=(12,8))\n",
    "\n",
    "ax=sns.countplot(timeMarketSrvOrProd,hue=companyStatus)\n",
    "plt.title(\"Time to market service or product\",**font)\n",
    "plt.ylabel(\"Number of companies\")\n",
    "plt.xticks(rotation=45)\n",
    "for i in ax.patches:\n",
    "    ax.text(i.get_x(), i.get_height()+2, \\\n",
    "            str(round((i.get_height()), 2)), fontsize=14, color='dimgrey')\n",
    "plt.show()"
   ]
  },
  {
   "cell_type": "code",
   "execution_count": 192,
   "id": "64c65c8a",
   "metadata": {},
   "outputs": [
    {
     "data": {
      "image/png": "[encoded data removed]",
      "text/plain": [
       "<Figure size 864x576 with 1 Axes>"
      ]
     },
     "metadata": {
      "needs_background": "light"
     },
     "output_type": "display_data"
    }
   ],
   "source": [
    "plt.figure(figsize=(12,8))\n",
    "\n",
    "ax=sns.countplot(companyAwards,hue=companyStatus)\n",
    "plt.title(\"Company awards\",**font)\n",
    "plt.ylabel(\"Number of companies\")\n",
    "plt.xticks(rotation=45)\n",
    "for i in ax.patches:\n",
    "    ax.text(i.get_x(), i.get_height()+2, \\\n",
    "            str(round((i.get_height()), 2)), fontsize=14, color='dimgrey')\n",
    "plt.show()"
   ]
  },
  {
   "cell_type": "code",
   "execution_count": 205,
   "id": "187125c4",
   "metadata": {},
   "outputs": [
    {
     "name": "stderr",
     "output_type": "stream",
     "text": [
      "posx and posy should be finite values\n",
      "posx and posy should be finite values\n"
     ]
    },
    {
     "data": {
      "image/png": "[encoded data removed]",
      "text/plain": [
       "<Figure size 864x576 with 1 Axes>"
      ]
     },
     "metadata": {
      "needs_background": "light"
     },
     "output_type": "display_data"
    }
   ],
   "source": [
    "plt.figure(figsize=(12,8))\n",
    "\n",
    "ax=sns.countplot(survivalRecession,hue=companyStatus)\n",
    "plt.title(\"Survival through recession\",**font)\n",
    "plt.ylabel(\"Number of companies\")\n",
    "plt.xticks(rotation=45)\n",
    "for i in ax.patches:\n",
    "    ax.text(i.get_x(), i.get_height()+2, \\\n",
    "            str(round((i.get_height()), 2)), fontsize=14, color='dimgrey')\n",
    "plt.show()"
   ]
  },
  {
   "cell_type": "code",
   "execution_count": null,
   "id": "a205ffd5",
   "metadata": {},
   "outputs": [],
   "source": []
  },
  {
   "cell_type": "code",
   "execution_count": 220,
   "id": "ca3f9bba",
   "metadata": {},
   "outputs": [
    {
     "data": {
      "text/plain": [
       "<Figure size 864x576 with 0 Axes>"
      ]
     },
     "metadata": {},
     "output_type": "display_data"
    },
    {
     "data": {
      "image/png": "[encoded data removed]",
      "text/plain": [
       "<Figure size 869x720 with 1 Axes>"
      ]
     },
     "metadata": {
      "needs_background": "light"
     },
     "output_type": "display_data"
    }
   ],
   "source": [
    "plt.figure(figsize=(12,8))\n",
    "\n",
    "df = pd.concat([numColsPD, companyStatus], axis=1)\n",
    "sns.FacetGrid(df,hue='Dependent-Company Status',height=10)\\\n",
    ".map(sns.distplot,\"google page rank of company website\")\\\n",
    ".add_legend()\n",
    "\n",
    "plt.title(\"google page rank of company website distribution density plot\",**font)\n",
    "plt.show()"
   ]
  },
  {
   "cell_type": "code",
   "execution_count": 218,
   "id": "5a89350e",
   "metadata": {},
   "outputs": [
    {
     "data": {
      "text/plain": [
       "<Figure size 864x576 with 0 Axes>"
      ]
     },
     "metadata": {},
     "output_type": "display_data"
    },
    {
     "data": {
      "image/png": "[encoded data removed]",
      "text/plain": [
       "<Figure size 725x576 with 1 Axes>"
      ]
     },
     "metadata": {
      "needs_background": "light"
     },
     "output_type": "display_data"
    }
   ],
   "source": [
    "plt.figure(figsize=(12,8))\n",
    "\n",
    "df = pd.concat([numColsPD, companyStatus], axis=1)\n",
    "sns.FacetGrid(df,hue='Dependent-Company Status',height=8)\\\n",
    ".map(sns.distplot,\"Number of Direct competitors\")\\\n",
    ".add_legend()\n",
    "\n",
    "plt.title(\" Number of Direct competitors distribution density plot\",**font)\n",
    "plt.show()"
   ]
  },
  {
   "cell_type": "code",
   "execution_count": 225,
   "id": "3cb3c099",
   "metadata": {},
   "outputs": [
    {
     "data": {
      "text/plain": [
       "<Figure size 864x576 with 0 Axes>"
      ]
     },
     "metadata": {},
     "output_type": "display_data"
    },
    {
     "data": {
      "image/png": "[encoded data removed]",
      "text/plain": [
       "<Figure size 725x576 with 1 Axes>"
      ]
     },
     "metadata": {
      "needs_background": "light"
     },
     "output_type": "display_data"
    }
   ],
   "source": [
    "plt.figure(figsize=(12,8))\n",
    "\n",
    "df = pd.concat([numColsPD, companyStatus], axis=1)\n",
    "sns.FacetGrid(df,hue='Dependent-Company Status',height=8)\\\n",
    ".map(sns.distplot,\"Employees per year of company existence\")\\\n",
    ".add_legend()\n",
    "\n",
    "plt.title(\"Employees per year of company existence distribution density plot\",**font)\n",
    "plt.show()"
   ]
  },
  {
   "cell_type": "code",
   "execution_count": 226,
   "id": "4ace076d",
   "metadata": {},
   "outputs": [
    {
     "data": {
      "text/plain": [
       "<Figure size 864x576 with 0 Axes>"
      ]
     },
     "metadata": {},
     "output_type": "display_data"
    },
    {
     "data": {
      "image/png": "[encoded data removed]",
      "text/plain": [
       "<Figure size 869x720 with 1 Axes>"
      ]
     },
     "metadata": {
      "needs_background": "light"
     },
     "output_type": "display_data"
    }
   ],
   "source": [
    "plt.figure(figsize=(12,8))\n",
    "\n",
    "df = pd.concat([numColsPD, companyStatus], axis=1)\n",
    "sns.FacetGrid(df,hue='Dependent-Company Status',height=10)\\\n",
    ".map(sns.distplot,\"Last round of funding received (in milionUSD)\")\\\n",
    ".add_legend()\n",
    "\n",
    "plt.title(\"Last round of funding received (in milionUSD) distribution density plot\",**font)\n",
    "plt.show()"
   ]
  },
  {
   "cell_type": "code",
   "execution_count": 230,
   "id": "fc6ce169",
   "metadata": {},
   "outputs": [
    {
     "data": {
      "text/plain": [
       "<Figure size 864x576 with 0 Axes>"
      ]
     },
     "metadata": {},
     "output_type": "display_data"
    },
    {
     "data": {
      "image/png": "[encoded data removed]",
      "text/plain": [
       "<Figure size 869x720 with 1 Axes>"
      ]
     },
     "metadata": {
      "needs_background": "light"
     },
     "output_type": "display_data"
    }
   ],
   "source": [
    "\n",
    "plt.figure(figsize=(12,8))\n",
    "\n",
    "df = pd.concat([numColsPD, companyStatus], axis=1)\n",
    "sns.FacetGrid(df,hue='Dependent-Company Status',height=10)\\\n",
    ".map(sns.distplot,\"Avg time to investment - average across all rounds, measured from previous investment\")\\\n",
    ".add_legend()\n",
    "\n",
    "plt.title(\"Avg time to investment distribution density plot\",**font)\n",
    "plt.show()"
   ]
  },
  {
   "cell_type": "code",
   "execution_count": null,
   "id": "357bce88",
   "metadata": {},
   "outputs": [],
   "source": []
  },
  {
   "cell_type": "code",
   "execution_count": 241,
   "id": "7116a969",
   "metadata": {},
   "outputs": [
    {
     "data": {
      "image/png": "[encoded data removed]",
      "text/plain": [
       "<Figure size 1080x288 with 2 Axes>"
      ]
     },
     "metadata": {
      "needs_background": "light"
     },
     "output_type": "display_data"
    },
    {
     "name": "stdout",
     "output_type": "stream",
     "text": [
      "google page rank data skew:3.19\n"
     ]
    }
   ],
   "source": [
    "plt.figure(figsize = (15, 4))\n",
    "plt.subplot(1, 2, 1)\n",
    "googlePageRank.hist(grid=False)\n",
    "plt.ylabel('count')\n",
    "plt.subplot(1, 2, 2)\n",
    "sns.boxplot(x=googlePageRank)\n",
    "plt.show()\n",
    "\n",
    "print(f\"google page rank data skew:{round(googlePageRank.skew(),2)}\")"
   ]
  },
  {
   "cell_type": "code",
   "execution_count": 244,
   "id": "576c3355",
   "metadata": {},
   "outputs": [
    {
     "data": {
      "image/png": "[encoded data removed]",
      "text/plain": [
       "<Figure size 1080x288 with 2 Axes>"
      ]
     },
     "metadata": {
      "needs_background": "light"
     },
     "output_type": "display_data"
    },
    {
     "name": "stdout",
     "output_type": "stream",
     "text": [
      "Number of Direct competitors data skew: 4.22\n"
     ]
    }
   ],
   "source": [
    "plt.figure(figsize = (15, 4))\n",
    "plt.subplot(1, 2, 1)\n",
    "numDirCompetitors.hist(grid=False)\n",
    "plt.ylabel('count')\n",
    "plt.subplot(1, 2, 2)\n",
    "sns.boxplot(x=numDirCompetitors)\n",
    "plt.show()\n",
    "\n",
    "print(f\"Number of Direct competitors data skew: {round(numDirCompetitors.skew(), 2)}\")"
   ]
  },
  {
   "cell_type": "code",
   "execution_count": 245,
   "id": "c42fbdd7",
   "metadata": {},
   "outputs": [
    {
     "data": {
      "image/png": "[encoded data removed]",
      "text/plain": [
       "<Figure size 1080x288 with 2 Axes>"
      ]
     },
     "metadata": {
      "needs_background": "light"
     },
     "output_type": "display_data"
    },
    {
     "name": "stdout",
     "output_type": "stream",
     "text": [
      "Employees per year of company existence data skew: 12.86\n"
     ]
    }
   ],
   "source": [
    "plt.figure(figsize = (15, 4))\n",
    "plt.subplot(1, 2, 1)\n",
    "employeePerYear.hist(grid=False)\n",
    "plt.ylabel('count')\n",
    "plt.subplot(1, 2, 2)\n",
    "sns.boxplot(x=employeePerYear)\n",
    "plt.show()\n",
    "\n",
    "print(f\"Employees per year of company existence data skew: {round(employeePerYear.skew(), 2)}\")"
   ]
  },
  {
   "cell_type": "code",
   "execution_count": 246,
   "id": "dd851d59",
   "metadata": {},
   "outputs": [
    {
     "data": {
      "image/png": "[encoded data removed]",
      "text/plain": [
       "<Figure size 1080x288 with 2 Axes>"
      ]
     },
     "metadata": {
      "needs_background": "light"
     },
     "output_type": "display_data"
    },
    {
     "name": "stdout",
     "output_type": "stream",
     "text": [
      "Last round of funding received (in milionUSD) data skew: 3.48\n"
     ]
    }
   ],
   "source": [
    "plt.figure(figsize = (15, 4))\n",
    "plt.subplot(1, 2, 1)\n",
    "lastRndFndingAmtMilUSD.hist(grid=False)\n",
    "plt.ylabel('count')\n",
    "plt.subplot(1, 2, 2)\n",
    "sns.boxplot(x=lastRndFndingAmtMilUSD)\n",
    "plt.show()\n",
    "\n",
    "print(f\"Last round of funding received (in milionUSD) data skew: {round(lastRndFndingAmtMilUSD.skew(), 2)}\")"
   ]
  },
  {
   "cell_type": "code",
   "execution_count": 247,
   "id": "eea6ded9",
   "metadata": {},
   "outputs": [
    {
     "data": {
      "image/png": "[encoded data removed]",
      "text/plain": [
       "<Figure size 1080x288 with 2 Axes>"
      ]
     },
     "metadata": {
      "needs_background": "light"
     },
     "output_type": "display_data"
    },
    {
     "name": "stdout",
     "output_type": "stream",
     "text": [
      "Avg time to investment - average across all rounds, measured from previous investment data skew: 5.48\n"
     ]
    }
   ],
   "source": [
    "plt.figure(figsize = (15, 4))\n",
    "plt.subplot(1, 2, 1)\n",
    "avgTimeInvestment.hist(grid=False)\n",
    "plt.ylabel('count')\n",
    "plt.subplot(1, 2, 2)\n",
    "sns.boxplot(x=avgTimeInvestment)\n",
    "plt.show()\n",
    "\n",
    "print(f\"Avg time to investment - average across all rounds, measured from previous investment data skew: {round(avgTimeInvestment.skew(), 2)}\")"
   ]
  },
  {
   "cell_type": "code",
   "execution_count": null,
   "id": "1ea01563",
   "metadata": {},
   "outputs": [],
   "source": []
  },
  {
   "cell_type": "code",
   "execution_count": 248,
   "id": "4e4108d6",
   "metadata": {},
   "outputs": [],
   "source": [
    "# Apply Turkey's rule to detect outliers\n",
    "# IQR = Q3 - Q1\n",
    "# Lower Boundary: Q1 - 1.5 * IQR\n",
    "# Upper Boundary: Q3 + 1.5 * IQR"
   ]
  },
  {
   "cell_type": "code",
   "execution_count": 249,
   "id": "eb372b50",
   "metadata": {},
   "outputs": [
    {
     "data": {
      "text/html": [
       "<style type=\"text/css\">\n",
       "#T_f5fbc_row0_col0, #T_f5fbc_row1_col0, #T_f5fbc_row2_col0, #T_f5fbc_row3_col0, #T_f5fbc_row4_col0 {\n",
       "  background-color: #440154;\n",
       "  color: #f1f1f1;\n",
       "}\n",
       "#T_f5fbc_row0_col1, #T_f5fbc_row0_col2, #T_f5fbc_row0_col3, #T_f5fbc_row0_col4, #T_f5fbc_row0_col5, #T_f5fbc_row0_col6, #T_f5fbc_row0_col7 {\n",
       "  background-color: #cde11d;\n",
       "  color: #000000;\n",
       "}\n",
       "#T_f5fbc_row1_col1, #T_f5fbc_row1_col2, #T_f5fbc_row1_col3, #T_f5fbc_row1_col4, #T_f5fbc_row1_col5, #T_f5fbc_row1_col6, #T_f5fbc_row1_col7, #T_f5fbc_row2_col1, #T_f5fbc_row2_col2, #T_f5fbc_row2_col3, #T_f5fbc_row2_col4, #T_f5fbc_row2_col5, #T_f5fbc_row2_col6, #T_f5fbc_row2_col7, #T_f5fbc_row3_col1, #T_f5fbc_row3_col2, #T_f5fbc_row3_col3, #T_f5fbc_row3_col4, #T_f5fbc_row3_col5, #T_f5fbc_row3_col6, #T_f5fbc_row3_col7, #T_f5fbc_row4_col1, #T_f5fbc_row4_col2, #T_f5fbc_row4_col3, #T_f5fbc_row4_col4, #T_f5fbc_row4_col5, #T_f5fbc_row4_col6, #T_f5fbc_row4_col7 {\n",
       "  background-color: #453581;\n",
       "  color: #f1f1f1;\n",
       "}\n",
       "</style>\n",
       "<table id=\"T_f5fbc_\">\n",
       "  <thead>\n",
       "    <tr>\n",
       "      <th class=\"blank level0\" >&nbsp;</th>\n",
       "      <th class=\"col_heading level0 col0\" >count</th>\n",
       "      <th class=\"col_heading level0 col1\" >mean</th>\n",
       "      <th class=\"col_heading level0 col2\" >std</th>\n",
       "      <th class=\"col_heading level0 col3\" >min</th>\n",
       "      <th class=\"col_heading level0 col4\" >25%</th>\n",
       "      <th class=\"col_heading level0 col5\" >50%</th>\n",
       "      <th class=\"col_heading level0 col6\" >75%</th>\n",
       "      <th class=\"col_heading level0 col7\" >max</th>\n",
       "    </tr>\n",
       "  </thead>\n",
       "  <tbody>\n",
       "    <tr>\n",
       "      <th id=\"T_f5fbc_level0_row0\" class=\"row_heading level0 row0\" >google page rank of company website</th>\n",
       "      <td id=\"T_f5fbc_row0_col0\" class=\"data row0 col0\" >472.000000</td>\n",
       "      <td id=\"T_f5fbc_row0_col1\" class=\"data row0 col1\" >2518862.836478</td>\n",
       "      <td id=\"T_f5fbc_row0_col2\" class=\"data row0 col2\" >3393685.673554</td>\n",
       "      <td id=\"T_f5fbc_row0_col3\" class=\"data row0 col3\" >483.000000</td>\n",
       "      <td id=\"T_f5fbc_row0_col4\" class=\"data row0 col4\" >380600.250000</td>\n",
       "      <td id=\"T_f5fbc_row0_col5\" class=\"data row0 col5\" >2348954.000000</td>\n",
       "      <td id=\"T_f5fbc_row0_col6\" class=\"data row0 col6\" >2518862.836478</td>\n",
       "      <td id=\"T_f5fbc_row0_col7\" class=\"data row0 col7\" >22391670.000000</td>\n",
       "    </tr>\n",
       "    <tr>\n",
       "      <th id=\"T_f5fbc_level0_row1\" class=\"row_heading level0 row1\" >Number of Direct competitors</th>\n",
       "      <td id=\"T_f5fbc_row1_col0\" class=\"data row1 col0\" >472.000000</td>\n",
       "      <td id=\"T_f5fbc_row1_col1\" class=\"data row1 col1\" >2.257653</td>\n",
       "      <td id=\"T_f5fbc_row1_col2\" class=\"data row1 col2\" >4.055082</td>\n",
       "      <td id=\"T_f5fbc_row1_col3\" class=\"data row1 col3\" >0.000000</td>\n",
       "      <td id=\"T_f5fbc_row1_col4\" class=\"data row1 col4\" >0.000000</td>\n",
       "      <td id=\"T_f5fbc_row1_col5\" class=\"data row1 col5\" >1.500000</td>\n",
       "      <td id=\"T_f5fbc_row1_col6\" class=\"data row1 col6\" >2.257653</td>\n",
       "      <td id=\"T_f5fbc_row1_col7\" class=\"data row1 col7\" >33.000000</td>\n",
       "    </tr>\n",
       "    <tr>\n",
       "      <th id=\"T_f5fbc_level0_row2\" class=\"row_heading level0 row2\" >Employees per year of company existence</th>\n",
       "      <td id=\"T_f5fbc_row2_col0\" class=\"data row2 col0\" >472.000000</td>\n",
       "      <td id=\"T_f5fbc_row2_col1\" class=\"data row2 col1\" >18.436076</td>\n",
       "      <td id=\"T_f5fbc_row2_col2\" class=\"data row2 col2\" >56.977528</td>\n",
       "      <td id=\"T_f5fbc_row2_col3\" class=\"data row2 col3\" >0.000000</td>\n",
       "      <td id=\"T_f5fbc_row2_col4\" class=\"data row2 col4\" >5.000000</td>\n",
       "      <td id=\"T_f5fbc_row2_col5\" class=\"data row2 col5\" >12.665000</td>\n",
       "      <td id=\"T_f5fbc_row2_col6\" class=\"data row2 col6\" >18.436076</td>\n",
       "      <td id=\"T_f5fbc_row2_col7\" class=\"data row2 col7\" >833.300000</td>\n",
       "    </tr>\n",
       "    <tr>\n",
       "      <th id=\"T_f5fbc_level0_row3\" class=\"row_heading level0 row3\" >Last round of funding received (in milionUSD)</th>\n",
       "      <td id=\"T_f5fbc_row3_col0\" class=\"data row3 col0\" >472.000000</td>\n",
       "      <td id=\"T_f5fbc_row3_col1\" class=\"data row3 col1\" >5.866330</td>\n",
       "      <td id=\"T_f5fbc_row3_col2\" class=\"data row3 col2\" >6.894420</td>\n",
       "      <td id=\"T_f5fbc_row3_col3\" class=\"data row3 col3\" >0.010000</td>\n",
       "      <td id=\"T_f5fbc_row3_col4\" class=\"data row3 col4\" >1.315288</td>\n",
       "      <td id=\"T_f5fbc_row3_col5\" class=\"data row3 col5\" >5.866330</td>\n",
       "      <td id=\"T_f5fbc_row3_col6\" class=\"data row3 col6\" >5.866330</td>\n",
       "      <td id=\"T_f5fbc_row3_col7\" class=\"data row3 col7\" >62.500000</td>\n",
       "    </tr>\n",
       "    <tr>\n",
       "      <th id=\"T_f5fbc_level0_row4\" class=\"row_heading level0 row4\" >Avg time to investment - average across all rounds, measured from previous investment</th>\n",
       "      <td id=\"T_f5fbc_row4_col0\" class=\"data row4 col0\" >472.000000</td>\n",
       "      <td id=\"T_f5fbc_row4_col1\" class=\"data row4 col1\" >10.563414</td>\n",
       "      <td id=\"T_f5fbc_row4_col2\" class=\"data row4 col2\" >12.369628</td>\n",
       "      <td id=\"T_f5fbc_row4_col3\" class=\"data row4 col3\" >1.000000</td>\n",
       "      <td id=\"T_f5fbc_row4_col4\" class=\"data row4 col4\" >4.000000</td>\n",
       "      <td id=\"T_f5fbc_row4_col5\" class=\"data row4 col5\" >10.233333</td>\n",
       "      <td id=\"T_f5fbc_row4_col6\" class=\"data row4 col6\" >12.000000</td>\n",
       "      <td id=\"T_f5fbc_row4_col7\" class=\"data row4 col7\" >156.000000</td>\n",
       "    </tr>\n",
       "  </tbody>\n",
       "</table>\n"
      ],
      "text/plain": [
       "<pandas.io.formats.style.Styler at 0x7fcbd839da90>"
      ]
     },
     "execution_count": 249,
     "metadata": {},
     "output_type": "execute_result"
    }
   ],
   "source": [
    "numColsDesc = numColsPD.describe()\n",
    "numColsDesc.T.style.background_gradient(cmap='viridis',low =0.2,high=0.1)"
   ]
  },
  {
   "cell_type": "code",
   "execution_count": 258,
   "id": "4c77c02a",
   "metadata": {},
   "outputs": [
    {
     "data": {
      "text/plain": [
       "380600.25"
      ]
     },
     "execution_count": 258,
     "metadata": {},
     "output_type": "execute_result"
    }
   ],
   "source": [
    "q1Google = googlePageRank.quantile(0.25)\n",
    "q1Google"
   ]
  },
  {
   "cell_type": "code",
   "execution_count": 259,
   "id": "862308b0",
   "metadata": {},
   "outputs": [
    {
     "data": {
      "text/plain": [
       "2518862.8364779875"
      ]
     },
     "execution_count": 259,
     "metadata": {},
     "output_type": "execute_result"
    }
   ],
   "source": [
    "q3Google = googlePageRank.quantile(0.75)\n",
    "q3Google"
   ]
  },
  {
   "cell_type": "code",
   "execution_count": 260,
   "id": "33a19ffb",
   "metadata": {},
   "outputs": [
    {
     "data": {
      "text/plain": [
       "2138262.5864779875"
      ]
     },
     "execution_count": 260,
     "metadata": {},
     "output_type": "execute_result"
    }
   ],
   "source": [
    "IQR_google = q3Google - q1Google\n",
    "IQR_google"
   ]
  },
  {
   "cell_type": "code",
   "execution_count": 262,
   "id": "86315a17",
   "metadata": {},
   "outputs": [
    {
     "data": {
      "text/plain": [
       "-2826793.629716981"
      ]
     },
     "execution_count": 262,
     "metadata": {},
     "output_type": "execute_result"
    }
   ],
   "source": [
    "lowerBndGoogle = q1Google - 1.5 * IQR_google\n",
    "lowerBndGoogle"
   ]
  },
  {
   "cell_type": "code",
   "execution_count": 265,
   "id": "14889d0c",
   "metadata": {},
   "outputs": [
    {
     "data": {
      "text/plain": [
       "5726256.716194969"
      ]
     },
     "execution_count": 265,
     "metadata": {},
     "output_type": "execute_result"
    }
   ],
   "source": [
    "upperBndGoogle = q3Google + 1.5 * IQR_google\n",
    "upperBndGoogle"
   ]
  },
  {
   "cell_type": "code",
   "execution_count": 269,
   "id": "6e929e52",
   "metadata": {},
   "outputs": [
    {
     "data": {
      "text/plain": [
       "Series([], Name: google page rank of company website, dtype: float64)"
      ]
     },
     "execution_count": 269,
     "metadata": {},
     "output_type": "execute_result"
    }
   ],
   "source": [
    "outliersLowerGoogle = googlePageRank[googlePageRank < lowerBndGoogle]\n",
    "outliersLowerGoogle"
   ]
  },
  {
   "cell_type": "code",
   "execution_count": 270,
   "id": "52caa112",
   "metadata": {},
   "outputs": [
    {
     "data": {
      "text/plain": [
       "0       9626884.0\n",
       "27      7253712.0\n",
       "56     12999889.0\n",
       "81      6222945.0\n",
       "90      7355795.0\n",
       "102    10080538.0\n",
       "109    12799600.0\n",
       "113     6864799.0\n",
       "139     8990243.0\n",
       "140     8714861.0\n",
       "146    14598301.0\n",
       "149     7974958.0\n",
       "150    16821322.0\n",
       "163     6536311.0\n",
       "175     6657549.0\n",
       "192    10414376.0\n",
       "210     6773962.0\n",
       "214     6670312.0\n",
       "223     9439938.0\n",
       "232     7020276.0\n",
       "238     8334266.0\n",
       "248    20238024.0\n",
       "258     8709224.0\n",
       "263    14553250.0\n",
       "271    20196505.0\n",
       "278     5851401.0\n",
       "280    18372022.0\n",
       "284     9092587.0\n",
       "288    18581451.0\n",
       "291     7581851.0\n",
       "293     8536058.0\n",
       "296    15201417.0\n",
       "297    14539082.0\n",
       "301     7663291.0\n",
       "303    17173041.0\n",
       "306     6972031.0\n",
       "314     5835588.0\n",
       "326    22391670.0\n",
       "327     6405946.0\n",
       "328    20635527.0\n",
       "336    17887654.0\n",
       "341    11809941.0\n",
       "342     5751747.0\n",
       "356     7078322.0\n",
       "366     9080158.0\n",
       "374    15735768.0\n",
       "Name: google page rank of company website, dtype: float64"
      ]
     },
     "execution_count": 270,
     "metadata": {},
     "output_type": "execute_result"
    }
   ],
   "source": [
    "outliersUpperGoogle = googlePageRank[googlePageRank > upperBndGoogle]\n",
    "outliersUpperGoogle"
   ]
  },
  {
   "cell_type": "code",
   "execution_count": 271,
   "id": "89ffb7af",
   "metadata": {},
   "outputs": [
    {
     "data": {
      "text/plain": [
       "472"
      ]
     },
     "execution_count": 271,
     "metadata": {},
     "output_type": "execute_result"
    }
   ],
   "source": [
    "len(googlePageRank)"
   ]
  },
  {
   "cell_type": "code",
   "execution_count": 272,
   "id": "88e21f6a",
   "metadata": {},
   "outputs": [
    {
     "data": {
      "text/plain": [
       "426"
      ]
     },
     "execution_count": 272,
     "metadata": {},
     "output_type": "execute_result"
    }
   ],
   "source": [
    "len(googlePageRank) - (len(outliersLowerGoogle) + len(outliersUpperGoogle))"
   ]
  },
  {
   "cell_type": "code",
   "execution_count": 341,
   "id": "7304f2f7",
   "metadata": {},
   "outputs": [
    {
     "data": {
      "text/plain": [
       "1      1.067034e+06\n",
       "2      7.139100e+04\n",
       "3      1.184700e+04\n",
       "4      2.018140e+05\n",
       "5      5.918160e+05\n",
       "           ...     \n",
       "467    2.518863e+06\n",
       "468    2.518863e+06\n",
       "469    2.518863e+06\n",
       "470    2.518863e+06\n",
       "471    2.518863e+06\n",
       "Name: google page rank of company website, Length: 426, dtype: float64"
      ]
     },
     "execution_count": 341,
     "metadata": {},
     "output_type": "execute_result"
    }
   ],
   "source": [
    "googlePageRankNoOutliers = googlePageRank[~((googlePageRank < lowerBndGoogle) | (googlePageRank > upperBndGoogle))]\n",
    "googlePageRankNoOutliers"
   ]
  },
  {
   "cell_type": "code",
   "execution_count": 277,
   "id": "91627486",
   "metadata": {},
   "outputs": [
    {
     "data": {
      "text/plain": [
       "426"
      ]
     },
     "execution_count": 277,
     "metadata": {},
     "output_type": "execute_result"
    }
   ],
   "source": [
    "len(googlePageRankNoOutliers)"
   ]
  },
  {
   "cell_type": "code",
   "execution_count": 342,
   "id": "89697ee1",
   "metadata": {},
   "outputs": [
    {
     "data": {
      "text/html": [
       "<div>\n",
       "<style scoped>\n",
       "    .dataframe tbody tr th:only-of-type {\n",
       "        vertical-align: middle;\n",
       "    }\n",
       "\n",
       "    .dataframe tbody tr th {\n",
       "        vertical-align: top;\n",
       "    }\n",
       "\n",
       "    .dataframe thead th {\n",
       "        text-align: right;\n",
       "    }\n",
       "</style>\n",
       "<table border=\"1\" class=\"dataframe\">\n",
       "  <thead>\n",
       "    <tr style=\"text-align: right;\">\n",
       "      <th></th>\n",
       "      <th>google page rank of company website</th>\n",
       "      <th>Dependent-Company Status</th>\n",
       "    </tr>\n",
       "  </thead>\n",
       "  <tbody>\n",
       "    <tr>\n",
       "      <th>1</th>\n",
       "      <td>1.067034e+06</td>\n",
       "      <td>Success</td>\n",
       "    </tr>\n",
       "    <tr>\n",
       "      <th>2</th>\n",
       "      <td>7.139100e+04</td>\n",
       "      <td>Success</td>\n",
       "    </tr>\n",
       "    <tr>\n",
       "      <th>3</th>\n",
       "      <td>1.184700e+04</td>\n",
       "      <td>Success</td>\n",
       "    </tr>\n",
       "    <tr>\n",
       "      <th>4</th>\n",
       "      <td>2.018140e+05</td>\n",
       "      <td>Success</td>\n",
       "    </tr>\n",
       "    <tr>\n",
       "      <th>5</th>\n",
       "      <td>5.918160e+05</td>\n",
       "      <td>Success</td>\n",
       "    </tr>\n",
       "    <tr>\n",
       "      <th>...</th>\n",
       "      <td>...</td>\n",
       "      <td>...</td>\n",
       "    </tr>\n",
       "    <tr>\n",
       "      <th>467</th>\n",
       "      <td>2.518863e+06</td>\n",
       "      <td>Failed</td>\n",
       "    </tr>\n",
       "    <tr>\n",
       "      <th>468</th>\n",
       "      <td>2.518863e+06</td>\n",
       "      <td>Failed</td>\n",
       "    </tr>\n",
       "    <tr>\n",
       "      <th>469</th>\n",
       "      <td>2.518863e+06</td>\n",
       "      <td>Failed</td>\n",
       "    </tr>\n",
       "    <tr>\n",
       "      <th>470</th>\n",
       "      <td>2.518863e+06</td>\n",
       "      <td>Failed</td>\n",
       "    </tr>\n",
       "    <tr>\n",
       "      <th>471</th>\n",
       "      <td>2.518863e+06</td>\n",
       "      <td>Failed</td>\n",
       "    </tr>\n",
       "  </tbody>\n",
       "</table>\n",
       "<p>426 rows × 2 columns</p>\n",
       "</div>"
      ],
      "text/plain": [
       "     google page rank of company website Dependent-Company Status\n",
       "1                           1.067034e+06                  Success\n",
       "2                           7.139100e+04                  Success\n",
       "3                           1.184700e+04                  Success\n",
       "4                           2.018140e+05                  Success\n",
       "5                           5.918160e+05                  Success\n",
       "..                                   ...                      ...\n",
       "467                         2.518863e+06                   Failed\n",
       "468                         2.518863e+06                   Failed\n",
       "469                         2.518863e+06                   Failed\n",
       "470                         2.518863e+06                   Failed\n",
       "471                         2.518863e+06                   Failed\n",
       "\n",
       "[426 rows x 2 columns]"
      ]
     },
     "execution_count": 342,
     "metadata": {},
     "output_type": "execute_result"
    }
   ],
   "source": [
    "googNoOutPD = pd.concat([googlePageRank, companyStatus], axis = 1)\n",
    "googNoOutPD = googNoOutPD[~((googlePageRank < lowerBndGoogle) | (googlePageRank > upperBndGoogle))]\n",
    "googNoOutPD"
   ]
  },
  {
   "cell_type": "code",
   "execution_count": 278,
   "id": "66c31eb6",
   "metadata": {},
   "outputs": [
    {
     "data": {
      "image/png": "[encoded data removed]",
      "text/plain": [
       "<Figure size 1080x288 with 2 Axes>"
      ]
     },
     "metadata": {
      "needs_background": "light"
     },
     "output_type": "display_data"
    },
    {
     "name": "stdout",
     "output_type": "stream",
     "text": [
      "google page rank without outliers data skew:0.41\n"
     ]
    }
   ],
   "source": [
    "plt.figure(figsize = (15, 4))\n",
    "plt.subplot(1, 2, 1)\n",
    "googlePageRankNoOutliers.hist(grid=False)\n",
    "plt.ylabel('count')\n",
    "plt.subplot(1, 2, 2)\n",
    "sns.boxplot(x=googlePageRankNoOutliers)\n",
    "plt.show()\n",
    "\n",
    "print(f\"google page rank without outliers data skew:{round(googlePageRankNoOutliers.skew(),2)}\")"
   ]
  },
  {
   "cell_type": "code",
   "execution_count": null,
   "id": "79b96669",
   "metadata": {},
   "outputs": [],
   "source": []
  },
  {
   "cell_type": "code",
   "execution_count": 279,
   "id": "fbe136a8",
   "metadata": {},
   "outputs": [
    {
     "data": {
      "text/plain": [
       "0.0"
      ]
     },
     "execution_count": 279,
     "metadata": {},
     "output_type": "execute_result"
    }
   ],
   "source": [
    "q1DirCompetitors = numDirCompetitors.quantile(0.25)\n",
    "q1DirCompetitors"
   ]
  },
  {
   "cell_type": "code",
   "execution_count": 280,
   "id": "15cdc59d",
   "metadata": {},
   "outputs": [
    {
     "data": {
      "text/plain": [
       "2.25765306122449"
      ]
     },
     "execution_count": 280,
     "metadata": {},
     "output_type": "execute_result"
    }
   ],
   "source": [
    "q3DirCompetitors = numDirCompetitors.quantile(0.75)\n",
    "q3DirCompetitors"
   ]
  },
  {
   "cell_type": "code",
   "execution_count": 281,
   "id": "bb654356",
   "metadata": {},
   "outputs": [
    {
     "data": {
      "text/plain": [
       "2.25765306122449"
      ]
     },
     "execution_count": 281,
     "metadata": {},
     "output_type": "execute_result"
    }
   ],
   "source": [
    "IQR_DirCompetitors = q3DirCompetitors - q1DirCompetitors\n",
    "IQR_DirCompetitors"
   ]
  },
  {
   "cell_type": "code",
   "execution_count": 282,
   "id": "10a15e63",
   "metadata": {},
   "outputs": [
    {
     "data": {
      "text/plain": [
       "-3.3864795918367347"
      ]
     },
     "execution_count": 282,
     "metadata": {},
     "output_type": "execute_result"
    }
   ],
   "source": [
    "lowerBndDirComp = q1DirCompetitors - 1.5 * IQR_DirCompetitors\n",
    "lowerBndDirComp"
   ]
  },
  {
   "cell_type": "code",
   "execution_count": 283,
   "id": "3eef4594",
   "metadata": {},
   "outputs": [
    {
     "data": {
      "text/plain": [
       "5.644132653061225"
      ]
     },
     "execution_count": 283,
     "metadata": {},
     "output_type": "execute_result"
    }
   ],
   "source": [
    "upperBndDirComp = q3DirCompetitors + 1.5 * IQR_DirCompetitors\n",
    "upperBndDirComp"
   ]
  },
  {
   "cell_type": "code",
   "execution_count": 284,
   "id": "2c17ce3a",
   "metadata": {},
   "outputs": [
    {
     "data": {
      "text/plain": [
       "Series([], Name: Number of Direct competitors, dtype: float64)"
      ]
     },
     "execution_count": 284,
     "metadata": {},
     "output_type": "execute_result"
    }
   ],
   "source": [
    "outliersLowerDirComp = numDirCompetitors[numDirCompetitors < lowerBndDirComp]\n",
    "outliersLowerDirComp"
   ]
  },
  {
   "cell_type": "code",
   "execution_count": 285,
   "id": "4982a519",
   "metadata": {},
   "outputs": [
    {
     "data": {
      "text/plain": [
       "80     33.0\n",
       "81     20.0\n",
       "82     25.0\n",
       "85     12.0\n",
       "90      6.0\n",
       "91      7.0\n",
       "104    15.0\n",
       "126     8.0\n",
       "137    28.0\n",
       "139     9.0\n",
       "146     6.0\n",
       "152     8.0\n",
       "155    12.0\n",
       "171     6.0\n",
       "178    10.0\n",
       "192     7.0\n",
       "205     6.0\n",
       "211     6.0\n",
       "227    11.0\n",
       "228    10.0\n",
       "252     9.0\n",
       "255    19.0\n",
       "256    21.0\n",
       "257    11.0\n",
       "258    13.0\n",
       "268     7.0\n",
       "273     6.0\n",
       "281     7.0\n",
       "283     7.0\n",
       "322     6.0\n",
       "329     8.0\n",
       "335    12.0\n",
       "336    10.0\n",
       "340     8.0\n",
       "354     6.0\n",
       "359    25.0\n",
       "360    16.0\n",
       "362    12.0\n",
       "363    33.0\n",
       "364    18.0\n",
       "Name: Number of Direct competitors, dtype: float64"
      ]
     },
     "execution_count": 285,
     "metadata": {},
     "output_type": "execute_result"
    }
   ],
   "source": [
    "outliersUpperDirComp = numDirCompetitors[numDirCompetitors > upperBndDirComp]\n",
    "outliersUpperDirComp"
   ]
  },
  {
   "cell_type": "code",
   "execution_count": 286,
   "id": "39668f22",
   "metadata": {},
   "outputs": [
    {
     "data": {
      "text/plain": [
       "40"
      ]
     },
     "execution_count": 286,
     "metadata": {},
     "output_type": "execute_result"
    }
   ],
   "source": [
    "len(outliersUpperDirComp)"
   ]
  },
  {
   "cell_type": "code",
   "execution_count": 303,
   "id": "8f437ad3",
   "metadata": {},
   "outputs": [
    {
     "data": {
      "text/plain": [
       "432"
      ]
     },
     "execution_count": 303,
     "metadata": {},
     "output_type": "execute_result"
    }
   ],
   "source": [
    "len(numDirCompetitors) - (len(outliersLowerDirComp) + len(outliersUpperDirComp))"
   ]
  },
  {
   "cell_type": "code",
   "execution_count": 291,
   "id": "7672c5c8",
   "metadata": {},
   "outputs": [
    {
     "data": {
      "text/plain": [
       "0      0.000000\n",
       "1      0.000000\n",
       "2      0.000000\n",
       "3      2.000000\n",
       "4      0.000000\n",
       "         ...   \n",
       "467    2.257653\n",
       "468    2.257653\n",
       "469    2.257653\n",
       "470    2.257653\n",
       "471    2.257653\n",
       "Name: Number of Direct competitors, Length: 432, dtype: float64"
      ]
     },
     "execution_count": 291,
     "metadata": {},
     "output_type": "execute_result"
    }
   ],
   "source": [
    "numDirCompetitorsNoOutliers = numDirCompetitors[~((numDirCompetitors < lowerBndDirComp) | (numDirCompetitors > upperBndDirComp))]\n",
    "numDirCompetitorsNoOutliers"
   ]
  },
  {
   "cell_type": "code",
   "execution_count": 292,
   "id": "1d6b3763",
   "metadata": {},
   "outputs": [
    {
     "data": {
      "text/plain": [
       "432"
      ]
     },
     "execution_count": 292,
     "metadata": {},
     "output_type": "execute_result"
    }
   ],
   "source": [
    "len(numDirCompetitorsNoOutliers)"
   ]
  },
  {
   "cell_type": "code",
   "execution_count": 343,
   "id": "1254fc52",
   "metadata": {},
   "outputs": [
    {
     "data": {
      "text/html": [
       "<div>\n",
       "<style scoped>\n",
       "    .dataframe tbody tr th:only-of-type {\n",
       "        vertical-align: middle;\n",
       "    }\n",
       "\n",
       "    .dataframe tbody tr th {\n",
       "        vertical-align: top;\n",
       "    }\n",
       "\n",
       "    .dataframe thead th {\n",
       "        text-align: right;\n",
       "    }\n",
       "</style>\n",
       "<table border=\"1\" class=\"dataframe\">\n",
       "  <thead>\n",
       "    <tr style=\"text-align: right;\">\n",
       "      <th></th>\n",
       "      <th>Number of Direct competitors</th>\n",
       "      <th>Dependent-Company Status</th>\n",
       "    </tr>\n",
       "  </thead>\n",
       "  <tbody>\n",
       "    <tr>\n",
       "      <th>0</th>\n",
       "      <td>0.000000</td>\n",
       "      <td>Success</td>\n",
       "    </tr>\n",
       "    <tr>\n",
       "      <th>1</th>\n",
       "      <td>0.000000</td>\n",
       "      <td>Success</td>\n",
       "    </tr>\n",
       "    <tr>\n",
       "      <th>2</th>\n",
       "      <td>0.000000</td>\n",
       "      <td>Success</td>\n",
       "    </tr>\n",
       "    <tr>\n",
       "      <th>3</th>\n",
       "      <td>2.000000</td>\n",
       "      <td>Success</td>\n",
       "    </tr>\n",
       "    <tr>\n",
       "      <th>4</th>\n",
       "      <td>0.000000</td>\n",
       "      <td>Success</td>\n",
       "    </tr>\n",
       "    <tr>\n",
       "      <th>...</th>\n",
       "      <td>...</td>\n",
       "      <td>...</td>\n",
       "    </tr>\n",
       "    <tr>\n",
       "      <th>467</th>\n",
       "      <td>2.257653</td>\n",
       "      <td>Failed</td>\n",
       "    </tr>\n",
       "    <tr>\n",
       "      <th>468</th>\n",
       "      <td>2.257653</td>\n",
       "      <td>Failed</td>\n",
       "    </tr>\n",
       "    <tr>\n",
       "      <th>469</th>\n",
       "      <td>2.257653</td>\n",
       "      <td>Failed</td>\n",
       "    </tr>\n",
       "    <tr>\n",
       "      <th>470</th>\n",
       "      <td>2.257653</td>\n",
       "      <td>Failed</td>\n",
       "    </tr>\n",
       "    <tr>\n",
       "      <th>471</th>\n",
       "      <td>2.257653</td>\n",
       "      <td>Failed</td>\n",
       "    </tr>\n",
       "  </tbody>\n",
       "</table>\n",
       "<p>432 rows × 2 columns</p>\n",
       "</div>"
      ],
      "text/plain": [
       "     Number of Direct competitors Dependent-Company Status\n",
       "0                        0.000000                  Success\n",
       "1                        0.000000                  Success\n",
       "2                        0.000000                  Success\n",
       "3                        2.000000                  Success\n",
       "4                        0.000000                  Success\n",
       "..                            ...                      ...\n",
       "467                      2.257653                   Failed\n",
       "468                      2.257653                   Failed\n",
       "469                      2.257653                   Failed\n",
       "470                      2.257653                   Failed\n",
       "471                      2.257653                   Failed\n",
       "\n",
       "[432 rows x 2 columns]"
      ]
     },
     "execution_count": 343,
     "metadata": {},
     "output_type": "execute_result"
    }
   ],
   "source": [
    "numDirCompNoOutPD = pd.concat([numDirCompetitors, companyStatus], axis=1)\n",
    "numDirCompNoOutPD = numDirCompNoOutPD[~((numDirCompetitors < lowerBndDirComp) | (numDirCompetitors > upperBndDirComp))]\n",
    "numDirCompNoOutPD"
   ]
  },
  {
   "cell_type": "code",
   "execution_count": 304,
   "id": "0c46bacb",
   "metadata": {},
   "outputs": [
    {
     "data": {
      "image/png": "[encoded data removed]",
      "text/plain": [
       "<Figure size 1080x288 with 2 Axes>"
      ]
     },
     "metadata": {
      "needs_background": "light"
     },
     "output_type": "display_data"
    },
    {
     "name": "stdout",
     "output_type": "stream",
     "text": [
      "Number of Direct competitors without outliers data skew: 0.72\n"
     ]
    }
   ],
   "source": [
    "plt.figure(figsize = (15, 4))\n",
    "plt.subplot(1, 2, 1)\n",
    "numDirCompetitorsNoOutliers.hist(grid=False)\n",
    "plt.ylabel('count')\n",
    "plt.subplot(1, 2, 2)\n",
    "sns.boxplot(x=numDirCompetitorsNoOutliers)\n",
    "plt.show()\n",
    "\n",
    "print(f\"Number of Direct competitors without outliers data skew: {round(numDirCompetitorsNoOutliers.skew(), 2)}\")"
   ]
  },
  {
   "cell_type": "code",
   "execution_count": null,
   "id": "ed22c671",
   "metadata": {},
   "outputs": [],
   "source": []
  },
  {
   "cell_type": "code",
   "execution_count": 305,
   "id": "4ea19230",
   "metadata": {},
   "outputs": [
    {
     "data": {
      "text/plain": [
       "5.0"
      ]
     },
     "execution_count": 305,
     "metadata": {},
     "output_type": "execute_result"
    }
   ],
   "source": [
    "q1EmpPerYear = employeePerYear.quantile(0.25)\n",
    "q1EmpPerYear"
   ]
  },
  {
   "cell_type": "code",
   "execution_count": 306,
   "id": "77a24bb3",
   "metadata": {},
   "outputs": [
    {
     "data": {
      "text/plain": [
       "18.43607558140408"
      ]
     },
     "execution_count": 306,
     "metadata": {},
     "output_type": "execute_result"
    }
   ],
   "source": [
    "q3EmpPerYear = employeePerYear.quantile(0.75)\n",
    "q3EmpPerYear"
   ]
  },
  {
   "cell_type": "code",
   "execution_count": 308,
   "id": "0d96a800",
   "metadata": {},
   "outputs": [
    {
     "data": {
      "text/plain": [
       "13.43607558140408"
      ]
     },
     "execution_count": 308,
     "metadata": {},
     "output_type": "execute_result"
    }
   ],
   "source": [
    "IQR_EmpPerYear = q3EmpPerYear - q1EmpPerYear\n",
    "IQR_EmpPerYear"
   ]
  },
  {
   "cell_type": "code",
   "execution_count": 309,
   "id": "fd3ca543",
   "metadata": {},
   "outputs": [
    {
     "data": {
      "text/plain": [
       "-15.154113372106117"
      ]
     },
     "execution_count": 309,
     "metadata": {},
     "output_type": "execute_result"
    }
   ],
   "source": [
    "lowerBndEmpPerYear = q1EmpPerYear - 1.5 * IQR_EmpPerYear\n",
    "lowerBndEmpPerYear"
   ]
  },
  {
   "cell_type": "code",
   "execution_count": 310,
   "id": "47d134f0",
   "metadata": {},
   "outputs": [
    {
     "data": {
      "text/plain": [
       "38.59018895351019"
      ]
     },
     "execution_count": 310,
     "metadata": {},
     "output_type": "execute_result"
    }
   ],
   "source": [
    "upperBndEmpPerYear = q3EmpPerYear + 1.5 * IQR_EmpPerYear\n",
    "upperBndEmpPerYear"
   ]
  },
  {
   "cell_type": "code",
   "execution_count": 311,
   "id": "d6f08c4f",
   "metadata": {},
   "outputs": [
    {
     "data": {
      "text/plain": [
       "Series([], Name: Employees per year of company existence, dtype: float64)"
      ]
     },
     "execution_count": 311,
     "metadata": {},
     "output_type": "execute_result"
    }
   ],
   "source": [
    "outliersLowerBndEmpPerYear = employeePerYear[employeePerYear < lowerBndEmpPerYear]\n",
    "outliersLowerBndEmpPerYear"
   ]
  },
  {
   "cell_type": "code",
   "execution_count": 312,
   "id": "ebb4e31c",
   "metadata": {},
   "outputs": [
    {
     "data": {
      "text/plain": [
       "15      40.00\n",
       "32      44.00\n",
       "44     200.00\n",
       "48      47.38\n",
       "54      40.00\n",
       "58      50.00\n",
       "65      81.33\n",
       "76      50.00\n",
       "89      50.00\n",
       "97     315.00\n",
       "154     51.00\n",
       "155     53.60\n",
       "166     42.00\n",
       "167     48.33\n",
       "194     43.00\n",
       "200     75.30\n",
       "219     83.00\n",
       "239     48.00\n",
       "243     99.00\n",
       "248     50.00\n",
       "254     50.00\n",
       "282     50.00\n",
       "286     50.00\n",
       "323    833.30\n",
       "355     50.00\n",
       "364     50.00\n",
       "368    833.30\n",
       "Name: Employees per year of company existence, dtype: float64"
      ]
     },
     "execution_count": 312,
     "metadata": {},
     "output_type": "execute_result"
    }
   ],
   "source": [
    "outlierUpperBndEmpPerYear = employeePerYear[employeePerYear > upperBndEmpPerYear]\n",
    "outlierUpperBndEmpPerYear"
   ]
  },
  {
   "cell_type": "code",
   "execution_count": 313,
   "id": "4ef3f3aa",
   "metadata": {},
   "outputs": [
    {
     "data": {
      "text/plain": [
       "445"
      ]
     },
     "execution_count": 313,
     "metadata": {},
     "output_type": "execute_result"
    }
   ],
   "source": [
    "len(employeePerYear) - (len(outliersLowerBndEmpPerYear) + len(outlierUpperBndEmpPerYear))"
   ]
  },
  {
   "cell_type": "code",
   "execution_count": 314,
   "id": "0e1b77df",
   "metadata": {},
   "outputs": [
    {
     "data": {
      "text/plain": [
       "0       1.500000\n",
       "1       6.666667\n",
       "2       3.333333\n",
       "3      10.000000\n",
       "4      10.000000\n",
       "         ...    \n",
       "467    18.436076\n",
       "468    18.436076\n",
       "469    18.436076\n",
       "470    18.436076\n",
       "471    18.436076\n",
       "Name: Employees per year of company existence, Length: 445, dtype: float64"
      ]
     },
     "execution_count": 314,
     "metadata": {},
     "output_type": "execute_result"
    }
   ],
   "source": [
    "employeePerYearNoOutliers = employeePerYear[~((employeePerYear < lowerBndEmpPerYear) | (employeePerYear > upperBndEmpPerYear))]\n",
    "employeePerYearNoOutliers"
   ]
  },
  {
   "cell_type": "code",
   "execution_count": 315,
   "id": "23d1d522",
   "metadata": {},
   "outputs": [
    {
     "data": {
      "text/plain": [
       "445"
      ]
     },
     "execution_count": 315,
     "metadata": {},
     "output_type": "execute_result"
    }
   ],
   "source": [
    "len(employeePerYearNoOutliers)"
   ]
  },
  {
   "cell_type": "code",
   "execution_count": 344,
   "id": "e1857348",
   "metadata": {},
   "outputs": [
    {
     "data": {
      "text/html": [
       "<div>\n",
       "<style scoped>\n",
       "    .dataframe tbody tr th:only-of-type {\n",
       "        vertical-align: middle;\n",
       "    }\n",
       "\n",
       "    .dataframe tbody tr th {\n",
       "        vertical-align: top;\n",
       "    }\n",
       "\n",
       "    .dataframe thead th {\n",
       "        text-align: right;\n",
       "    }\n",
       "</style>\n",
       "<table border=\"1\" class=\"dataframe\">\n",
       "  <thead>\n",
       "    <tr style=\"text-align: right;\">\n",
       "      <th></th>\n",
       "      <th>Employees per year of company existence</th>\n",
       "      <th>Dependent-Company Status</th>\n",
       "    </tr>\n",
       "  </thead>\n",
       "  <tbody>\n",
       "    <tr>\n",
       "      <th>0</th>\n",
       "      <td>1.500000</td>\n",
       "      <td>Success</td>\n",
       "    </tr>\n",
       "    <tr>\n",
       "      <th>1</th>\n",
       "      <td>6.666667</td>\n",
       "      <td>Success</td>\n",
       "    </tr>\n",
       "    <tr>\n",
       "      <th>2</th>\n",
       "      <td>3.333333</td>\n",
       "      <td>Success</td>\n",
       "    </tr>\n",
       "    <tr>\n",
       "      <th>3</th>\n",
       "      <td>10.000000</td>\n",
       "      <td>Success</td>\n",
       "    </tr>\n",
       "    <tr>\n",
       "      <th>4</th>\n",
       "      <td>10.000000</td>\n",
       "      <td>Success</td>\n",
       "    </tr>\n",
       "    <tr>\n",
       "      <th>...</th>\n",
       "      <td>...</td>\n",
       "      <td>...</td>\n",
       "    </tr>\n",
       "    <tr>\n",
       "      <th>467</th>\n",
       "      <td>18.436076</td>\n",
       "      <td>Failed</td>\n",
       "    </tr>\n",
       "    <tr>\n",
       "      <th>468</th>\n",
       "      <td>18.436076</td>\n",
       "      <td>Failed</td>\n",
       "    </tr>\n",
       "    <tr>\n",
       "      <th>469</th>\n",
       "      <td>18.436076</td>\n",
       "      <td>Failed</td>\n",
       "    </tr>\n",
       "    <tr>\n",
       "      <th>470</th>\n",
       "      <td>18.436076</td>\n",
       "      <td>Failed</td>\n",
       "    </tr>\n",
       "    <tr>\n",
       "      <th>471</th>\n",
       "      <td>18.436076</td>\n",
       "      <td>Failed</td>\n",
       "    </tr>\n",
       "  </tbody>\n",
       "</table>\n",
       "<p>445 rows × 2 columns</p>\n",
       "</div>"
      ],
      "text/plain": [
       "     Employees per year of company existence Dependent-Company Status\n",
       "0                                   1.500000                  Success\n",
       "1                                   6.666667                  Success\n",
       "2                                   3.333333                  Success\n",
       "3                                  10.000000                  Success\n",
       "4                                  10.000000                  Success\n",
       "..                                       ...                      ...\n",
       "467                                18.436076                   Failed\n",
       "468                                18.436076                   Failed\n",
       "469                                18.436076                   Failed\n",
       "470                                18.436076                   Failed\n",
       "471                                18.436076                   Failed\n",
       "\n",
       "[445 rows x 2 columns]"
      ]
     },
     "execution_count": 344,
     "metadata": {},
     "output_type": "execute_result"
    }
   ],
   "source": [
    "empPerYearNoOutPD = pd.concat([employeePerYear, companyStatus], axis=1)\n",
    "empPerYearNoOutPD = empPerYearNoOutPD[~((employeePerYear < lowerBndEmpPerYear) | (employeePerYear > upperBndEmpPerYear))]\n",
    "empPerYearNoOutPD"
   ]
  },
  {
   "cell_type": "code",
   "execution_count": 316,
   "id": "e8365856",
   "metadata": {},
   "outputs": [
    {
     "data": {
      "image/png": "[encoded data removed]",
      "text/plain": [
       "<Figure size 1080x288 with 2 Axes>"
      ]
     },
     "metadata": {
      "needs_background": "light"
     },
     "output_type": "display_data"
    },
    {
     "name": "stdout",
     "output_type": "stream",
     "text": [
      "Employees per year of company existence data skew: 0.23\n"
     ]
    }
   ],
   "source": [
    "plt.figure(figsize = (15, 4))\n",
    "plt.subplot(1, 2, 1)\n",
    "employeePerYearNoOutliers.hist(grid=False)\n",
    "plt.ylabel('count')\n",
    "plt.subplot(1, 2, 2)\n",
    "sns.boxplot(x=employeePerYearNoOutliers)\n",
    "plt.show()\n",
    "\n",
    "print(f\"Employees per year of company existence data skew: {round(employeePerYearNoOutliers.skew(), 2)}\")"
   ]
  },
  {
   "cell_type": "code",
   "execution_count": null,
   "id": "740b5781",
   "metadata": {},
   "outputs": [],
   "source": []
  },
  {
   "cell_type": "code",
   "execution_count": 317,
   "id": "18c3a4cd",
   "metadata": {},
   "outputs": [
    {
     "data": {
      "text/plain": [
       "1.315288"
      ]
     },
     "execution_count": 317,
     "metadata": {},
     "output_type": "execute_result"
    }
   ],
   "source": [
    "q1LastRndFnding = lastRndFndingAmtMilUSD.quantile(0.25)\n",
    "q1LastRndFnding"
   ]
  },
  {
   "cell_type": "code",
   "execution_count": 318,
   "id": "9859a950",
   "metadata": {},
   "outputs": [
    {
     "data": {
      "text/plain": [
       "5.8663301180327885"
      ]
     },
     "execution_count": 318,
     "metadata": {},
     "output_type": "execute_result"
    }
   ],
   "source": [
    "q3LastRndFnding = lastRndFndingAmtMilUSD.quantile(0.75)\n",
    "q3LastRndFnding"
   ]
  },
  {
   "cell_type": "code",
   "execution_count": 319,
   "id": "402fb11b",
   "metadata": {},
   "outputs": [
    {
     "data": {
      "text/plain": [
       "4.551042118032789"
      ]
     },
     "execution_count": 319,
     "metadata": {},
     "output_type": "execute_result"
    }
   ],
   "source": [
    "IQR_LastRndFnding = q3LastRndFnding - q1LastRndFnding\n",
    "IQR_LastRndFnding"
   ]
  },
  {
   "cell_type": "code",
   "execution_count": 320,
   "id": "feba83de",
   "metadata": {},
   "outputs": [
    {
     "data": {
      "text/plain": [
       "-5.511275177049183"
      ]
     },
     "execution_count": 320,
     "metadata": {},
     "output_type": "execute_result"
    }
   ],
   "source": [
    "lowerBndLastRndFunding = q1LastRndFnding - 1.5 * IQR_LastRndFnding\n",
    "lowerBndLastRndFunding"
   ]
  },
  {
   "cell_type": "code",
   "execution_count": 321,
   "id": "12245333",
   "metadata": {},
   "outputs": [
    {
     "data": {
      "text/plain": [
       "12.692893295081971"
      ]
     },
     "execution_count": 321,
     "metadata": {},
     "output_type": "execute_result"
    }
   ],
   "source": [
    "upperBndLastRndFnding = q3LastRndFnding + 1.5 * IQR_LastRndFnding\n",
    "upperBndLastRndFnding"
   ]
  },
  {
   "cell_type": "code",
   "execution_count": 322,
   "id": "174ccda9",
   "metadata": {},
   "outputs": [
    {
     "data": {
      "text/plain": [
       "Series([], Name: Last round of funding received (in milionUSD), dtype: float64)"
      ]
     },
     "execution_count": 322,
     "metadata": {},
     "output_type": "execute_result"
    }
   ],
   "source": [
    "outliersLowerBndLastRndFnding = lastRndFndingAmtMilUSD[lastRndFndingAmtMilUSD < lowerBndLastRndFunding]\n",
    "outliersLowerBndLastRndFnding"
   ]
  },
  {
   "cell_type": "code",
   "execution_count": 323,
   "id": "e78ba319",
   "metadata": {},
   "outputs": [
    {
     "data": {
      "text/plain": [
       "10     16.00\n",
       "15     41.00\n",
       "22     15.00\n",
       "28     15.00\n",
       "32     20.00\n",
       "44     14.00\n",
       "47     30.00\n",
       "48     25.00\n",
       "51     13.00\n",
       "53     15.00\n",
       "65     15.00\n",
       "117    17.00\n",
       "124    35.00\n",
       "130    16.00\n",
       "131    13.00\n",
       "135    62.50\n",
       "136    15.00\n",
       "138    25.00\n",
       "155    43.00\n",
       "156    20.00\n",
       "166    18.00\n",
       "172    15.00\n",
       "177    30.60\n",
       "178    24.00\n",
       "189    16.00\n",
       "192    15.00\n",
       "193    21.00\n",
       "199    19.00\n",
       "200    45.00\n",
       "209    18.00\n",
       "210    12.75\n",
       "221    20.00\n",
       "233    15.50\n",
       "243    30.00\n",
       "261    42.00\n",
       "268    27.50\n",
       "281    13.20\n",
       "316    17.30\n",
       "319    30.00\n",
       "324    15.00\n",
       "325    20.00\n",
       "373    24.00\n",
       "379    15.00\n",
       "384    18.00\n",
       "386    30.00\n",
       "Name: Last round of funding received (in milionUSD), dtype: float64"
      ]
     },
     "execution_count": 323,
     "metadata": {},
     "output_type": "execute_result"
    }
   ],
   "source": [
    "outliersUpperBndLastRndFnding = lastRndFndingAmtMilUSD[lastRndFndingAmtMilUSD > upperBndLastRndFnding]\n",
    "outliersUpperBndLastRndFnding"
   ]
  },
  {
   "cell_type": "code",
   "execution_count": 326,
   "id": "7351b622",
   "metadata": {},
   "outputs": [
    {
     "data": {
      "text/plain": [
       "427"
      ]
     },
     "execution_count": 326,
     "metadata": {},
     "output_type": "execute_result"
    }
   ],
   "source": [
    "len(lastRndFndingAmtMilUSD) - (len(outliersLowerBndLastRndFnding) + len(outliersUpperBndLastRndFnding))"
   ]
  },
  {
   "cell_type": "code",
   "execution_count": 359,
   "id": "ba461be0",
   "metadata": {},
   "outputs": [
    {
     "data": {
      "text/plain": [
       "0       0.45000\n",
       "1       5.00000\n",
       "2       2.35000\n",
       "3      10.25000\n",
       "4       5.50000\n",
       "         ...   \n",
       "467     5.86633\n",
       "468     5.86633\n",
       "469     5.86633\n",
       "470     5.86633\n",
       "471     5.86633\n",
       "Name: Last round of funding received (in milionUSD), Length: 427, dtype: float64"
      ]
     },
     "execution_count": 359,
     "metadata": {},
     "output_type": "execute_result"
    }
   ],
   "source": [
    "lastRndFndingAmtMilUSDNoOutliers = lastRndFndingAmtMilUSD[~((lastRndFndingAmtMilUSD < lowerBndLastRndFunding) | (lastRndFndingAmtMilUSD > upperBndLastRndFnding))]\n",
    "lastRndFndingAmtMilUSDNoOutliers"
   ]
  },
  {
   "cell_type": "code",
   "execution_count": 328,
   "id": "41388e43",
   "metadata": {},
   "outputs": [
    {
     "data": {
      "text/plain": [
       "427"
      ]
     },
     "execution_count": 328,
     "metadata": {},
     "output_type": "execute_result"
    }
   ],
   "source": [
    "len(lastRndFndingAmtMilUSDNoOutliers)"
   ]
  },
  {
   "cell_type": "code",
   "execution_count": 345,
   "id": "22a0551c",
   "metadata": {},
   "outputs": [
    {
     "data": {
      "text/html": [
       "<div>\n",
       "<style scoped>\n",
       "    .dataframe tbody tr th:only-of-type {\n",
       "        vertical-align: middle;\n",
       "    }\n",
       "\n",
       "    .dataframe tbody tr th {\n",
       "        vertical-align: top;\n",
       "    }\n",
       "\n",
       "    .dataframe thead th {\n",
       "        text-align: right;\n",
       "    }\n",
       "</style>\n",
       "<table border=\"1\" class=\"dataframe\">\n",
       "  <thead>\n",
       "    <tr style=\"text-align: right;\">\n",
       "      <th></th>\n",
       "      <th>Last round of funding received (in milionUSD)</th>\n",
       "      <th>Dependent-Company Status</th>\n",
       "    </tr>\n",
       "  </thead>\n",
       "  <tbody>\n",
       "    <tr>\n",
       "      <th>0</th>\n",
       "      <td>0.45000</td>\n",
       "      <td>Success</td>\n",
       "    </tr>\n",
       "    <tr>\n",
       "      <th>1</th>\n",
       "      <td>5.00000</td>\n",
       "      <td>Success</td>\n",
       "    </tr>\n",
       "    <tr>\n",
       "      <th>2</th>\n",
       "      <td>2.35000</td>\n",
       "      <td>Success</td>\n",
       "    </tr>\n",
       "    <tr>\n",
       "      <th>3</th>\n",
       "      <td>10.25000</td>\n",
       "      <td>Success</td>\n",
       "    </tr>\n",
       "    <tr>\n",
       "      <th>4</th>\n",
       "      <td>5.50000</td>\n",
       "      <td>Success</td>\n",
       "    </tr>\n",
       "    <tr>\n",
       "      <th>...</th>\n",
       "      <td>...</td>\n",
       "      <td>...</td>\n",
       "    </tr>\n",
       "    <tr>\n",
       "      <th>467</th>\n",
       "      <td>5.86633</td>\n",
       "      <td>Failed</td>\n",
       "    </tr>\n",
       "    <tr>\n",
       "      <th>468</th>\n",
       "      <td>5.86633</td>\n",
       "      <td>Failed</td>\n",
       "    </tr>\n",
       "    <tr>\n",
       "      <th>469</th>\n",
       "      <td>5.86633</td>\n",
       "      <td>Failed</td>\n",
       "    </tr>\n",
       "    <tr>\n",
       "      <th>470</th>\n",
       "      <td>5.86633</td>\n",
       "      <td>Failed</td>\n",
       "    </tr>\n",
       "    <tr>\n",
       "      <th>471</th>\n",
       "      <td>5.86633</td>\n",
       "      <td>Failed</td>\n",
       "    </tr>\n",
       "  </tbody>\n",
       "</table>\n",
       "<p>427 rows × 2 columns</p>\n",
       "</div>"
      ],
      "text/plain": [
       "     Last round of funding received (in milionUSD) Dependent-Company Status\n",
       "0                                          0.45000                  Success\n",
       "1                                          5.00000                  Success\n",
       "2                                          2.35000                  Success\n",
       "3                                         10.25000                  Success\n",
       "4                                          5.50000                  Success\n",
       "..                                             ...                      ...\n",
       "467                                        5.86633                   Failed\n",
       "468                                        5.86633                   Failed\n",
       "469                                        5.86633                   Failed\n",
       "470                                        5.86633                   Failed\n",
       "471                                        5.86633                   Failed\n",
       "\n",
       "[427 rows x 2 columns]"
      ]
     },
     "execution_count": 345,
     "metadata": {},
     "output_type": "execute_result"
    }
   ],
   "source": [
    "lastRndFndNoOutPD = pd.concat([lastRndFndingAmtMilUSD, companyStatus], axis = 1)\n",
    "lastRndFndNoOutPD = lastRndFndNoOutPD[~((lastRndFndingAmtMilUSD < lowerBndLastRndFunding) | (lastRndFndingAmtMilUSD > upperBndLastRndFnding))]\n",
    "lastRndFndNoOutPD"
   ]
  },
  {
   "cell_type": "code",
   "execution_count": 329,
   "id": "a2f0e429",
   "metadata": {},
   "outputs": [
    {
     "data": {
      "image/png": "[encoded data removed]",
      "text/plain": [
       "<Figure size 1080x288 with 2 Axes>"
      ]
     },
     "metadata": {
      "needs_background": "light"
     },
     "output_type": "display_data"
    },
    {
     "name": "stdout",
     "output_type": "stream",
     "text": [
      "Last round of funding received (in milionUSD) without outliers data skew: 0.18\n"
     ]
    }
   ],
   "source": [
    "plt.figure(figsize = (15, 4))\n",
    "plt.subplot(1, 2, 1)\n",
    "lastRndFndingAmtMilUSDNoOutliers.hist(grid=False)\n",
    "plt.ylabel('count')\n",
    "plt.subplot(1, 2, 2)\n",
    "sns.boxplot(x=lastRndFndingAmtMilUSDNoOutliers)\n",
    "plt.show()\n",
    "\n",
    "print(f\"Last round of funding received (in milionUSD) without outliers data skew: {round(lastRndFndingAmtMilUSDNoOutliers.skew(), 2)}\")"
   ]
  },
  {
   "cell_type": "code",
   "execution_count": null,
   "id": "6fd1dcfc",
   "metadata": {},
   "outputs": [],
   "source": []
  },
  {
   "cell_type": "code",
   "execution_count": 330,
   "id": "4f023a23",
   "metadata": {},
   "outputs": [
    {
     "data": {
      "text/plain": [
       "4.0"
      ]
     },
     "execution_count": 330,
     "metadata": {},
     "output_type": "execute_result"
    }
   ],
   "source": [
    "q1AvgTimeInvest = avgTimeInvestment.quantile(0.25)\n",
    "q1AvgTimeInvest"
   ]
  },
  {
   "cell_type": "code",
   "execution_count": 331,
   "id": "aaa65739",
   "metadata": {},
   "outputs": [
    {
     "data": {
      "text/plain": [
       "12.0"
      ]
     },
     "execution_count": 331,
     "metadata": {},
     "output_type": "execute_result"
    }
   ],
   "source": [
    "q3AvgTimeInvest = avgTimeInvestment.quantile(0.75)\n",
    "q3AvgTimeInvest"
   ]
  },
  {
   "cell_type": "code",
   "execution_count": 332,
   "id": "e95176ad",
   "metadata": {},
   "outputs": [
    {
     "data": {
      "text/plain": [
       "8.0"
      ]
     },
     "execution_count": 332,
     "metadata": {},
     "output_type": "execute_result"
    }
   ],
   "source": [
    "IQR_AvgTimeInvest = q3AvgTimeInvest - q1AvgTimeInvest\n",
    "IQR_AvgTimeInvest"
   ]
  },
  {
   "cell_type": "code",
   "execution_count": 333,
   "id": "8512adc3",
   "metadata": {},
   "outputs": [
    {
     "data": {
      "text/plain": [
       "-8.0"
      ]
     },
     "execution_count": 333,
     "metadata": {},
     "output_type": "execute_result"
    }
   ],
   "source": [
    "lowerBndAvgTimeInvest = q1AvgTimeInvest - 1.5 * IQR_AvgTimeInvest\n",
    "lowerBndAvgTimeInvest"
   ]
  },
  {
   "cell_type": "code",
   "execution_count": 334,
   "id": "a9d32a44",
   "metadata": {},
   "outputs": [
    {
     "data": {
      "text/plain": [
       "24.0"
      ]
     },
     "execution_count": 334,
     "metadata": {},
     "output_type": "execute_result"
    }
   ],
   "source": [
    "upperBndAvgTimeInvest = q3AvgTimeInvest + 1.5 * IQR_AvgTimeInvest\n",
    "upperBndAvgTimeInvest"
   ]
  },
  {
   "cell_type": "code",
   "execution_count": 335,
   "id": "f995145f",
   "metadata": {},
   "outputs": [
    {
     "data": {
      "text/plain": [
       "Series([], Name: Avg time to investment - average across all rounds, measured from previous investment, dtype: float64)"
      ]
     },
     "execution_count": 335,
     "metadata": {},
     "output_type": "execute_result"
    }
   ],
   "source": [
    "outliersLowerBndAvgTimeInvest = avgTimeInvestment[avgTimeInvestment < lowerBndAvgTimeInvest]\n",
    "outliersLowerBndAvgTimeInvest"
   ]
  },
  {
   "cell_type": "code",
   "execution_count": 336,
   "id": "3f8b8bb5",
   "metadata": {},
   "outputs": [
    {
     "data": {
      "text/plain": [
       "14      48.000\n",
       "18      24.625\n",
       "21      96.000\n",
       "26      48.000\n",
       "48     156.000\n",
       "65      75.000\n",
       "69      32.000\n",
       "80      45.000\n",
       "83      35.000\n",
       "92      45.000\n",
       "93      70.000\n",
       "102     47.000\n",
       "145     26.250\n",
       "149     26.000\n",
       "160     72.000\n",
       "167     36.000\n",
       "170     37.000\n",
       "209     40.000\n",
       "218     27.000\n",
       "246     27.000\n",
       "259     45.000\n",
       "303     34.000\n",
       "321     50.000\n",
       "335     38.000\n",
       "338     30.000\n",
       "342     25.000\n",
       "386     40.000\n",
       "Name: Avg time to investment - average across all rounds, measured from previous investment, dtype: float64"
      ]
     },
     "execution_count": 336,
     "metadata": {},
     "output_type": "execute_result"
    }
   ],
   "source": [
    "outliersUpperBndAvgTimeInvest = avgTimeInvestment[avgTimeInvestment > upperBndAvgTimeInvest]\n",
    "outliersUpperBndAvgTimeInvest"
   ]
  },
  {
   "cell_type": "code",
   "execution_count": 337,
   "id": "9630be8f",
   "metadata": {},
   "outputs": [
    {
     "data": {
      "text/plain": [
       "445"
      ]
     },
     "execution_count": 337,
     "metadata": {},
     "output_type": "execute_result"
    }
   ],
   "source": [
    "len(avgTimeInvestment) - (len(outliersLowerBndAvgTimeInvest) + len(outliersUpperBndAvgTimeInvest))"
   ]
  },
  {
   "cell_type": "code",
   "execution_count": 338,
   "id": "7317d0aa",
   "metadata": {},
   "outputs": [
    {
     "data": {
      "text/plain": [
       "0      11.560000\n",
       "1       9.000000\n",
       "2       7.344444\n",
       "3       8.700000\n",
       "4       9.822222\n",
       "         ...    \n",
       "467    10.563414\n",
       "468    10.563414\n",
       "469    10.563414\n",
       "470    10.563414\n",
       "471    10.563414\n",
       "Name: Avg time to investment - average across all rounds, measured from previous investment, Length: 445, dtype: float64"
      ]
     },
     "execution_count": 338,
     "metadata": {},
     "output_type": "execute_result"
    }
   ],
   "source": [
    "avgTimeInvestmentNoOutliers = avgTimeInvestment[~((avgTimeInvestment < lowerBndAvgTimeInvest) | (avgTimeInvestment > upperBndAvgTimeInvest))]\n",
    "avgTimeInvestmentNoOutliers"
   ]
  },
  {
   "cell_type": "code",
   "execution_count": 339,
   "id": "41e429ef",
   "metadata": {},
   "outputs": [
    {
     "data": {
      "text/plain": [
       "445"
      ]
     },
     "execution_count": 339,
     "metadata": {},
     "output_type": "execute_result"
    }
   ],
   "source": [
    "len(avgTimeInvestmentNoOutliers)"
   ]
  },
  {
   "cell_type": "code",
   "execution_count": 346,
   "id": "43ce6cc8",
   "metadata": {},
   "outputs": [
    {
     "data": {
      "text/html": [
       "<div>\n",
       "<style scoped>\n",
       "    .dataframe tbody tr th:only-of-type {\n",
       "        vertical-align: middle;\n",
       "    }\n",
       "\n",
       "    .dataframe tbody tr th {\n",
       "        vertical-align: top;\n",
       "    }\n",
       "\n",
       "    .dataframe thead th {\n",
       "        text-align: right;\n",
       "    }\n",
       "</style>\n",
       "<table border=\"1\" class=\"dataframe\">\n",
       "  <thead>\n",
       "    <tr style=\"text-align: right;\">\n",
       "      <th></th>\n",
       "      <th>Avg time to investment - average across all rounds, measured from previous investment</th>\n",
       "      <th>Dependent-Company Status</th>\n",
       "    </tr>\n",
       "  </thead>\n",
       "  <tbody>\n",
       "    <tr>\n",
       "      <th>0</th>\n",
       "      <td>11.560000</td>\n",
       "      <td>Success</td>\n",
       "    </tr>\n",
       "    <tr>\n",
       "      <th>1</th>\n",
       "      <td>9.000000</td>\n",
       "      <td>Success</td>\n",
       "    </tr>\n",
       "    <tr>\n",
       "      <th>2</th>\n",
       "      <td>7.344444</td>\n",
       "      <td>Success</td>\n",
       "    </tr>\n",
       "    <tr>\n",
       "      <th>3</th>\n",
       "      <td>8.700000</td>\n",
       "      <td>Success</td>\n",
       "    </tr>\n",
       "    <tr>\n",
       "      <th>4</th>\n",
       "      <td>9.822222</td>\n",
       "      <td>Success</td>\n",
       "    </tr>\n",
       "    <tr>\n",
       "      <th>...</th>\n",
       "      <td>...</td>\n",
       "      <td>...</td>\n",
       "    </tr>\n",
       "    <tr>\n",
       "      <th>467</th>\n",
       "      <td>10.563414</td>\n",
       "      <td>Failed</td>\n",
       "    </tr>\n",
       "    <tr>\n",
       "      <th>468</th>\n",
       "      <td>10.563414</td>\n",
       "      <td>Failed</td>\n",
       "    </tr>\n",
       "    <tr>\n",
       "      <th>469</th>\n",
       "      <td>10.563414</td>\n",
       "      <td>Failed</td>\n",
       "    </tr>\n",
       "    <tr>\n",
       "      <th>470</th>\n",
       "      <td>10.563414</td>\n",
       "      <td>Failed</td>\n",
       "    </tr>\n",
       "    <tr>\n",
       "      <th>471</th>\n",
       "      <td>10.563414</td>\n",
       "      <td>Failed</td>\n",
       "    </tr>\n",
       "  </tbody>\n",
       "</table>\n",
       "<p>445 rows × 2 columns</p>\n",
       "</div>"
      ],
      "text/plain": [
       "     Avg time to investment - average across all rounds, measured from previous investment  \\\n",
       "0                                            11.560000                                       \n",
       "1                                             9.000000                                       \n",
       "2                                             7.344444                                       \n",
       "3                                             8.700000                                       \n",
       "4                                             9.822222                                       \n",
       "..                                                 ...                                       \n",
       "467                                          10.563414                                       \n",
       "468                                          10.563414                                       \n",
       "469                                          10.563414                                       \n",
       "470                                          10.563414                                       \n",
       "471                                          10.563414                                       \n",
       "\n",
       "    Dependent-Company Status  \n",
       "0                    Success  \n",
       "1                    Success  \n",
       "2                    Success  \n",
       "3                    Success  \n",
       "4                    Success  \n",
       "..                       ...  \n",
       "467                   Failed  \n",
       "468                   Failed  \n",
       "469                   Failed  \n",
       "470                   Failed  \n",
       "471                   Failed  \n",
       "\n",
       "[445 rows x 2 columns]"
      ]
     },
     "execution_count": 346,
     "metadata": {},
     "output_type": "execute_result"
    }
   ],
   "source": [
    "avgTimeInvNoOutPD = pd.concat([avgTimeInvestment, companyStatus], axis=1)\n",
    "avgTimeInvNoOutPD = avgTimeInvNoOutPD[~((avgTimeInvestment < lowerBndAvgTimeInvest) | (avgTimeInvestment > upperBndAvgTimeInvest))]\n",
    "avgTimeInvNoOutPD"
   ]
  },
  {
   "cell_type": "code",
   "execution_count": 340,
   "id": "6eaf5199",
   "metadata": {},
   "outputs": [
    {
     "data": {
      "image/png": "[encoded data removed]",
      "text/plain": [
       "<Figure size 1080x288 with 2 Axes>"
      ]
     },
     "metadata": {
      "needs_background": "light"
     },
     "output_type": "display_data"
    },
    {
     "name": "stdout",
     "output_type": "stream",
     "text": [
      "Avg time to investment - average across all rounds, measured from previous investment without outliers data skew: 0.54\n"
     ]
    }
   ],
   "source": [
    "plt.figure(figsize = (15, 4))\n",
    "plt.subplot(1, 2, 1)\n",
    "avgTimeInvestmentNoOutliers.hist(grid=False)\n",
    "plt.ylabel('count')\n",
    "plt.subplot(1, 2, 2)\n",
    "sns.boxplot(x=avgTimeInvestmentNoOutliers)\n",
    "plt.show()\n",
    "\n",
    "print(f\"Avg time to investment - average across all rounds, measured from previous investment without outliers data skew: {round(avgTimeInvestmentNoOutliers.skew(), 2)}\")"
   ]
  },
  {
   "cell_type": "code",
   "execution_count": null,
   "id": "73f1d21f",
   "metadata": {},
   "outputs": [],
   "source": []
  },
  {
   "cell_type": "code",
   "execution_count": null,
   "id": "2d9a3409",
   "metadata": {},
   "outputs": [],
   "source": []
  },
  {
   "cell_type": "code",
   "execution_count": 347,
   "id": "0655ca16",
   "metadata": {},
   "outputs": [
    {
     "data": {
      "text/plain": [
       "<Figure size 864x576 with 0 Axes>"
      ]
     },
     "metadata": {},
     "output_type": "display_data"
    },
    {
     "data": {
      "image/png": "[encoded data removed]",
      "text/plain": [
       "<Figure size 869x720 with 1 Axes>"
      ]
     },
     "metadata": {
      "needs_background": "light"
     },
     "output_type": "display_data"
    }
   ],
   "source": [
    "plt.figure(figsize=(12,8))\n",
    "\n",
    "sns.FacetGrid(googNoOutPD,hue='Dependent-Company Status',height=10)\\\n",
    ".map(sns.distplot,\"google page rank of company website\")\\\n",
    ".add_legend()\n",
    "\n",
    "plt.title(\"google page rank of company no outliers website distribution density plot\",**font)\n",
    "plt.show()"
   ]
  },
  {
   "cell_type": "code",
   "execution_count": 349,
   "id": "49ffd783",
   "metadata": {},
   "outputs": [
    {
     "data": {
      "text/plain": [
       "<Figure size 864x576 with 0 Axes>"
      ]
     },
     "metadata": {},
     "output_type": "display_data"
    },
    {
     "data": {
      "image/png": "[encoded data removed]",
      "text/plain": [
       "<Figure size 725x576 with 1 Axes>"
      ]
     },
     "metadata": {
      "needs_background": "light"
     },
     "output_type": "display_data"
    }
   ],
   "source": [
    "plt.figure(figsize=(12,8))\n",
    "\n",
    "sns.FacetGrid(numDirCompNoOutPD,hue='Dependent-Company Status',height=8)\\\n",
    ".map(sns.distplot,\"Number of Direct competitors\")\\\n",
    ".add_legend()\n",
    "\n",
    "plt.title(\" Number of Direct competitors no outliers distribution density plot\",**font)\n",
    "plt.show()"
   ]
  },
  {
   "cell_type": "code",
   "execution_count": 353,
   "id": "75069eb6",
   "metadata": {},
   "outputs": [
    {
     "data": {
      "text/plain": [
       "<Figure size 864x576 with 0 Axes>"
      ]
     },
     "metadata": {},
     "output_type": "display_data"
    },
    {
     "data": {
      "image/png": "[encoded data removed]",
      "text/plain": [
       "<Figure size 725x576 with 1 Axes>"
      ]
     },
     "metadata": {
      "needs_background": "light"
     },
     "output_type": "display_data"
    }
   ],
   "source": [
    "plt.figure(figsize=(12,8))\n",
    "\n",
    "sns.FacetGrid(empPerYearNoOutPD,hue='Dependent-Company Status',height=8)\\\n",
    ".map(sns.distplot,\"Employees per year of company existence\")\\\n",
    ".add_legend()\n",
    "\n",
    "plt.title(\"Employees per year of company existence no outliers distribution density plot\",**font)\n",
    "plt.show()"
   ]
  },
  {
   "cell_type": "code",
   "execution_count": 350,
   "id": "8c3db9f3",
   "metadata": {},
   "outputs": [
    {
     "data": {
      "text/plain": [
       "<Figure size 864x576 with 0 Axes>"
      ]
     },
     "metadata": {},
     "output_type": "display_data"
    },
    {
     "data": {
      "image/png": "[encoded data removed]",
      "text/plain": [
       "<Figure size 869x720 with 1 Axes>"
      ]
     },
     "metadata": {
      "needs_background": "light"
     },
     "output_type": "display_data"
    }
   ],
   "source": [
    "plt.figure(figsize=(12,8))\n",
    "\n",
    "sns.FacetGrid(lastRndFndNoOutPD,hue='Dependent-Company Status',height=10)\\\n",
    ".map(sns.distplot,\"Last round of funding received (in milionUSD)\")\\\n",
    ".add_legend()\n",
    "\n",
    "plt.title(\"Last round of funding received (in milionUSD) no outliers distribution density plot\",**font)\n",
    "plt.show()"
   ]
  },
  {
   "cell_type": "code",
   "execution_count": 352,
   "id": "131aa9d6",
   "metadata": {},
   "outputs": [
    {
     "data": {
      "text/plain": [
       "<Figure size 864x576 with 0 Axes>"
      ]
     },
     "metadata": {},
     "output_type": "display_data"
    },
    {
     "data": {
      "image/png": "[encoded data removed]",
      "text/plain": [
       "<Figure size 869x720 with 1 Axes>"
      ]
     },
     "metadata": {
      "needs_background": "light"
     },
     "output_type": "display_data"
    }
   ],
   "source": [
    "\n",
    "plt.figure(figsize=(12,8))\n",
    "\n",
    "sns.FacetGrid(avgTimeInvNoOutPD,hue='Dependent-Company Status',height=10)\\\n",
    ".map(sns.distplot,\"Avg time to investment - average across all rounds, measured from previous investment\")\\\n",
    ".add_legend()\n",
    "\n",
    "plt.title(\"Avg time to investment distribution no outliers density plot\",**font)\n",
    "plt.show()"
   ]
  },
  {
   "cell_type": "code",
   "execution_count": 361,
   "id": "1e387c7e",
   "metadata": {},
   "outputs": [],
   "source": []
  },
  {
   "cell_type": "code",
   "execution_count": 362,
   "id": "3951a107",
   "metadata": {},
   "outputs": [
    {
     "data": {
      "image/png": "[encoded data removed]",
      "text/plain": [
       "<Figure size 864x504 with 2 Axes>"
      ]
     },
     "metadata": {
      "needs_background": "light"
     },
     "output_type": "display_data"
    }
   ],
   "source": [
    "plt.figure(figsize=(12, 7))\n",
    "df = pd.concat([googlePageRankNoOutliers, numDirCompetitorsNoOutliers, employeePerYearNoOutliers, \\\n",
    "                lastRndFndingAmtMilUSDNoOutliers, avgTimeInvestmentNoOutliers, companyStatus], axis=1)\n",
    "sns.heatmap(df.corr(), annot = True, vmin = -1, vmax = 1)\n",
    "plt.show()"
   ]
  },
  {
   "cell_type": "code",
   "execution_count": null,
   "id": "fbb9d48a",
   "metadata": {},
   "outputs": [],
   "source": []
  }
 ],
 "metadata": {
  "kernelspec": {
   "display_name": "Python 3 (ipykernel)",
   "language": "python",
   "name": "python3"
  },
  "language_info": {
   "codemirror_mode": {
    "name": "ipython",
    "version": 3
   },
   "file_extension": ".py",
   "mimetype": "text/x-python",
   "name": "python",
   "nbconvert_exporter": "python",
   "pygments_lexer": "ipython3",
   "version": "3.9.7"
  }
 },
 "nbformat": 4,
 "nbformat_minor": 5
}
